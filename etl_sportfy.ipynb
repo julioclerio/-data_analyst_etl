{
  "nbformat": 4,
  "nbformat_minor": 0,
  "metadata": {
    "colab": {
      "provenance": []
    },
    "kernelspec": {
      "name": "python3",
      "display_name": "Python 3"
    },
    "language_info": {
      "name": "python"
    }
  },
  "cells": [
    {
      "cell_type": "code",
      "execution_count": null,
      "metadata": {
        "colab": {
          "base_uri": "https://localhost:8080/"
        },
        "id": "CoEVHx7YkSEA",
        "outputId": "236873f7-9242-4693-f54d-9288c178ea0b"
      },
      "outputs": [
        {
          "output_type": "stream",
          "name": "stdout",
          "text": [
            "Looking in indexes: https://pypi.org/simple, https://us-python.pkg.dev/colab-wheels/public/simple/\n",
            "Collecting pyspark\n",
            "  Downloading pyspark-3.4.0.tar.gz (310.8 MB)\n",
            "\u001b[2K     \u001b[90m━━━━━━━━━━━━━━━━━━━━━━━━━━━━━━━━━━━━━━━\u001b[0m \u001b[32m310.8/310.8 MB\u001b[0m \u001b[31m4.5 MB/s\u001b[0m eta \u001b[36m0:00:00\u001b[0m\n",
            "\u001b[?25h  Preparing metadata (setup.py) ... \u001b[?25l\u001b[?25hdone\n",
            "Requirement already satisfied: py4j==0.10.9.7 in /usr/local/lib/python3.9/dist-packages (from pyspark) (0.10.9.7)\n",
            "Building wheels for collected packages: pyspark\n",
            "  Building wheel for pyspark (setup.py) ... \u001b[?25l\u001b[?25hdone\n",
            "  Created wheel for pyspark: filename=pyspark-3.4.0-py2.py3-none-any.whl size=311317145 sha256=c9a3e9ee073915a8802f85f1bab2d6c9a5f7da805f6508b4f8c114123c9d12e9\n",
            "  Stored in directory: /root/.cache/pip/wheels/9f/34/a4/159aa12d0a510d5ff7c8f0220abbea42e5d81ecf588c4fd884\n",
            "Successfully built pyspark\n",
            "Installing collected packages: pyspark\n",
            "Successfully installed pyspark-3.4.0\n"
          ]
        }
      ],
      "source": [
        "!pip install pyspark"
      ]
    },
    {
      "cell_type": "code",
      "source": [
        "from pyspark.sql import SparkSession\n",
        "import pyspark.sql.functions as F\n",
        "import numpy as np\n",
        "import matplotlib.pyplot as plt\n",
        "import seaborn as sns\n",
        "import warnings\n",
        "warnings.filterwarnings(\"ignore\")"
      ],
      "metadata": {
        "id": "Hwr877K-kfJo"
      },
      "execution_count": null,
      "outputs": []
    },
    {
      "cell_type": "code",
      "source": [
        "# criando uma sessão spark\n",
        "spark = (SparkSession.builder\n",
        "                     .master('local')\n",
        "                     .appName('ex2 13-04-23')\n",
        "                     .config('spark.ui.port', '4050')\n",
        "                     .getOrCreate()\n",
        ")"
      ],
      "metadata": {
        "id": "P4vwFmBkkmuN"
      },
      "execution_count": null,
      "outputs": []
    },
    {
      "cell_type": "code",
      "source": [
        "# abrindo o dataframe no spark\n",
        "df = (\n",
        "    spark.read\n",
        "         .format('csv')\n",
        "         .option('delimiter', ',')\n",
        "         .option('header', 'true')\n",
        "         .option('inferschema', 'true')\n",
        "         .option(\"encoding\", \"utf-8\")\n",
        "         .option('escape' , '\"')\n",
        "         .load('/content/drive/MyDrive/PySpark/spotify - spotify.csv')\n",
        ")"
      ],
      "metadata": {
        "id": "yhz_Ux-5kvjr"
      },
      "execution_count": null,
      "outputs": []
    },
    {
      "cell_type": "code",
      "source": [
        "#primeiro passo é descobrir o tamanho do dataframe\n",
        "print(f'({df.count()}, {len(df.columns)})')"
      ],
      "metadata": {
        "colab": {
          "base_uri": "https://localhost:8080/"
        },
        "id": "hVArePt6yeoA",
        "outputId": "972bdbcd-c368-49a6-f363-0a43ca2dad68"
      },
      "execution_count": null,
      "outputs": [
        {
          "output_type": "stream",
          "name": "stdout",
          "text": [
            "(18835, 16)\n"
          ]
        }
      ]
    },
    {
      "cell_type": "code",
      "source": [
        "#segundo passo é verificar a tipagem das colunas\n",
        "df.printSchema()"
      ],
      "metadata": {
        "id": "CbgbtgJUk1_n",
        "colab": {
          "base_uri": "https://localhost:8080/"
        },
        "outputId": "1300f082-1bfd-44e6-c325-3b19f81f0b78"
      },
      "execution_count": null,
      "outputs": [
        {
          "output_type": "stream",
          "name": "stdout",
          "text": [
            "root\n",
            " |-- _c0: integer (nullable = true)\n",
            " |-- song_name: string (nullable = true)\n",
            " |-- song_popularity: string (nullable = true)\n",
            " |-- song_duration_ms: string (nullable = true)\n",
            " |-- acousticness: string (nullable = true)\n",
            " |-- danceability: string (nullable = true)\n",
            " |-- energy: string (nullable = true)\n",
            " |-- instrumentalness: string (nullable = true)\n",
            " |-- key: integer (nullable = true)\n",
            " |-- liveness: string (nullable = true)\n",
            " |-- loudness: string (nullable = true)\n",
            " |-- audio_mode: string (nullable = true)\n",
            " |-- speechiness: string (nullable = true)\n",
            " |-- tempo: string (nullable = true)\n",
            " |-- time_signature: string (nullable = true)\n",
            " |-- audio_valence: string (nullable = true)\n",
            "\n"
          ]
        }
      ]
    },
    {
      "cell_type": "code",
      "source": [
        "# visualizar todo o dataframe\n",
        "df.show(truncate=False)"
      ],
      "metadata": {
        "id": "JlJRoNRrlPCN",
        "colab": {
          "base_uri": "https://localhost:8080/"
        },
        "outputId": "cb8ab407-3e3a-410d-90b2-229ca96e6a4b"
      },
      "execution_count": null,
      "outputs": [
        {
          "output_type": "stream",
          "name": "stdout",
          "text": [
            "+---+--------------------------+---------------+----------------+----------------------+-----------------------+---------------------+---------------------+---+----------------------+-----------------------+----------+----------------------+-------+--------------+---------------------+\n",
            "|_c0|song_name                 |song_popularity|song_duration_ms|acousticness          |danceability           |energy               |instrumentalness     |key|liveness              |loudness               |audio_mode|speechiness           |tempo  |time_signature|audio_valence        |\n",
            "+---+--------------------------+---------------+----------------+----------------------+-----------------------+---------------------+---------------------+---+----------------------+-----------------------+----------+----------------------+-------+--------------+---------------------+\n",
            "|0  |Boulevard of Broken Dreams|73             |262333          |0.005520000000000001kg|0.496mol/L             |682                  |2.94e-05             |8  |589                   |-4.095                 |1         |294                   |167.06 |4             |474                  |\n",
            "|1  |In The End                |66             |216933          |0.0103kg              |0.542mol/L             |853                  |0.0                  |3  |108                   |-6.407                 |0         |498                   |105.256|4             |0.37                 |\n",
            "|2  |Seven Nation Army         |76             |231733          |0.00817kg             |0.737mol/L             |463                  |447                  |0  |255                   |-78.279.999.999.999.900|1         |792                   |123.881|4             |324                  |\n",
            "|3  |By The Way                |74             |216933          |0.0264kg              |0.451mol/L             |0.97                 |355                  |0  |102                   |-4.938                 |1         |107                   |122.444|4             |198                  |\n",
            "|4  |How You Remind Me         |56             |223826          |0.000954kg            |0.447mol/L             |7.659.999.999.999.990|0.0                  |10 |113                   |-5.065                 |1         |313                   |172.011|4             |574                  |\n",
            "|5  |Bring Me To Life          |80             |235893          |0.00895kg             |0.316mol/L             |945                  |1.85e-06             |4  |396                   |-3.169                 |0         |124                   |189.931|4             |0.32                 |\n",
            "|6  |Last Resort               |81             |199893          |0.000504kg            |0.581mol/L             |887                  |111                  |4  |268                   |-3.659                 |0         |624                   |90.578 |4             |7.240.000.000.000.000|\n",
            "|7  |Are You Gonna Be My Girl  |76             |213800          |0.00148kg             |0.613mol/L             |953                  |582                  |2  |152                   |-3.435                 |1         |855                   |105.046|4             |537                  |\n",
            "|8  |Mr. Brightside            |80             |222586          |0.00108kg             |0.33mol/L              |936                  |0.0                  |1  |926                   |-3.66                  |1         |917                   |148.112|4             |234                  |\n",
            "|9  |Sex on Fire               |81             |203346          |0.00172kg             |0.542mol/L             |905                  |104                  |9  |136                   |-5.653                 |1         |54.000.000.000.000.000|153.398|4             |374                  |\n",
            "|10 |The Middle                |78             |168253          |0.0424kg              |0.629mol/L             |897                  |0.0                  |2  |263                   |-3.401                 |1         |483                   |161.944|4             |0.93                 |\n",
            "|11 |Numb                      |63             |185586          |0.0046kg              |0.496mol/L             |863                  |0.0                  |9  |639                   |-41.530.000.000.000.000|1         |381                   |110.018|4             |243                  |\n",
            "|12 |Smooth Criminal           |75             |209266          |0.00434kg             |0.647mol/L             |964                  |36                   |9  |0.15                  |-4.225                 |0         |0.06                  |126.942|4             |875                  |\n",
            "|13 |Can't Stop                |81             |269000          |0.0179kg              |0.618mol/L             |938                  |0.0                  |9  |16.699.999.999.999.900|-3.442                 |1         |456                   |91.455 |4             |875                  |\n",
            "|14 |Chop Suey!                |69             |210240          |0.000353kg            |0.42mol/L              |929                  |7.469.999.999.999.990|7  |122                   |-3.899                 |0         |121                   |127.204|4             |0.3                  |\n",
            "|15 |Take Me Out               |77             |237026          |0.000423kg            |0.278mol/L             |6.759.999.999.999.990|8.990.000.000.000.000|9  |136                   |-8.821                 |1         |371                   |104.545|4             |494                  |\n",
            "|16 |I Miss You                |71             |227240          |0.00136kg             |0.659mol/L             |778                  |6.79e-06             |11 |841                   |-6.422.999.999.999.990 |1         |379                   |110.022|4             |623                  |\n",
            "|17 |Best of You               |62             |256600          |0.00701kg             |0.37mol/L              |944                  |2.9e-06              |1  |135                   |-4.979                 |0         |767                   |130.315|4             |345                  |\n",
            "|18 |I Write Sins Not Tragedies|77             |187613          |0.0938kg              |0.5670000000000001mol/L|795                  |0.0                  |9  |114                   |-4.985                 |0         |134                   |170.06 |4             |635                  |\n",
            "|19 |Kryptonite                |79             |233933          |0.006640000000000001kg|0.545mol/L             |865                  |1.12e-05             |11 |168                   |-5.707.999.999.999.990 |0         |286                   |99.01  |4             |5.429.999.999.999.990|\n",
            "+---+--------------------------+---------------+----------------+----------------------+-----------------------+---------------------+---------------------+---+----------------------+-----------------------+----------+----------------------+-------+--------------+---------------------+\n",
            "only showing top 20 rows\n",
            "\n"
          ]
        }
      ]
    },
    {
      "cell_type": "code",
      "source": [
        "# terceiro passo e saber se existem colunas duplicadas\n",
        "# para isto drop na coluna ID, somente se não foi fazer um join de outros dataframes\n",
        "df = df.drop(F.col('_c0'))"
      ],
      "metadata": {
        "id": "3UzzzokGy0r8"
      },
      "execution_count": null,
      "outputs": []
    },
    {
      "cell_type": "code",
      "source": [
        "# criar primeiro backup sempre antes de qualquer drop\n",
        "df_backup1 = df"
      ],
      "metadata": {
        "id": "5XDCqx5xzE-c"
      },
      "execution_count": null,
      "outputs": []
    },
    {
      "cell_type": "code",
      "source": [
        "# contar duplicados\n",
        "total = df.count() - df.dropDuplicates().count()\n",
        "print(total)"
      ],
      "metadata": {
        "colab": {
          "base_uri": "https://localhost:8080/"
        },
        "id": "bICFQcNdzYaI",
        "outputId": "c6fad1b6-da46-4936-ec54-fe6a68a9d293"
      },
      "execution_count": null,
      "outputs": [
        {
          "output_type": "stream",
          "name": "stdout",
          "text": [
            "3903\n"
          ]
        }
      ]
    },
    {
      "cell_type": "code",
      "source": [
        "# realizar backup sempre antes de um drop\n",
        "df_backup2 = df"
      ],
      "metadata": {
        "id": "60GW2YYHzxhe"
      },
      "execution_count": null,
      "outputs": []
    },
    {
      "cell_type": "code",
      "source": [
        "# dropar as colunas duplicadas\n",
        "df = df.drop_duplicates()"
      ],
      "metadata": {
        "id": "SSNPTD7-zlHR"
      },
      "execution_count": null,
      "outputs": []
    },
    {
      "cell_type": "code",
      "source": [
        "# verificar a contagem para verificar se foi aplicado o drop corretamente\n",
        "df.count()"
      ],
      "metadata": {
        "id": "Oe4nPB3Z0T5a",
        "colab": {
          "base_uri": "https://localhost:8080/"
        },
        "outputId": "daded4e4-d21d-424a-e65b-41714ad18a41"
      },
      "execution_count": null,
      "outputs": [
        {
          "output_type": "execute_result",
          "data": {
            "text/plain": [
              "14932"
            ]
          },
          "metadata": {},
          "execution_count": 101
        }
      ]
    },
    {
      "cell_type": "code",
      "source": [
        "# verificar summary de todo o data frame\n",
        "df.summary().show()"
      ],
      "metadata": {
        "id": "Phxpgo9a0cYe",
        "colab": {
          "base_uri": "https://localhost:8080/"
        },
        "outputId": "0de9c5a6-3300-4583-97cd-53a1e3888942"
      },
      "execution_count": null,
      "outputs": [
        {
          "output_type": "stream",
          "name": "stdout",
          "text": [
            "+-------+--------------------+------------------+--------------------+------------+------------+------------------+------------------+------------------+------------------+------------------+------------------+------------------+------------------+--------------------+------------------+\n",
            "|summary|           song_name|   song_popularity|    song_duration_ms|acousticness|danceability|            energy|  instrumentalness|               key|          liveness|          loudness|        audio_mode|       speechiness|             tempo|      time_signature|     audio_valence|\n",
            "+-------+--------------------+------------------+--------------------+------------+------------+------------------+------------------+------------------+------------------+------------------+------------------+------------------+------------------+--------------------+------------------+\n",
            "|  count|               14932|             14932|               14932|       14932|       14932|             14932|             14932|             14932|             14932|             14932|             14932|             14932|             14932|               14932|             14931|\n",
            "|   mean|  1129.1927027027027| 48.75768535262206|-1.24075009321023...|        null|        0.36| 561.9800836174702|164.04899082378358|5.3124832574336995| 356.5487989103521| -8.23044986301368|0.6388721452012591|380.77141751865184|120.50111643379941|  187533.25394816152| 471.3430587135959|\n",
            "| stddev|   860.3999787393735|20.379617796732816|1.516370758100701E11|        null|        null|291.86382826990985|275.64384140340974|3.8580737829433662|304.91184959447065|23.169846851333855|0.9808890060852382|222.33194608052295| 28.07510847684067|2.2914668720862366E7|283.51723708524145|\n",
            "|    min|\"40\" - Live Versi...|                 0|     -18528908788662|  0.000101kg| 0.0594mol/L|               0.0|               0.0|                 0|            -8.575|             -0.79|                 0|               0.0|               0.0|                   0|               0.0|\n",
            "|    25%|               123.0|              37.0|            183935.0|        null|        0.36|             391.0|               0.0|                 2|             116.0|            -9.743|               0.0|             251.0|            99.562|                 4.0|             261.0|\n",
            "|    50%|              1412.0|              52.0|            211840.0|        null|        0.36|             607.0|           1.13E-5|                 5|             225.0|            -6.879|               1.0|             356.0|           119.959|                 4.0|             469.0|\n",
            "|    75%|              1975.0|              64.0|            244720.0|        null|        0.36|             799.0|             223.0|                 8|             612.0|            -4.895|               1.0|             499.0|           137.079|                 4.0|             695.0|\n",
            "|    max|          피 땀 눈물|           nao_sei|               99775|  9.85e-05kg|    0.9mol/L|           nao_sei|           nao_sei|               177|           nao_sei|           nao_sei|           nao_sei|               998|           nao_sei|             nao_sei|               997|\n",
            "+-------+--------------------+------------------+--------------------+------------+------------+------------------+------------------+------------------+------------------+------------------+------------------+------------------+------------------+--------------------+------------------+\n",
            "\n"
          ]
        }
      ]
    },
    {
      "cell_type": "code",
      "source": [
        "# limpeza dos dados com informações inconsistentes na coluna acoustincness\n",
        "# primeiro tentando por replace\n",
        "df.replace('kg', '', subset='acousticness').show()"
      ],
      "metadata": {
        "id": "oPWC1Gdq0lT5",
        "colab": {
          "base_uri": "https://localhost:8080/"
        },
        "outputId": "53cbe950-e02d-4aa8-c9a3-06459873f475"
      },
      "execution_count": null,
      "outputs": [
        {
          "output_type": "stream",
          "name": "stdout",
          "text": [
            "+--------------------+---------------+----------------+--------------------+--------------------+--------------------+--------------------+---+--------------------+--------------------+----------+-----------+--------------------+--------------+--------------------+\n",
            "|           song_name|song_popularity|song_duration_ms|        acousticness|        danceability|              energy|    instrumentalness|key|            liveness|            loudness|audio_mode|speechiness|               tempo|time_signature|       audio_valence|\n",
            "+--------------------+---------------+----------------+--------------------+--------------------+--------------------+--------------------+---+--------------------+--------------------+----------+-----------+--------------------+--------------+--------------------+\n",
            "|Lambada - Origina...|             67|          207466|             0.211kg|0.755999999999999...|                 0.8|                 723|  5|                  47|              -5.158|         1|        329|             118.921|             4|                 967|\n",
            "|  Losing My Religion|             28|          267733|            0.0767kg|          0.672mol/L|                 841|                 0.0|  9|                 135|-5.992.000.000.00...|         0|        285|             125.437|             4|                0.82|\n",
            "|Love The Way You Lie|             20|          158146|             0.188kg|0.437000000000000...|                 878|                 0.0| 10|35.100.000.000.00...|              -3.876|         1|        396|7.947.399.999.999...|             4|                 621|\n",
            "|Shake, Rattle And...|             59|          150466|             0.159kg|0.670999999999999...|                 679|                 0.0|  5|                 158|             -11.237|         1|        142|             166.726|             4|                0.82|\n",
            "|This Old Heart Of...|             19|          164960|             0.236kg|           0.63mol/L|                 644|                 0.0|  5|                 265|-63.210.000.000.0...|         1|         29|             131.593|             4|                 926|\n",
            "|    Careless Whisper|             68|          302600|             0.232kg|          0.583mol/L|                 545|                 0.0|  2|                 133|             -11.698|         0|        351|              153.25|             4|                 0.8|\n",
            "|        Walk Of Life|             38|          249960|             0.405kg|          0.461mol/L|                 918|                  33|  4|                 126|              -8.507|         1|        959|             172.435|             4|                 802|\n",
            "|         The Morning|             72|          312426|             0.317kg|          0.652mol/L|5.489.999.999.999...|                 0.0|  6|                 104|              -7.555|         0|         39|             120.073|             4|18.600.000.000.00...|\n",
            "|            Balloons|             43|          180666|            0.0826kg|0.582000000000000...|                 984|                 153|  9|                 713|              -1.962|         0|        529|15.394.299.999.99...|             4|7.709.999.999.999...|\n",
            "|          Echo Beach|             58|          219866|              0.13kg|           0.54mol/L|                 746|            8.73e-06|  7|                 976|              -9.412|         1|         45|             163.809|             4|                 826|\n",
            "|        I Want Candy|             42|          161933|0.002610000000000...|          0.674mol/L|                 797|                 358|  7|                 832|              -8.205|         1|        807|             110.062|             4|                 688|\n",
            "|            Teardrop|             70|          330773|            0.0173kg|          0.615mol/L|                 419|4.970.000.000.000...| 11|                 135|                -8.8|         0|        395|              76.997|             4|21.600.000.000.00...|\n",
            "|             Napkins|             63|          215625|             0.431kg|          0.747mol/L|                 444|            1.25e-06|  0|                 106|              -8.976|         0|        386|             144.138|             4|                0.66|\n",
            "|               Erase|             63|          236794|             0.688kg|          0.657mol/L|                 376|            2.54e-05|  9|                 272|              -6.534|         1|        463|              84.905|             4|                 575|\n",
            "|            Medicine|             28|          223259|             0.206kg|          0.611mol/L|                 412|                 0.0|  8|                 0.1|              -7.445|         0|        202|             116.078|             4|                 116|\n",
            "|          Wide World|             19|          213540|             0.899kg|          0.547mol/L|                 693|                 121| 11|                 705|               -7.18|         0|        286|             168.093|             4|                 634|\n",
            "|    Reminder - Remix|             65|          221968|             0.149kg|          0.745mol/L|                0.65|                 0.0|  0|                 107|-5.992.000.000.00...|         0|        227|             159.994|             4|                 521|\n",
            "|I Get The Bag (fe...|             12|          233087|            0.0232kg|           0.89mol/L|                 633|                 343| 11|                 993|              -5.475|         1|        168|13.994.799.999.99...|             4|                 425|\n",
            "|    Sweet Soul Music|             60|          141066|             0.104kg|           0.59mol/L|                 659|            6.56e-06|  5|35.600.000.000.00...|              -9.669|         1|        697|8.020.100.000.000...|             4|                 965|\n",
            "|             Envidia|             37|          189000|0.8059999999999999kg|          0.618mol/L|                 261|            2.62e-05| 10|                  92|              -12.86|         1|        358|              83.676|             4|                 552|\n",
            "+--------------------+---------------+----------------+--------------------+--------------------+--------------------+--------------------+---+--------------------+--------------------+----------+-----------+--------------------+--------------+--------------------+\n",
            "only showing top 20 rows\n",
            "\n"
          ]
        }
      ]
    },
    {
      "cell_type": "code",
      "source": [
        "# replace não deu certo, passar para o próximo metodo\n",
        "# podemos tentar o método split\n",
        "df.withColumn('acousticness', F.split(F.col('acousticness'), 'kg').getItem(0)).show()"
      ],
      "metadata": {
        "id": "UaHxjj_803f0",
        "colab": {
          "base_uri": "https://localhost:8080/"
        },
        "outputId": "b3d4c704-3ac3-4f80-b6bc-56c73ba6e136"
      },
      "execution_count": null,
      "outputs": [
        {
          "output_type": "stream",
          "name": "stdout",
          "text": [
            "+--------------------+---------------+----------------+--------------------+--------------------+--------------------+--------------------+---+--------------------+--------------------+----------+-----------+--------------------+--------------+--------------------+\n",
            "|           song_name|song_popularity|song_duration_ms|        acousticness|        danceability|              energy|    instrumentalness|key|            liveness|            loudness|audio_mode|speechiness|               tempo|time_signature|       audio_valence|\n",
            "+--------------------+---------------+----------------+--------------------+--------------------+--------------------+--------------------+---+--------------------+--------------------+----------+-----------+--------------------+--------------+--------------------+\n",
            "|Lambada - Origina...|             67|          207466|               0.211|0.755999999999999...|                 0.8|                 723|  5|                  47|              -5.158|         1|        329|             118.921|             4|                 967|\n",
            "|  Losing My Religion|             28|          267733|              0.0767|          0.672mol/L|                 841|                 0.0|  9|                 135|-5.992.000.000.00...|         0|        285|             125.437|             4|                0.82|\n",
            "|Love The Way You Lie|             20|          158146|               0.188|0.437000000000000...|                 878|                 0.0| 10|35.100.000.000.00...|              -3.876|         1|        396|7.947.399.999.999...|             4|                 621|\n",
            "|Shake, Rattle And...|             59|          150466|               0.159|0.670999999999999...|                 679|                 0.0|  5|                 158|             -11.237|         1|        142|             166.726|             4|                0.82|\n",
            "|This Old Heart Of...|             19|          164960|               0.236|           0.63mol/L|                 644|                 0.0|  5|                 265|-63.210.000.000.0...|         1|         29|             131.593|             4|                 926|\n",
            "|    Careless Whisper|             68|          302600|               0.232|          0.583mol/L|                 545|                 0.0|  2|                 133|             -11.698|         0|        351|              153.25|             4|                 0.8|\n",
            "|        Walk Of Life|             38|          249960|               0.405|          0.461mol/L|                 918|                  33|  4|                 126|              -8.507|         1|        959|             172.435|             4|                 802|\n",
            "|         The Morning|             72|          312426|               0.317|          0.652mol/L|5.489.999.999.999...|                 0.0|  6|                 104|              -7.555|         0|         39|             120.073|             4|18.600.000.000.00...|\n",
            "|            Balloons|             43|          180666|              0.0826|0.582000000000000...|                 984|                 153|  9|                 713|              -1.962|         0|        529|15.394.299.999.99...|             4|7.709.999.999.999...|\n",
            "|          Echo Beach|             58|          219866|                0.13|           0.54mol/L|                 746|            8.73e-06|  7|                 976|              -9.412|         1|         45|             163.809|             4|                 826|\n",
            "|        I Want Candy|             42|          161933|0.002610000000000...|          0.674mol/L|                 797|                 358|  7|                 832|              -8.205|         1|        807|             110.062|             4|                 688|\n",
            "|            Teardrop|             70|          330773|              0.0173|          0.615mol/L|                 419|4.970.000.000.000...| 11|                 135|                -8.8|         0|        395|              76.997|             4|21.600.000.000.00...|\n",
            "|             Napkins|             63|          215625|               0.431|          0.747mol/L|                 444|            1.25e-06|  0|                 106|              -8.976|         0|        386|             144.138|             4|                0.66|\n",
            "|               Erase|             63|          236794|               0.688|          0.657mol/L|                 376|            2.54e-05|  9|                 272|              -6.534|         1|        463|              84.905|             4|                 575|\n",
            "|            Medicine|             28|          223259|               0.206|          0.611mol/L|                 412|                 0.0|  8|                 0.1|              -7.445|         0|        202|             116.078|             4|                 116|\n",
            "|          Wide World|             19|          213540|               0.899|          0.547mol/L|                 693|                 121| 11|                 705|               -7.18|         0|        286|             168.093|             4|                 634|\n",
            "|    Reminder - Remix|             65|          221968|               0.149|          0.745mol/L|                0.65|                 0.0|  0|                 107|-5.992.000.000.00...|         0|        227|             159.994|             4|                 521|\n",
            "|I Get The Bag (fe...|             12|          233087|              0.0232|           0.89mol/L|                 633|                 343| 11|                 993|              -5.475|         1|        168|13.994.799.999.99...|             4|                 425|\n",
            "|    Sweet Soul Music|             60|          141066|               0.104|           0.59mol/L|                 659|            6.56e-06|  5|35.600.000.000.00...|              -9.669|         1|        697|8.020.100.000.000...|             4|                 965|\n",
            "|             Envidia|             37|          189000|  0.8059999999999999|          0.618mol/L|                 261|            2.62e-05| 10|                  92|              -12.86|         1|        358|              83.676|             4|                 552|\n",
            "+--------------------+---------------+----------------+--------------------+--------------------+--------------------+--------------------+---+--------------------+--------------------+----------+-----------+--------------------+--------------+--------------------+\n",
            "only showing top 20 rows\n",
            "\n"
          ]
        }
      ]
    },
    {
      "cell_type": "code",
      "source": [
        "# outra opção que funciona é o regax replace\n",
        "df.select(F.regexp_replace(F.col(\"acousticness\"), 'kg', '')).show()"
      ],
      "metadata": {
        "id": "Jeu2KCbn1str",
        "colab": {
          "base_uri": "https://localhost:8080/"
        },
        "outputId": "bcee504a-7f52-4c75-9f65-277d75bc3242"
      },
      "execution_count": null,
      "outputs": [
        {
          "output_type": "stream",
          "name": "stdout",
          "text": [
            "+-------------------------------------+\n",
            "|regexp_replace(acousticness, kg, , 1)|\n",
            "+-------------------------------------+\n",
            "|                                0.211|\n",
            "|                               0.0767|\n",
            "|                                0.188|\n",
            "|                                0.159|\n",
            "|                                0.236|\n",
            "|                                0.232|\n",
            "|                                0.405|\n",
            "|                                0.317|\n",
            "|                               0.0826|\n",
            "|                                 0.13|\n",
            "|                 0.002610000000000...|\n",
            "|                               0.0173|\n",
            "|                                0.431|\n",
            "|                                0.688|\n",
            "|                                0.206|\n",
            "|                                0.899|\n",
            "|                                0.149|\n",
            "|                               0.0232|\n",
            "|                                0.104|\n",
            "|                   0.8059999999999999|\n",
            "+-------------------------------------+\n",
            "only showing top 20 rows\n",
            "\n"
          ]
        }
      ]
    },
    {
      "cell_type": "code",
      "source": [
        "# backup para aplicar a alteração na coluna acoustincness\n",
        "df_backup3 = df"
      ],
      "metadata": {
        "id": "xcnFEecY1IxH"
      },
      "execution_count": null,
      "outputs": []
    },
    {
      "cell_type": "code",
      "source": [
        "# modificando a coluna acousticness usando o split\n",
        "df = df.withColumn('acousticness', F.split(F.col('acousticness'), 'kg').getItem(0))"
      ],
      "metadata": {
        "id": "wL5XQXIi1I4m"
      },
      "execution_count": null,
      "outputs": []
    },
    {
      "cell_type": "code",
      "source": [
        "# verificando a alteração\n",
        "df.show(truncate=False)"
      ],
      "metadata": {
        "id": "nso3yr651I-n",
        "colab": {
          "base_uri": "https://localhost:8080/"
        },
        "outputId": "dfc85311-8990-405a-bec8-64ce741be432"
      },
      "execution_count": null,
      "outputs": [
        {
          "output_type": "stream",
          "name": "stdout",
          "text": [
            "+----------------------------------------+---------------+----------------+---------------------+-----------------------+---------------------+---------------------+---+----------------------+-----------------------+----------+-----------+----------------------+--------------+----------------------+\n",
            "|song_name                               |song_popularity|song_duration_ms|acousticness         |danceability           |energy               |instrumentalness     |key|liveness              |loudness               |audio_mode|speechiness|tempo                 |time_signature|audio_valence         |\n",
            "+----------------------------------------+---------------+----------------+---------------------+-----------------------+---------------------+---------------------+---+----------------------+-----------------------+----------+-----------+----------------------+--------------+----------------------+\n",
            "|Lambada - Original Version 1989         |67             |207466          |0.211                |0.7559999999999999mol/L|0.8                  |723                  |5  |47                    |-5.158                 |1         |329        |118.921               |4             |967                   |\n",
            "|Losing My Religion                      |28             |267733          |0.0767               |0.672mol/L             |841                  |0.0                  |9  |135                   |-5.992.000.000.000.000 |0         |285        |125.437               |4             |0.82                  |\n",
            "|Love The Way You Lie                    |20             |158146          |0.188                |0.4370000000000001mol/L|878                  |0.0                  |10 |35.100.000.000.000.000|-3.876                 |1         |396        |7.947.399.999.999.990 |4             |621                   |\n",
            "|Shake, Rattle And Roll                  |59             |150466          |0.159                |0.6709999999999999mol/L|679                  |0.0                  |5  |158                   |-11.237                |1         |142        |166.726               |4             |0.82                  |\n",
            "|This Old Heart Of Mine (Is Weak For You)|19             |164960          |0.236                |0.63mol/L              |644                  |0.0                  |5  |265                   |-63.210.000.000.000.000|1         |29         |131.593               |4             |926                   |\n",
            "|Careless Whisper                        |68             |302600          |0.232                |0.583mol/L             |545                  |0.0                  |2  |133                   |-11.698                |0         |351        |153.25                |4             |0.8                   |\n",
            "|Walk Of Life                            |38             |249960          |0.405                |0.461mol/L             |918                  |33                   |4  |126                   |-8.507                 |1         |959        |172.435               |4             |802                   |\n",
            "|The Morning                             |72             |312426          |0.317                |0.652mol/L             |5.489.999.999.999.990|0.0                  |6  |104                   |-7.555                 |0         |39         |120.073               |4             |18.600.000.000.000.000|\n",
            "|Balloons                                |43             |180666          |0.0826               |0.5820000000000001mol/L|984                  |153                  |9  |713                   |-1.962                 |0         |529        |15.394.299.999.999.900|4             |7.709.999.999.999.990 |\n",
            "|Echo Beach                              |58             |219866          |0.13                 |0.54mol/L              |746                  |8.73e-06             |7  |976                   |-9.412                 |1         |45         |163.809               |4             |826                   |\n",
            "|I Want Candy                            |42             |161933          |0.0026100000000000003|0.674mol/L             |797                  |358                  |7  |832                   |-8.205                 |1         |807        |110.062               |4             |688                   |\n",
            "|Teardrop                                |70             |330773          |0.0173               |0.615mol/L             |419                  |4.970.000.000.000.000|11 |135                   |-8.8                   |0         |395        |76.997                |4             |21.600.000.000.000.000|\n",
            "|Napkins                                 |63             |215625          |0.431                |0.747mol/L             |444                  |1.25e-06             |0  |106                   |-8.976                 |0         |386        |144.138               |4             |0.66                  |\n",
            "|Erase                                   |63             |236794          |0.688                |0.657mol/L             |376                  |2.54e-05             |9  |272                   |-6.534                 |1         |463        |84.905                |4             |575                   |\n",
            "|Medicine                                |28             |223259          |0.206                |0.611mol/L             |412                  |0.0                  |8  |0.1                   |-7.445                 |0         |202        |116.078               |4             |116                   |\n",
            "|Wide World                              |19             |213540          |0.899                |0.547mol/L             |693                  |121                  |11 |705                   |-7.18                  |0         |286        |168.093               |4             |634                   |\n",
            "|Reminder - Remix                        |65             |221968          |0.149                |0.745mol/L             |0.65                 |0.0                  |0  |107                   |-5.992.000.000.000.000 |0         |227        |159.994               |4             |521                   |\n",
            "|I Get The Bag (feat. Migos)             |12             |233087          |0.0232               |0.89mol/L              |633                  |343                  |11 |993                   |-5.475                 |1         |168        |13.994.799.999.999.900|4             |425                   |\n",
            "|Sweet Soul Music                        |60             |141066          |0.104                |0.59mol/L              |659                  |6.56e-06             |5  |35.600.000.000.000.000|-9.669                 |1         |697        |8.020.100.000.000.000 |4             |965                   |\n",
            "|Envidia                                 |37             |189000          |0.8059999999999999   |0.618mol/L             |261                  |2.62e-05             |10 |92                    |-12.86                 |1         |358        |83.676                |4             |552                   |\n",
            "+----------------------------------------+---------------+----------------+---------------------+-----------------------+---------------------+---------------------+---+----------------------+-----------------------+----------+-----------+----------------------+--------------+----------------------+\n",
            "only showing top 20 rows\n",
            "\n"
          ]
        }
      ]
    },
    {
      "cell_type": "code",
      "source": [
        "# modificando a coluna danceability usando o split\n",
        "df = df.withColumn('danceability', F.split(F.col('danceability'), 'mol/L').getItem(0))"
      ],
      "metadata": {
        "id": "-9qTsHHq1JGV"
      },
      "execution_count": null,
      "outputs": []
    },
    {
      "cell_type": "code",
      "source": [
        "# o ideal e aplicar o summary em todas as colunas numericas\n",
        "df.select('song_popularity').summary().show()"
      ],
      "metadata": {
        "id": "I3r3HlBe1JJH",
        "colab": {
          "base_uri": "https://localhost:8080/"
        },
        "outputId": "1972c4be-9279-4d2f-eee3-37204b67dcb8"
      },
      "execution_count": null,
      "outputs": [
        {
          "output_type": "stream",
          "name": "stdout",
          "text": [
            "+-------+------------------+\n",
            "|summary|   song_popularity|\n",
            "+-------+------------------+\n",
            "|  count|             14932|\n",
            "|   mean| 48.75768535262206|\n",
            "| stddev|20.379617796732816|\n",
            "|    min|                 0|\n",
            "|    25%|              37.0|\n",
            "|    50%|              52.0|\n",
            "|    75%|              64.0|\n",
            "|    max|           nao_sei|\n",
            "+-------+------------------+\n",
            "\n"
          ]
        }
      ]
    },
    {
      "cell_type": "code",
      "source": [
        "# verificar a quantidade de valores nulos\n",
        "df.select([F.count(F.when(F.isnan(c) | F.col(c).isNull(), c)).alias(c) for c in df.columns]).show()"
      ],
      "metadata": {
        "id": "JZjI89z26lSU",
        "colab": {
          "base_uri": "https://localhost:8080/"
        },
        "outputId": "a3f0d64d-49f8-4984-915a-0506de1ec310"
      },
      "execution_count": null,
      "outputs": [
        {
          "output_type": "stream",
          "name": "stdout",
          "text": [
            "+---------+---------------+----------------+------------+------------+------+----------------+---+--------+--------+----------+-----------+-----+--------------+-------------+\n",
            "|song_name|song_popularity|song_duration_ms|acousticness|danceability|energy|instrumentalness|key|liveness|loudness|audio_mode|speechiness|tempo|time_signature|audio_valence|\n",
            "+---------+---------------+----------------+------------+------------+------+----------------+---+--------+--------+----------+-----------+-----+--------------+-------------+\n",
            "|        0|              0|               0|           0|           0|     0|               0|  0|       0|       0|         0|          0|    0|             0|            1|\n",
            "+---------+---------------+----------------+------------+------------+------+----------------+---+--------+--------+----------+-----------+-----+--------------+-------------+\n",
            "\n"
          ]
        }
      ]
    },
    {
      "cell_type": "code",
      "source": [
        "# verificar quantidade de nao_sei em todas as colunas\n",
        "df.filter(F.col('song_popularity').contains('nao')).show()"
      ],
      "metadata": {
        "id": "4gxsUrlLJWHM",
        "colab": {
          "base_uri": "https://localhost:8080/"
        },
        "outputId": "56149d18-96d5-4b61-ef95-8961f8cd50a1"
      },
      "execution_count": null,
      "outputs": [
        {
          "output_type": "stream",
          "name": "stdout",
          "text": [
            "+-------------------+---------------+--------------------+------------+------------+------+----------------+---+--------+--------+----------+-----------+-----+--------------+-------------+\n",
            "|          song_name|song_popularity|    song_duration_ms|acousticness|danceability|energy|instrumentalness|key|liveness|loudness|audio_mode|speechiness|tempo|time_signature|audio_valence|\n",
            "+-------------------+---------------+--------------------+------------+------------+------+----------------+---+--------+--------+----------+-----------+-----+--------------+-------------+\n",
            "|Party In The U.S.A.|        nao_sei|0.8220000000000001kg|  0.519mol/L|        0.36|   0.0|              10|177|  -8.575|       0|       105|      97.42|    4|           0.7|         null|\n",
            "+-------------------+---------------+--------------------+------------+------------+------+----------------+---+--------+--------+----------+-----------+-----+--------------+-------------+\n",
            "\n"
          ]
        }
      ]
    },
    {
      "cell_type": "code",
      "source": [
        "# drop as colunas com não sei\n",
        "# da replace de todos não sei para None valor nulo\n",
        "# para depois da drop em tudos eles usando o how= any (  se a linha tiver um valor ja drop ela, o all= se todos os valores tiverem nulos)\n",
        "df = df.replace('nao_sei', None)\n",
        "df = df.replace('0.nao_sei', None)\n",
        "df = df.dropna(how='any')"
      ],
      "metadata": {
        "id": "etti1q1uJ4Xm"
      },
      "execution_count": null,
      "outputs": []
    },
    {
      "cell_type": "code",
      "source": [
        "df.show()"
      ],
      "metadata": {
        "id": "l8V54mtlOkI-",
        "colab": {
          "base_uri": "https://localhost:8080/"
        },
        "outputId": "2f4c67bc-b621-4ec1-a5a4-ac1ed272554c"
      },
      "execution_count": null,
      "outputs": [
        {
          "output_type": "stream",
          "name": "stdout",
          "text": [
            "+--------------------+---------------+----------------+--------------------+------------------+--------------------+--------------------+---+--------------------+--------------------+----------+-----------+--------------------+--------------+--------------------+\n",
            "|           song_name|song_popularity|song_duration_ms|        acousticness|      danceability|              energy|    instrumentalness|key|            liveness|            loudness|audio_mode|speechiness|               tempo|time_signature|       audio_valence|\n",
            "+--------------------+---------------+----------------+--------------------+------------------+--------------------+--------------------+---+--------------------+--------------------+----------+-----------+--------------------+--------------+--------------------+\n",
            "|Lambada - Origina...|             67|          207466|               0.211|0.7559999999999999|                 0.8|                 723|  5|                  47|              -5.158|         1|        329|             118.921|             4|                 967|\n",
            "|  Losing My Religion|             28|          267733|              0.0767|             0.672|                 841|                 0.0|  9|                 135|-5.992.000.000.00...|         0|        285|             125.437|             4|                0.82|\n",
            "|Love The Way You Lie|             20|          158146|               0.188|0.4370000000000001|                 878|                 0.0| 10|35.100.000.000.00...|              -3.876|         1|        396|7.947.399.999.999...|             4|                 621|\n",
            "|Shake, Rattle And...|             59|          150466|               0.159|0.6709999999999999|                 679|                 0.0|  5|                 158|             -11.237|         1|        142|             166.726|             4|                0.82|\n",
            "|This Old Heart Of...|             19|          164960|               0.236|              0.63|                 644|                 0.0|  5|                 265|-63.210.000.000.0...|         1|         29|             131.593|             4|                 926|\n",
            "|    Careless Whisper|             68|          302600|               0.232|             0.583|                 545|                 0.0|  2|                 133|             -11.698|         0|        351|              153.25|             4|                 0.8|\n",
            "|        Walk Of Life|             38|          249960|               0.405|             0.461|                 918|                  33|  4|                 126|              -8.507|         1|        959|             172.435|             4|                 802|\n",
            "|         The Morning|             72|          312426|               0.317|             0.652|5.489.999.999.999...|                 0.0|  6|                 104|              -7.555|         0|         39|             120.073|             4|18.600.000.000.00...|\n",
            "|            Balloons|             43|          180666|              0.0826|0.5820000000000001|                 984|                 153|  9|                 713|              -1.962|         0|        529|15.394.299.999.99...|             4|7.709.999.999.999...|\n",
            "|          Echo Beach|             58|          219866|                0.13|              0.54|                 746|            8.73e-06|  7|                 976|              -9.412|         1|         45|             163.809|             4|                 826|\n",
            "|        I Want Candy|             42|          161933|0.002610000000000...|             0.674|                 797|                 358|  7|                 832|              -8.205|         1|        807|             110.062|             4|                 688|\n",
            "|            Teardrop|             70|          330773|              0.0173|             0.615|                 419|4.970.000.000.000...| 11|                 135|                -8.8|         0|        395|              76.997|             4|21.600.000.000.00...|\n",
            "|             Napkins|             63|          215625|               0.431|             0.747|                 444|            1.25e-06|  0|                 106|              -8.976|         0|        386|             144.138|             4|                0.66|\n",
            "|               Erase|             63|          236794|               0.688|             0.657|                 376|            2.54e-05|  9|                 272|              -6.534|         1|        463|              84.905|             4|                 575|\n",
            "|            Medicine|             28|          223259|               0.206|             0.611|                 412|                 0.0|  8|                 0.1|              -7.445|         0|        202|             116.078|             4|                 116|\n",
            "|          Wide World|             19|          213540|               0.899|             0.547|                 693|                 121| 11|                 705|               -7.18|         0|        286|             168.093|             4|                 634|\n",
            "|    Reminder - Remix|             65|          221968|               0.149|             0.745|                0.65|                 0.0|  0|                 107|-5.992.000.000.00...|         0|        227|             159.994|             4|                 521|\n",
            "|I Get The Bag (fe...|             12|          233087|              0.0232|              0.89|                 633|                 343| 11|                 993|              -5.475|         1|        168|13.994.799.999.99...|             4|                 425|\n",
            "|    Sweet Soul Music|             60|          141066|               0.104|              0.59|                 659|            6.56e-06|  5|35.600.000.000.00...|              -9.669|         1|        697|8.020.100.000.000...|             4|                 965|\n",
            "|             Envidia|             37|          189000|  0.8059999999999999|             0.618|                 261|            2.62e-05| 10|                  92|              -12.86|         1|        358|              83.676|             4|                 552|\n",
            "+--------------------+---------------+----------------+--------------------+------------------+--------------------+--------------------+---+--------------------+--------------------+----------+-----------+--------------------+--------------+--------------------+\n",
            "only showing top 20 rows\n",
            "\n"
          ]
        }
      ]
    },
    {
      "cell_type": "code",
      "source": [
        "# tratar a coluna instrumentalness\n",
        "# usar summary para entender qual a faixa de valor e normal (0 a 1)\n",
        "df.select(F.col('instrumentalness')).summary().show()"
      ],
      "metadata": {
        "colab": {
          "base_uri": "https://localhost:8080/"
        },
        "id": "zRAgbbFrO26p",
        "outputId": "6721b375-e776-47ab-e9c4-fa1fea675a59"
      },
      "execution_count": null,
      "outputs": [
        {
          "output_type": "stream",
          "name": "stdout",
          "text": [
            "+-------+------------------+\n",
            "|summary|  instrumentalness|\n",
            "+-------+------------------+\n",
            "|  count|             14919|\n",
            "|   mean|164.09098902340065|\n",
            "| stddev|275.64426920379583|\n",
            "|    min|               0.0|\n",
            "|    25%|               0.0|\n",
            "|    50%|           1.14E-5|\n",
            "|    75%|             223.0|\n",
            "|    max|               999|\n",
            "+-------+------------------+\n",
            "\n"
          ]
        }
      ]
    },
    {
      "cell_type": "code",
      "source": [
        "# analisar como os valores desta coluna estao organizados\n",
        "df.select(F.col('instrumentalness')).orderBy(F.col('instrumentalness').desc()).show()"
      ],
      "metadata": {
        "id": "XTLs2kuGPYEs",
        "colab": {
          "base_uri": "https://localhost:8080/"
        },
        "outputId": "26b4dc6b-4bfe-49a0-d9f4-f67e68698dc0"
      },
      "execution_count": null,
      "outputs": [
        {
          "output_type": "stream",
          "name": "stdout",
          "text": [
            "+----------------+\n",
            "|instrumentalness|\n",
            "+----------------+\n",
            "|             999|\n",
            "|             998|\n",
            "|             998|\n",
            "|             998|\n",
            "|             997|\n",
            "|             997|\n",
            "|             996|\n",
            "|             995|\n",
            "|             994|\n",
            "|             994|\n",
            "|             994|\n",
            "|             992|\n",
            "|             992|\n",
            "|             991|\n",
            "|             991|\n",
            "|             991|\n",
            "|             991|\n",
            "|              99|\n",
            "|              99|\n",
            "|              99|\n",
            "+----------------+\n",
            "only showing top 20 rows\n",
            "\n"
          ]
        }
      ]
    },
    {
      "cell_type": "code",
      "source": [
        "# retirar as stings da coluna instrumentalness\n",
        "from pyspark.sql.functions import regexp_extract\n",
        "df = df.withColumn(\"instrumentalness\", regexp_extract(\"instrumentalness\", r\"\\d+\", 0))\n"
      ],
      "metadata": {
        "id": "Pq6dsoFx5iaJ"
      },
      "execution_count": null,
      "outputs": []
    },
    {
      "cell_type": "code",
      "source": [
        "from pyspark.sql.types import IntegerType, FloatType, LongType, DecimalType"
      ],
      "metadata": {
        "id": "v9DX6oc2F5k2"
      },
      "execution_count": null,
      "outputs": []
    },
    {
      "cell_type": "code",
      "source": [
        "# converter cada coluna para a tipagem certa, vou fazer uma por uma porque vi que algumas estavam dando problemas com dados nulos\n",
        "df = df.withColumn('song_popularity', F.col('song_popularity').cast(IntegerType()))\n",
        "df.select([F.count(F.when(F.isnan(c) | F.col(c).isNull(), c)).alias(c) for c in df.columns]).show()"
      ],
      "metadata": {
        "id": "f_LyCvHr-Xyr",
        "colab": {
          "base_uri": "https://localhost:8080/"
        },
        "outputId": "dcfc55d2-2bc2-434b-be38-aea50cdecebb"
      },
      "execution_count": null,
      "outputs": [
        {
          "output_type": "stream",
          "name": "stdout",
          "text": [
            "+---------+---------------+----------------+------------+------------+------+----------------+---+--------+--------+----------+-----------+-----+--------------+-------------+\n",
            "|song_name|song_popularity|song_duration_ms|acousticness|danceability|energy|instrumentalness|key|liveness|loudness|audio_mode|speechiness|tempo|time_signature|audio_valence|\n",
            "+---------+---------------+----------------+------------+------------+------+----------------+---+--------+--------+----------+-----------+-----+--------------+-------------+\n",
            "|        0|              0|               0|           0|           0|     0|               0|  0|       0|       0|         0|          0|    0|             0|            0|\n",
            "+---------+---------------+----------------+------------+------------+------+----------------+---+--------+--------+----------+-----------+-----+--------------+-------------+\n",
            "\n"
          ]
        }
      ]
    },
    {
      "cell_type": "code",
      "source": [
        "# verificar a tipagem para transformar\n",
        "df.printSchema()"
      ],
      "metadata": {
        "id": "chkGceRl_gYz",
        "colab": {
          "base_uri": "https://localhost:8080/"
        },
        "outputId": "c6df5a01-e5ae-4679-fae2-2dd6a14beebd"
      },
      "execution_count": null,
      "outputs": [
        {
          "output_type": "stream",
          "name": "stdout",
          "text": [
            "root\n",
            " |-- song_name: string (nullable = true)\n",
            " |-- song_popularity: integer (nullable = true)\n",
            " |-- song_duration_ms: string (nullable = true)\n",
            " |-- acousticness: string (nullable = true)\n",
            " |-- danceability: string (nullable = true)\n",
            " |-- energy: string (nullable = true)\n",
            " |-- instrumentalness: string (nullable = true)\n",
            " |-- key: integer (nullable = true)\n",
            " |-- liveness: string (nullable = true)\n",
            " |-- loudness: string (nullable = true)\n",
            " |-- audio_mode: string (nullable = true)\n",
            " |-- speechiness: string (nullable = true)\n",
            " |-- tempo: string (nullable = true)\n",
            " |-- time_signature: string (nullable = true)\n",
            " |-- audio_valence: string (nullable = true)\n",
            "\n"
          ]
        }
      ]
    },
    {
      "cell_type": "code",
      "source": [
        "backup_song_duration_m = df\n",
        "df = df.withColumn(\"song_duration_ms\", regexp_extract(\"song_duration_ms\", r\"\\d+\", 0))\n",
        "df = df.withColumn('song_duration_ms', F.col('song_duration_ms').cast(IntegerType()))\n",
        "df.select([F.count(F.when(F.isnan(c) | F.col(c).isNull(), c)).alias(c) for c in df.columns]).show()\n",
        "df.show()"
      ],
      "metadata": {
        "id": "zturandfAvji",
        "colab": {
          "base_uri": "https://localhost:8080/"
        },
        "outputId": "8e9b8098-f5d3-4e1e-cd94-b4d65b99f4b5"
      },
      "execution_count": null,
      "outputs": [
        {
          "output_type": "stream",
          "name": "stdout",
          "text": [
            "+---------+---------------+----------------+------------+------------+------+----------------+---+--------+--------+----------+-----------+-----+--------------+-------------+\n",
            "|song_name|song_popularity|song_duration_ms|acousticness|danceability|energy|instrumentalness|key|liveness|loudness|audio_mode|speechiness|tempo|time_signature|audio_valence|\n",
            "+---------+---------------+----------------+------------+------------+------+----------------+---+--------+--------+----------+-----------+-----+--------------+-------------+\n",
            "|        0|              0|               1|           0|           0|     0|               0|  0|       0|       0|         0|          0|    0|             0|            0|\n",
            "+---------+---------------+----------------+------------+------------+------+----------------+---+--------+--------+----------+-----------+-----+--------------+-------------+\n",
            "\n",
            "+--------------------+---------------+----------------+--------------------+------------------+--------------------+----------------+---+--------------------+--------------------+----------+-----------+--------------------+--------------+--------------------+\n",
            "|           song_name|song_popularity|song_duration_ms|        acousticness|      danceability|              energy|instrumentalness|key|            liveness|            loudness|audio_mode|speechiness|               tempo|time_signature|       audio_valence|\n",
            "+--------------------+---------------+----------------+--------------------+------------------+--------------------+----------------+---+--------------------+--------------------+----------+-----------+--------------------+--------------+--------------------+\n",
            "|Lambada - Origina...|             67|          207466|               0.211|0.7559999999999999|                 0.8|             723|  5|                  47|              -5.158|         1|        329|             118.921|             4|                 967|\n",
            "|  Losing My Religion|             28|          267733|              0.0767|             0.672|                 841|               0|  9|                 135|-5.992.000.000.00...|         0|        285|             125.437|             4|                0.82|\n",
            "|Love The Way You Lie|             20|          158146|               0.188|0.4370000000000001|                 878|               0| 10|35.100.000.000.00...|              -3.876|         1|        396|7.947.399.999.999...|             4|                 621|\n",
            "|Shake, Rattle And...|             59|          150466|               0.159|0.6709999999999999|                 679|               0|  5|                 158|             -11.237|         1|        142|             166.726|             4|                0.82|\n",
            "|This Old Heart Of...|             19|          164960|               0.236|              0.63|                 644|               0|  5|                 265|-63.210.000.000.0...|         1|         29|             131.593|             4|                 926|\n",
            "|    Careless Whisper|             68|          302600|               0.232|             0.583|                 545|               0|  2|                 133|             -11.698|         0|        351|              153.25|             4|                 0.8|\n",
            "|        Walk Of Life|             38|          249960|               0.405|             0.461|                 918|              33|  4|                 126|              -8.507|         1|        959|             172.435|             4|                 802|\n",
            "|         The Morning|             72|          312426|               0.317|             0.652|5.489.999.999.999...|               0|  6|                 104|              -7.555|         0|         39|             120.073|             4|18.600.000.000.00...|\n",
            "|            Balloons|             43|          180666|              0.0826|0.5820000000000001|                 984|             153|  9|                 713|              -1.962|         0|        529|15.394.299.999.99...|             4|7.709.999.999.999...|\n",
            "|          Echo Beach|             58|          219866|                0.13|              0.54|                 746|               8|  7|                 976|              -9.412|         1|         45|             163.809|             4|                 826|\n",
            "|        I Want Candy|             42|          161933|0.002610000000000...|             0.674|                 797|             358|  7|                 832|              -8.205|         1|        807|             110.062|             4|                 688|\n",
            "|            Teardrop|             70|          330773|              0.0173|             0.615|                 419|               4| 11|                 135|                -8.8|         0|        395|              76.997|             4|21.600.000.000.00...|\n",
            "|             Napkins|             63|          215625|               0.431|             0.747|                 444|               1|  0|                 106|              -8.976|         0|        386|             144.138|             4|                0.66|\n",
            "|               Erase|             63|          236794|               0.688|             0.657|                 376|               2|  9|                 272|              -6.534|         1|        463|              84.905|             4|                 575|\n",
            "|            Medicine|             28|          223259|               0.206|             0.611|                 412|               0|  8|                 0.1|              -7.445|         0|        202|             116.078|             4|                 116|\n",
            "|          Wide World|             19|          213540|               0.899|             0.547|                 693|             121| 11|                 705|               -7.18|         0|        286|             168.093|             4|                 634|\n",
            "|    Reminder - Remix|             65|          221968|               0.149|             0.745|                0.65|               0|  0|                 107|-5.992.000.000.00...|         0|        227|             159.994|             4|                 521|\n",
            "|I Get The Bag (fe...|             12|          233087|              0.0232|              0.89|                 633|             343| 11|                 993|              -5.475|         1|        168|13.994.799.999.99...|             4|                 425|\n",
            "|    Sweet Soul Music|             60|          141066|               0.104|              0.59|                 659|               6|  5|35.600.000.000.00...|              -9.669|         1|        697|8.020.100.000.000...|             4|                 965|\n",
            "|             Envidia|             37|          189000|  0.8059999999999999|             0.618|                 261|               2| 10|                  92|              -12.86|         1|        358|              83.676|             4|                 552|\n",
            "+--------------------+---------------+----------------+--------------------+------------------+--------------------+----------------+---+--------------------+--------------------+----------+-----------+--------------------+--------------+--------------------+\n",
            "only showing top 20 rows\n",
            "\n"
          ]
        }
      ]
    },
    {
      "cell_type": "code",
      "source": [
        "# criar uma segunda coluna de song duration em segundos e dropar a antiga\n",
        "df = df.withColumn('song_duration', F.round(F.col('song_duration_ms') / 60000, 2))\n",
        "df = df.drop(F.col('song_duration_ms'))"
      ],
      "metadata": {
        "id": "U7z1k26vPDnP"
      },
      "execution_count": null,
      "outputs": []
    },
    {
      "cell_type": "code",
      "source": [
        "df.show()"
      ],
      "metadata": {
        "colab": {
          "base_uri": "https://localhost:8080/"
        },
        "id": "sAYe1JEGPTaX",
        "outputId": "6be9eb12-e583-4771-806b-fc3ca10ecb51"
      },
      "execution_count": null,
      "outputs": [
        {
          "output_type": "stream",
          "name": "stdout",
          "text": [
            "+--------------------+---------------+--------------------+------------------+--------------------+----------------+---+--------------------+--------------------+----------+-----------+--------------------+--------------+--------------------+-------------+\n",
            "|           song_name|song_popularity|        acousticness|      danceability|              energy|instrumentalness|key|            liveness|            loudness|audio_mode|speechiness|               tempo|time_signature|       audio_valence|song_duration|\n",
            "+--------------------+---------------+--------------------+------------------+--------------------+----------------+---+--------------------+--------------------+----------+-----------+--------------------+--------------+--------------------+-------------+\n",
            "|Lambada - Origina...|             67|               0.211|0.7559999999999999|                 0.8|             723|  5|                  47|              -5.158|         1|        329|             118.921|             4|                 967|         3.46|\n",
            "|  Losing My Religion|             28|              0.0767|             0.672|                 841|               0|  9|                 135|-5.992.000.000.00...|         0|        285|             125.437|             4|                0.82|         4.46|\n",
            "|Love The Way You Lie|             20|               0.188|0.4370000000000001|                 878|               0| 10|35.100.000.000.00...|              -3.876|         1|        396|7.947.399.999.999...|             4|                 621|         2.64|\n",
            "|Shake, Rattle And...|             59|               0.159|0.6709999999999999|                 679|               0|  5|                 158|             -11.237|         1|        142|             166.726|             4|                0.82|         2.51|\n",
            "|This Old Heart Of...|             19|               0.236|              0.63|                 644|               0|  5|                 265|-63.210.000.000.0...|         1|         29|             131.593|             4|                 926|         2.75|\n",
            "|    Careless Whisper|             68|               0.232|             0.583|                 545|               0|  2|                 133|             -11.698|         0|        351|              153.25|             4|                 0.8|         5.04|\n",
            "|        Walk Of Life|             38|               0.405|             0.461|                 918|              33|  4|                 126|              -8.507|         1|        959|             172.435|             4|                 802|         4.17|\n",
            "|         The Morning|             72|               0.317|             0.652|5.489.999.999.999...|               0|  6|                 104|              -7.555|         0|         39|             120.073|             4|18.600.000.000.00...|         5.21|\n",
            "|            Balloons|             43|              0.0826|0.5820000000000001|                 984|             153|  9|                 713|              -1.962|         0|        529|15.394.299.999.99...|             4|7.709.999.999.999...|         3.01|\n",
            "|          Echo Beach|             58|                0.13|              0.54|                 746|               8|  7|                 976|              -9.412|         1|         45|             163.809|             4|                 826|         3.66|\n",
            "|        I Want Candy|             42|0.002610000000000...|             0.674|                 797|             358|  7|                 832|              -8.205|         1|        807|             110.062|             4|                 688|          2.7|\n",
            "|            Teardrop|             70|              0.0173|             0.615|                 419|               4| 11|                 135|                -8.8|         0|        395|              76.997|             4|21.600.000.000.00...|         5.51|\n",
            "|             Napkins|             63|               0.431|             0.747|                 444|               1|  0|                 106|              -8.976|         0|        386|             144.138|             4|                0.66|         3.59|\n",
            "|               Erase|             63|               0.688|             0.657|                 376|               2|  9|                 272|              -6.534|         1|        463|              84.905|             4|                 575|         3.95|\n",
            "|            Medicine|             28|               0.206|             0.611|                 412|               0|  8|                 0.1|              -7.445|         0|        202|             116.078|             4|                 116|         3.72|\n",
            "|          Wide World|             19|               0.899|             0.547|                 693|             121| 11|                 705|               -7.18|         0|        286|             168.093|             4|                 634|         3.56|\n",
            "|    Reminder - Remix|             65|               0.149|             0.745|                0.65|               0|  0|                 107|-5.992.000.000.00...|         0|        227|             159.994|             4|                 521|          3.7|\n",
            "|I Get The Bag (fe...|             12|              0.0232|              0.89|                 633|             343| 11|                 993|              -5.475|         1|        168|13.994.799.999.99...|             4|                 425|         3.88|\n",
            "|    Sweet Soul Music|             60|               0.104|              0.59|                 659|               6|  5|35.600.000.000.00...|              -9.669|         1|        697|8.020.100.000.000...|             4|                 965|         2.35|\n",
            "|             Envidia|             37|  0.8059999999999999|             0.618|                 261|               2| 10|                  92|              -12.86|         1|        358|              83.676|             4|                 552|         3.15|\n",
            "+--------------------+---------------+--------------------+------------------+--------------------+----------------+---+--------------------+--------------------+----------+-----------+--------------------+--------------+--------------------+-------------+\n",
            "only showing top 20 rows\n",
            "\n"
          ]
        }
      ]
    },
    {
      "cell_type": "code",
      "source": [
        "# primeira tentativa converter para INTERGERTYPE\n",
        "backup_acousticness = df\n",
        "df = df.withColumn(\"acousticness\", regexp_extract(\"acousticness\", r\"\\d+\", 0))\n",
        "df = df.withColumn('acousticness', F.col('acousticness').cast(IntegerType()))\n",
        "df.select([F.count(F.when(F.isnan(c) | F.col(c).isNull(), c)).alias(c) for c in df.columns]).show()\n",
        "df.show()"
      ],
      "metadata": {
        "colab": {
          "base_uri": "https://localhost:8080/"
        },
        "id": "IfdEhpg-I8fC",
        "outputId": "cda92e1b-5758-4515-e0c7-423eabb520d7"
      },
      "execution_count": null,
      "outputs": [
        {
          "output_type": "stream",
          "name": "stdout",
          "text": [
            "+---------+---------------+------------+------------+------+----------------+---+--------+--------+----------+-----------+-----+--------------+-------------+-------------+\n",
            "|song_name|song_popularity|acousticness|danceability|energy|instrumentalness|key|liveness|loudness|audio_mode|speechiness|tempo|time_signature|audio_valence|song_duration|\n",
            "+---------+---------------+------------+------------+------+----------------+---+--------+--------+----------+-----------+-----+--------------+-------------+-------------+\n",
            "|        0|              0|           0|           0|     0|               0|  0|       0|       0|         0|          0|    0|             0|            0|            1|\n",
            "+---------+---------------+------------+------------+------+----------------+---+--------+--------+----------+-----------+-----+--------------+-------------+-------------+\n",
            "\n",
            "+--------------------+---------------+------------+------------------+--------------------+----------------+---+--------------------+--------------------+----------+-----------+--------------------+--------------+--------------------+-------------+\n",
            "|           song_name|song_popularity|acousticness|      danceability|              energy|instrumentalness|key|            liveness|            loudness|audio_mode|speechiness|               tempo|time_signature|       audio_valence|song_duration|\n",
            "+--------------------+---------------+------------+------------------+--------------------+----------------+---+--------------------+--------------------+----------+-----------+--------------------+--------------+--------------------+-------------+\n",
            "|Lambada - Origina...|             67|           0|0.7559999999999999|                 0.8|             723|  5|                  47|              -5.158|         1|        329|             118.921|             4|                 967|         3.46|\n",
            "|  Losing My Religion|             28|           0|             0.672|                 841|               0|  9|                 135|-5.992.000.000.00...|         0|        285|             125.437|             4|                0.82|         4.46|\n",
            "|Love The Way You Lie|             20|           0|0.4370000000000001|                 878|               0| 10|35.100.000.000.00...|              -3.876|         1|        396|7.947.399.999.999...|             4|                 621|         2.64|\n",
            "|Shake, Rattle And...|             59|           0|0.6709999999999999|                 679|               0|  5|                 158|             -11.237|         1|        142|             166.726|             4|                0.82|         2.51|\n",
            "|This Old Heart Of...|             19|           0|              0.63|                 644|               0|  5|                 265|-63.210.000.000.0...|         1|         29|             131.593|             4|                 926|         2.75|\n",
            "|    Careless Whisper|             68|           0|             0.583|                 545|               0|  2|                 133|             -11.698|         0|        351|              153.25|             4|                 0.8|         5.04|\n",
            "|        Walk Of Life|             38|           0|             0.461|                 918|              33|  4|                 126|              -8.507|         1|        959|             172.435|             4|                 802|         4.17|\n",
            "|         The Morning|             72|           0|             0.652|5.489.999.999.999...|               0|  6|                 104|              -7.555|         0|         39|             120.073|             4|18.600.000.000.00...|         5.21|\n",
            "|            Balloons|             43|           0|0.5820000000000001|                 984|             153|  9|                 713|              -1.962|         0|        529|15.394.299.999.99...|             4|7.709.999.999.999...|         3.01|\n",
            "|          Echo Beach|             58|           0|              0.54|                 746|               8|  7|                 976|              -9.412|         1|         45|             163.809|             4|                 826|         3.66|\n",
            "|        I Want Candy|             42|           0|             0.674|                 797|             358|  7|                 832|              -8.205|         1|        807|             110.062|             4|                 688|          2.7|\n",
            "|            Teardrop|             70|           0|             0.615|                 419|               4| 11|                 135|                -8.8|         0|        395|              76.997|             4|21.600.000.000.00...|         5.51|\n",
            "|             Napkins|             63|           0|             0.747|                 444|               1|  0|                 106|              -8.976|         0|        386|             144.138|             4|                0.66|         3.59|\n",
            "|               Erase|             63|           0|             0.657|                 376|               2|  9|                 272|              -6.534|         1|        463|              84.905|             4|                 575|         3.95|\n",
            "|            Medicine|             28|           0|             0.611|                 412|               0|  8|                 0.1|              -7.445|         0|        202|             116.078|             4|                 116|         3.72|\n",
            "|          Wide World|             19|           0|             0.547|                 693|             121| 11|                 705|               -7.18|         0|        286|             168.093|             4|                 634|         3.56|\n",
            "|    Reminder - Remix|             65|           0|             0.745|                0.65|               0|  0|                 107|-5.992.000.000.00...|         0|        227|             159.994|             4|                 521|          3.7|\n",
            "|I Get The Bag (fe...|             12|           0|              0.89|                 633|             343| 11|                 993|              -5.475|         1|        168|13.994.799.999.99...|             4|                 425|         3.88|\n",
            "|    Sweet Soul Music|             60|           0|              0.59|                 659|               6|  5|35.600.000.000.00...|              -9.669|         1|        697|8.020.100.000.000...|             4|                 965|         2.35|\n",
            "|             Envidia|             37|           0|             0.618|                 261|               2| 10|                  92|              -12.86|         1|        358|              83.676|             4|                 552|         3.15|\n",
            "+--------------------+---------------+------------+------------------+--------------------+----------------+---+--------------------+--------------------+----------+-----------+--------------------+--------------+--------------------+-------------+\n",
            "only showing top 20 rows\n",
            "\n"
          ]
        }
      ]
    },
    {
      "cell_type": "code",
      "source": [
        "df = backup_acousticness"
      ],
      "metadata": {
        "id": "iUAI91KPPjH_"
      },
      "execution_count": null,
      "outputs": []
    },
    {
      "cell_type": "code",
      "source": [
        "df.show()"
      ],
      "metadata": {
        "colab": {
          "base_uri": "https://localhost:8080/"
        },
        "id": "jC00Ev2XPoVa",
        "outputId": "2b8c2399-9f4d-4ead-d6dd-875c7f57398b"
      },
      "execution_count": null,
      "outputs": [
        {
          "output_type": "stream",
          "name": "stdout",
          "text": [
            "+--------------------+---------------+--------------------+------------------+--------------------+----------------+---+--------------------+--------------------+----------+-----------+--------------------+--------------+--------------------+-------------+\n",
            "|           song_name|song_popularity|        acousticness|      danceability|              energy|instrumentalness|key|            liveness|            loudness|audio_mode|speechiness|               tempo|time_signature|       audio_valence|song_duration|\n",
            "+--------------------+---------------+--------------------+------------------+--------------------+----------------+---+--------------------+--------------------+----------+-----------+--------------------+--------------+--------------------+-------------+\n",
            "|Lambada - Origina...|             67|               0.211|0.7559999999999999|                 0.8|             723|  5|                  47|              -5.158|         1|        329|             118.921|             4|                 967|         3.46|\n",
            "|  Losing My Religion|             28|              0.0767|             0.672|                 841|               0|  9|                 135|-5.992.000.000.00...|         0|        285|             125.437|             4|                0.82|         4.46|\n",
            "|Love The Way You Lie|             20|               0.188|0.4370000000000001|                 878|               0| 10|35.100.000.000.00...|              -3.876|         1|        396|7.947.399.999.999...|             4|                 621|         2.64|\n",
            "|Shake, Rattle And...|             59|               0.159|0.6709999999999999|                 679|               0|  5|                 158|             -11.237|         1|        142|             166.726|             4|                0.82|         2.51|\n",
            "|This Old Heart Of...|             19|               0.236|              0.63|                 644|               0|  5|                 265|-63.210.000.000.0...|         1|         29|             131.593|             4|                 926|         2.75|\n",
            "|    Careless Whisper|             68|               0.232|             0.583|                 545|               0|  2|                 133|             -11.698|         0|        351|              153.25|             4|                 0.8|         5.04|\n",
            "|        Walk Of Life|             38|               0.405|             0.461|                 918|              33|  4|                 126|              -8.507|         1|        959|             172.435|             4|                 802|         4.17|\n",
            "|         The Morning|             72|               0.317|             0.652|5.489.999.999.999...|               0|  6|                 104|              -7.555|         0|         39|             120.073|             4|18.600.000.000.00...|         5.21|\n",
            "|            Balloons|             43|              0.0826|0.5820000000000001|                 984|             153|  9|                 713|              -1.962|         0|        529|15.394.299.999.99...|             4|7.709.999.999.999...|         3.01|\n",
            "|          Echo Beach|             58|                0.13|              0.54|                 746|               8|  7|                 976|              -9.412|         1|         45|             163.809|             4|                 826|         3.66|\n",
            "|        I Want Candy|             42|0.002610000000000...|             0.674|                 797|             358|  7|                 832|              -8.205|         1|        807|             110.062|             4|                 688|          2.7|\n",
            "|            Teardrop|             70|              0.0173|             0.615|                 419|               4| 11|                 135|                -8.8|         0|        395|              76.997|             4|21.600.000.000.00...|         5.51|\n",
            "|             Napkins|             63|               0.431|             0.747|                 444|               1|  0|                 106|              -8.976|         0|        386|             144.138|             4|                0.66|         3.59|\n",
            "|               Erase|             63|               0.688|             0.657|                 376|               2|  9|                 272|              -6.534|         1|        463|              84.905|             4|                 575|         3.95|\n",
            "|            Medicine|             28|               0.206|             0.611|                 412|               0|  8|                 0.1|              -7.445|         0|        202|             116.078|             4|                 116|         3.72|\n",
            "|          Wide World|             19|               0.899|             0.547|                 693|             121| 11|                 705|               -7.18|         0|        286|             168.093|             4|                 634|         3.56|\n",
            "|    Reminder - Remix|             65|               0.149|             0.745|                0.65|               0|  0|                 107|-5.992.000.000.00...|         0|        227|             159.994|             4|                 521|          3.7|\n",
            "|I Get The Bag (fe...|             12|              0.0232|              0.89|                 633|             343| 11|                 993|              -5.475|         1|        168|13.994.799.999.99...|             4|                 425|         3.88|\n",
            "|    Sweet Soul Music|             60|               0.104|              0.59|                 659|               6|  5|35.600.000.000.00...|              -9.669|         1|        697|8.020.100.000.000...|             4|                 965|         2.35|\n",
            "|             Envidia|             37|  0.8059999999999999|             0.618|                 261|               2| 10|                  92|              -12.86|         1|        358|              83.676|             4|                 552|         3.15|\n",
            "+--------------------+---------------+--------------------+------------------+--------------------+----------------+---+--------------------+--------------------+----------+-----------+--------------------+--------------+--------------------+-------------+\n",
            "only showing top 20 rows\n",
            "\n"
          ]
        }
      ]
    },
    {
      "cell_type": "code",
      "source": [
        "# segunda tentativa converter para FLOATTYPE\n",
        "backup_acousticness = df\n",
        "df = df.withColumn(\"acousticness\", regexp_extract(\"acousticness\", r\"\\d+\", 0))\n",
        "df = df.withColumn('acousticness', F.col('acousticness').cast(FloatType()))\n",
        "df.select([F.count(F.when(F.isnan(c) | F.col(c).isNull(), c)).alias(c) for c in df.columns]).show()\n",
        "df.show()"
      ],
      "metadata": {
        "colab": {
          "base_uri": "https://localhost:8080/"
        },
        "id": "gN3HnVBoPqpk",
        "outputId": "2397248b-fe4a-41f9-8caf-d634055a2b74"
      },
      "execution_count": null,
      "outputs": [
        {
          "output_type": "stream",
          "name": "stdout",
          "text": [
            "+---------+---------------+------------+------------+------+----------------+---+--------+--------+----------+-----------+-----+--------------+-------------+-------------+\n",
            "|song_name|song_popularity|acousticness|danceability|energy|instrumentalness|key|liveness|loudness|audio_mode|speechiness|tempo|time_signature|audio_valence|song_duration|\n",
            "+---------+---------------+------------+------------+------+----------------+---+--------+--------+----------+-----------+-----+--------------+-------------+-------------+\n",
            "|        0|              0|           0|           0|     0|               0|  0|       0|       0|         0|          0|    0|             0|            0|            1|\n",
            "+---------+---------------+------------+------------+------+----------------+---+--------+--------+----------+-----------+-----+--------------+-------------+-------------+\n",
            "\n",
            "+--------------------+---------------+------------+------------------+--------------------+----------------+---+--------------------+--------------------+----------+-----------+--------------------+--------------+--------------------+-------------+\n",
            "|           song_name|song_popularity|acousticness|      danceability|              energy|instrumentalness|key|            liveness|            loudness|audio_mode|speechiness|               tempo|time_signature|       audio_valence|song_duration|\n",
            "+--------------------+---------------+------------+------------------+--------------------+----------------+---+--------------------+--------------------+----------+-----------+--------------------+--------------+--------------------+-------------+\n",
            "|Lambada - Origina...|             67|         0.0|0.7559999999999999|                 0.8|             723|  5|                  47|              -5.158|         1|        329|             118.921|             4|                 967|         3.46|\n",
            "|  Losing My Religion|             28|         0.0|             0.672|                 841|               0|  9|                 135|-5.992.000.000.00...|         0|        285|             125.437|             4|                0.82|         4.46|\n",
            "|Love The Way You Lie|             20|         0.0|0.4370000000000001|                 878|               0| 10|35.100.000.000.00...|              -3.876|         1|        396|7.947.399.999.999...|             4|                 621|         2.64|\n",
            "|Shake, Rattle And...|             59|         0.0|0.6709999999999999|                 679|               0|  5|                 158|             -11.237|         1|        142|             166.726|             4|                0.82|         2.51|\n",
            "|This Old Heart Of...|             19|         0.0|              0.63|                 644|               0|  5|                 265|-63.210.000.000.0...|         1|         29|             131.593|             4|                 926|         2.75|\n",
            "|    Careless Whisper|             68|         0.0|             0.583|                 545|               0|  2|                 133|             -11.698|         0|        351|              153.25|             4|                 0.8|         5.04|\n",
            "|        Walk Of Life|             38|         0.0|             0.461|                 918|              33|  4|                 126|              -8.507|         1|        959|             172.435|             4|                 802|         4.17|\n",
            "|         The Morning|             72|         0.0|             0.652|5.489.999.999.999...|               0|  6|                 104|              -7.555|         0|         39|             120.073|             4|18.600.000.000.00...|         5.21|\n",
            "|            Balloons|             43|         0.0|0.5820000000000001|                 984|             153|  9|                 713|              -1.962|         0|        529|15.394.299.999.99...|             4|7.709.999.999.999...|         3.01|\n",
            "|          Echo Beach|             58|         0.0|              0.54|                 746|               8|  7|                 976|              -9.412|         1|         45|             163.809|             4|                 826|         3.66|\n",
            "|        I Want Candy|             42|         0.0|             0.674|                 797|             358|  7|                 832|              -8.205|         1|        807|             110.062|             4|                 688|          2.7|\n",
            "|            Teardrop|             70|         0.0|             0.615|                 419|               4| 11|                 135|                -8.8|         0|        395|              76.997|             4|21.600.000.000.00...|         5.51|\n",
            "|             Napkins|             63|         0.0|             0.747|                 444|               1|  0|                 106|              -8.976|         0|        386|             144.138|             4|                0.66|         3.59|\n",
            "|               Erase|             63|         0.0|             0.657|                 376|               2|  9|                 272|              -6.534|         1|        463|              84.905|             4|                 575|         3.95|\n",
            "|            Medicine|             28|         0.0|             0.611|                 412|               0|  8|                 0.1|              -7.445|         0|        202|             116.078|             4|                 116|         3.72|\n",
            "|          Wide World|             19|         0.0|             0.547|                 693|             121| 11|                 705|               -7.18|         0|        286|             168.093|             4|                 634|         3.56|\n",
            "|    Reminder - Remix|             65|         0.0|             0.745|                0.65|               0|  0|                 107|-5.992.000.000.00...|         0|        227|             159.994|             4|                 521|          3.7|\n",
            "|I Get The Bag (fe...|             12|         0.0|              0.89|                 633|             343| 11|                 993|              -5.475|         1|        168|13.994.799.999.99...|             4|                 425|         3.88|\n",
            "|    Sweet Soul Music|             60|         0.0|              0.59|                 659|               6|  5|35.600.000.000.00...|              -9.669|         1|        697|8.020.100.000.000...|             4|                 965|         2.35|\n",
            "|             Envidia|             37|         0.0|             0.618|                 261|               2| 10|                  92|              -12.86|         1|        358|              83.676|             4|                 552|         3.15|\n",
            "+--------------------+---------------+------------+------------------+--------------------+----------------+---+--------------------+--------------------+----------+-----------+--------------------+--------------+--------------------+-------------+\n",
            "only showing top 20 rows\n",
            "\n"
          ]
        }
      ]
    },
    {
      "cell_type": "code",
      "source": [
        "df = backup_acousticness"
      ],
      "metadata": {
        "id": "lKj-J2pmP-S3"
      },
      "execution_count": null,
      "outputs": []
    },
    {
      "cell_type": "code",
      "source": [
        "df.show()"
      ],
      "metadata": {
        "colab": {
          "base_uri": "https://localhost:8080/"
        },
        "id": "w2R-Lqq9QAYw",
        "outputId": "8792cfd4-9f2a-4315-b8d2-754b192031ef"
      },
      "execution_count": null,
      "outputs": [
        {
          "output_type": "stream",
          "name": "stdout",
          "text": [
            "+--------------------+---------------+--------------------+------------------+--------------------+----------------+---+--------------------+--------------------+----------+-----------+--------------------+--------------+--------------------+-------------+\n",
            "|           song_name|song_popularity|        acousticness|      danceability|              energy|instrumentalness|key|            liveness|            loudness|audio_mode|speechiness|               tempo|time_signature|       audio_valence|song_duration|\n",
            "+--------------------+---------------+--------------------+------------------+--------------------+----------------+---+--------------------+--------------------+----------+-----------+--------------------+--------------+--------------------+-------------+\n",
            "|Lambada - Origina...|             67|               0.211|0.7559999999999999|                 0.8|             723|  5|                  47|              -5.158|         1|        329|             118.921|             4|                 967|         3.46|\n",
            "|  Losing My Religion|             28|              0.0767|             0.672|                 841|               0|  9|                 135|-5.992.000.000.00...|         0|        285|             125.437|             4|                0.82|         4.46|\n",
            "|Love The Way You Lie|             20|               0.188|0.4370000000000001|                 878|               0| 10|35.100.000.000.00...|              -3.876|         1|        396|7.947.399.999.999...|             4|                 621|         2.64|\n",
            "|Shake, Rattle And...|             59|               0.159|0.6709999999999999|                 679|               0|  5|                 158|             -11.237|         1|        142|             166.726|             4|                0.82|         2.51|\n",
            "|This Old Heart Of...|             19|               0.236|              0.63|                 644|               0|  5|                 265|-63.210.000.000.0...|         1|         29|             131.593|             4|                 926|         2.75|\n",
            "|    Careless Whisper|             68|               0.232|             0.583|                 545|               0|  2|                 133|             -11.698|         0|        351|              153.25|             4|                 0.8|         5.04|\n",
            "|        Walk Of Life|             38|               0.405|             0.461|                 918|              33|  4|                 126|              -8.507|         1|        959|             172.435|             4|                 802|         4.17|\n",
            "|         The Morning|             72|               0.317|             0.652|5.489.999.999.999...|               0|  6|                 104|              -7.555|         0|         39|             120.073|             4|18.600.000.000.00...|         5.21|\n",
            "|            Balloons|             43|              0.0826|0.5820000000000001|                 984|             153|  9|                 713|              -1.962|         0|        529|15.394.299.999.99...|             4|7.709.999.999.999...|         3.01|\n",
            "|          Echo Beach|             58|                0.13|              0.54|                 746|               8|  7|                 976|              -9.412|         1|         45|             163.809|             4|                 826|         3.66|\n",
            "|        I Want Candy|             42|0.002610000000000...|             0.674|                 797|             358|  7|                 832|              -8.205|         1|        807|             110.062|             4|                 688|          2.7|\n",
            "|            Teardrop|             70|              0.0173|             0.615|                 419|               4| 11|                 135|                -8.8|         0|        395|              76.997|             4|21.600.000.000.00...|         5.51|\n",
            "|             Napkins|             63|               0.431|             0.747|                 444|               1|  0|                 106|              -8.976|         0|        386|             144.138|             4|                0.66|         3.59|\n",
            "|               Erase|             63|               0.688|             0.657|                 376|               2|  9|                 272|              -6.534|         1|        463|              84.905|             4|                 575|         3.95|\n",
            "|            Medicine|             28|               0.206|             0.611|                 412|               0|  8|                 0.1|              -7.445|         0|        202|             116.078|             4|                 116|         3.72|\n",
            "|          Wide World|             19|               0.899|             0.547|                 693|             121| 11|                 705|               -7.18|         0|        286|             168.093|             4|                 634|         3.56|\n",
            "|    Reminder - Remix|             65|               0.149|             0.745|                0.65|               0|  0|                 107|-5.992.000.000.00...|         0|        227|             159.994|             4|                 521|          3.7|\n",
            "|I Get The Bag (fe...|             12|              0.0232|              0.89|                 633|             343| 11|                 993|              -5.475|         1|        168|13.994.799.999.99...|             4|                 425|         3.88|\n",
            "|    Sweet Soul Music|             60|               0.104|              0.59|                 659|               6|  5|35.600.000.000.00...|              -9.669|         1|        697|8.020.100.000.000...|             4|                 965|         2.35|\n",
            "|             Envidia|             37|  0.8059999999999999|             0.618|                 261|               2| 10|                  92|              -12.86|         1|        358|              83.676|             4|                 552|         3.15|\n",
            "+--------------------+---------------+--------------------+------------------+--------------------+----------------+---+--------------------+--------------------+----------+-----------+--------------------+--------------+--------------------+-------------+\n",
            "only showing top 20 rows\n",
            "\n"
          ]
        }
      ]
    },
    {
      "cell_type": "code",
      "source": [
        "# terceira tentativa  ARRENDONDAR E CONVERTER PARA FLOATTYPE\n",
        "from pyspark.sql.functions import round\n",
        "\n",
        "df = df.withColumn(\"acousticness\", round(df[\"acousticness\"], 4))"
      ],
      "metadata": {
        "id": "TCoSb2NwQBsp"
      },
      "execution_count": null,
      "outputs": []
    },
    {
      "cell_type": "code",
      "source": [
        "df.show()"
      ],
      "metadata": {
        "colab": {
          "base_uri": "https://localhost:8080/"
        },
        "id": "Z7JaXgJFQgpq",
        "outputId": "9049985b-28c8-40ea-eb28-6ca4715dd26c"
      },
      "execution_count": null,
      "outputs": [
        {
          "output_type": "stream",
          "name": "stdout",
          "text": [
            "+--------------------+---------------+------------+------------------+--------------------+----------------+---+--------------------+--------------------+----------+-----------+--------------------+--------------+--------------------+-------------+\n",
            "|           song_name|song_popularity|acousticness|      danceability|              energy|instrumentalness|key|            liveness|            loudness|audio_mode|speechiness|               tempo|time_signature|       audio_valence|song_duration|\n",
            "+--------------------+---------------+------------+------------------+--------------------+----------------+---+--------------------+--------------------+----------+-----------+--------------------+--------------+--------------------+-------------+\n",
            "|Lambada - Origina...|             67|           0|0.7559999999999999|                 0.8|             723|  5|                  47|              -5.158|         1|        329|             118.921|             4|                 967|         3.46|\n",
            "|  Losing My Religion|             28|           0|             0.672|                 841|               0|  9|                 135|-5.992.000.000.00...|         0|        285|             125.437|             4|                0.82|         4.46|\n",
            "|Love The Way You Lie|             20|           0|0.4370000000000001|                 878|               0| 10|35.100.000.000.00...|              -3.876|         1|        396|7.947.399.999.999...|             4|                 621|         2.64|\n",
            "|Shake, Rattle And...|             59|           0|0.6709999999999999|                 679|               0|  5|                 158|             -11.237|         1|        142|             166.726|             4|                0.82|         2.51|\n",
            "|This Old Heart Of...|             19|           0|              0.63|                 644|               0|  5|                 265|-63.210.000.000.0...|         1|         29|             131.593|             4|                 926|         2.75|\n",
            "|    Careless Whisper|             68|           0|             0.583|                 545|               0|  2|                 133|             -11.698|         0|        351|              153.25|             4|                 0.8|         5.04|\n",
            "|        Walk Of Life|             38|           0|             0.461|                 918|              33|  4|                 126|              -8.507|         1|        959|             172.435|             4|                 802|         4.17|\n",
            "|         The Morning|             72|           0|             0.652|5.489.999.999.999...|               0|  6|                 104|              -7.555|         0|         39|             120.073|             4|18.600.000.000.00...|         5.21|\n",
            "|            Balloons|             43|           0|0.5820000000000001|                 984|             153|  9|                 713|              -1.962|         0|        529|15.394.299.999.99...|             4|7.709.999.999.999...|         3.01|\n",
            "|          Echo Beach|             58|           0|              0.54|                 746|               8|  7|                 976|              -9.412|         1|         45|             163.809|             4|                 826|         3.66|\n",
            "|        I Want Candy|             42|           0|             0.674|                 797|             358|  7|                 832|              -8.205|         1|        807|             110.062|             4|                 688|          2.7|\n",
            "|            Teardrop|             70|           0|             0.615|                 419|               4| 11|                 135|                -8.8|         0|        395|              76.997|             4|21.600.000.000.00...|         5.51|\n",
            "|             Napkins|             63|           0|             0.747|                 444|               1|  0|                 106|              -8.976|         0|        386|             144.138|             4|                0.66|         3.59|\n",
            "|               Erase|             63|           0|             0.657|                 376|               2|  9|                 272|              -6.534|         1|        463|              84.905|             4|                 575|         3.95|\n",
            "|            Medicine|             28|           0|             0.611|                 412|               0|  8|                 0.1|              -7.445|         0|        202|             116.078|             4|                 116|         3.72|\n",
            "|          Wide World|             19|           0|             0.547|                 693|             121| 11|                 705|               -7.18|         0|        286|             168.093|             4|                 634|         3.56|\n",
            "|    Reminder - Remix|             65|           0|             0.745|                0.65|               0|  0|                 107|-5.992.000.000.00...|         0|        227|             159.994|             4|                 521|          3.7|\n",
            "|I Get The Bag (fe...|             12|           0|              0.89|                 633|             343| 11|                 993|              -5.475|         1|        168|13.994.799.999.99...|             4|                 425|         3.88|\n",
            "|    Sweet Soul Music|             60|           0|              0.59|                 659|               6|  5|35.600.000.000.00...|              -9.669|         1|        697|8.020.100.000.000...|             4|                 965|         2.35|\n",
            "|             Envidia|             37|           0|             0.618|                 261|               2| 10|                  92|              -12.86|         1|        358|              83.676|             4|                 552|         3.15|\n",
            "+--------------------+---------------+------------+------------------+--------------------+----------------+---+--------------------+--------------------+----------+-----------+--------------------+--------------+--------------------+-------------+\n",
            "only showing top 20 rows\n",
            "\n"
          ]
        }
      ]
    },
    {
      "cell_type": "code",
      "source": [
        "# terceira tentativa  ARRENDONDAR E CONVERTER PARA FLOATTYPE\n",
        "backup_acousticness = df\n",
        "df = df.withColumn(\"acousticness\", regexp_extract(\"acousticness\", r\"\\d+\", 0))\n",
        "df = df.withColumn('acousticness', F.col('acousticness').cast(FloatType()))\n",
        "df.select([F.count(F.when(F.isnan(c) | F.col(c).isNull(), c)).alias(c) for c in df.columns]).show()\n",
        "df.show()"
      ],
      "metadata": {
        "colab": {
          "base_uri": "https://localhost:8080/"
        },
        "id": "THWvtFgbQm2u",
        "outputId": "c062a5b0-cdda-4aa3-e8b2-0f4d22488562"
      },
      "execution_count": null,
      "outputs": [
        {
          "output_type": "stream",
          "name": "stdout",
          "text": [
            "+---------+---------------+------------+------------+------+----------------+---+--------+--------+----------+-----------+-----+--------------+-------------+-------------+\n",
            "|song_name|song_popularity|acousticness|danceability|energy|instrumentalness|key|liveness|loudness|audio_mode|speechiness|tempo|time_signature|audio_valence|song_duration|\n",
            "+---------+---------------+------------+------------+------+----------------+---+--------+--------+----------+-----------+-----+--------------+-------------+-------------+\n",
            "|        0|              0|           0|           0|     0|               0|  0|       0|       0|         0|          0|    0|             0|            0|            1|\n",
            "+---------+---------------+------------+------------+------+----------------+---+--------+--------+----------+-----------+-----+--------------+-------------+-------------+\n",
            "\n",
            "+--------------------+---------------+------------+------------------+--------------------+----------------+---+--------------------+--------------------+----------+-----------+--------------------+--------------+--------------------+-------------+\n",
            "|           song_name|song_popularity|acousticness|      danceability|              energy|instrumentalness|key|            liveness|            loudness|audio_mode|speechiness|               tempo|time_signature|       audio_valence|song_duration|\n",
            "+--------------------+---------------+------------+------------------+--------------------+----------------+---+--------------------+--------------------+----------+-----------+--------------------+--------------+--------------------+-------------+\n",
            "|Lambada - Origina...|             67|         0.0|0.7559999999999999|                 0.8|             723|  5|                  47|              -5.158|         1|        329|             118.921|             4|                 967|         3.46|\n",
            "|  Losing My Religion|             28|         0.0|             0.672|                 841|               0|  9|                 135|-5.992.000.000.00...|         0|        285|             125.437|             4|                0.82|         4.46|\n",
            "|Love The Way You Lie|             20|         0.0|0.4370000000000001|                 878|               0| 10|35.100.000.000.00...|              -3.876|         1|        396|7.947.399.999.999...|             4|                 621|         2.64|\n",
            "|Shake, Rattle And...|             59|         0.0|0.6709999999999999|                 679|               0|  5|                 158|             -11.237|         1|        142|             166.726|             4|                0.82|         2.51|\n",
            "|This Old Heart Of...|             19|         0.0|              0.63|                 644|               0|  5|                 265|-63.210.000.000.0...|         1|         29|             131.593|             4|                 926|         2.75|\n",
            "|    Careless Whisper|             68|         0.0|             0.583|                 545|               0|  2|                 133|             -11.698|         0|        351|              153.25|             4|                 0.8|         5.04|\n",
            "|        Walk Of Life|             38|         0.0|             0.461|                 918|              33|  4|                 126|              -8.507|         1|        959|             172.435|             4|                 802|         4.17|\n",
            "|         The Morning|             72|         0.0|             0.652|5.489.999.999.999...|               0|  6|                 104|              -7.555|         0|         39|             120.073|             4|18.600.000.000.00...|         5.21|\n",
            "|            Balloons|             43|         0.0|0.5820000000000001|                 984|             153|  9|                 713|              -1.962|         0|        529|15.394.299.999.99...|             4|7.709.999.999.999...|         3.01|\n",
            "|          Echo Beach|             58|         0.0|              0.54|                 746|               8|  7|                 976|              -9.412|         1|         45|             163.809|             4|                 826|         3.66|\n",
            "|        I Want Candy|             42|         0.0|             0.674|                 797|             358|  7|                 832|              -8.205|         1|        807|             110.062|             4|                 688|          2.7|\n",
            "|            Teardrop|             70|         0.0|             0.615|                 419|               4| 11|                 135|                -8.8|         0|        395|              76.997|             4|21.600.000.000.00...|         5.51|\n",
            "|             Napkins|             63|         0.0|             0.747|                 444|               1|  0|                 106|              -8.976|         0|        386|             144.138|             4|                0.66|         3.59|\n",
            "|               Erase|             63|         0.0|             0.657|                 376|               2|  9|                 272|              -6.534|         1|        463|              84.905|             4|                 575|         3.95|\n",
            "|            Medicine|             28|         0.0|             0.611|                 412|               0|  8|                 0.1|              -7.445|         0|        202|             116.078|             4|                 116|         3.72|\n",
            "|          Wide World|             19|         0.0|             0.547|                 693|             121| 11|                 705|               -7.18|         0|        286|             168.093|             4|                 634|         3.56|\n",
            "|    Reminder - Remix|             65|         0.0|             0.745|                0.65|               0|  0|                 107|-5.992.000.000.00...|         0|        227|             159.994|             4|                 521|          3.7|\n",
            "|I Get The Bag (fe...|             12|         0.0|              0.89|                 633|             343| 11|                 993|              -5.475|         1|        168|13.994.799.999.99...|             4|                 425|         3.88|\n",
            "|    Sweet Soul Music|             60|         0.0|              0.59|                 659|               6|  5|35.600.000.000.00...|              -9.669|         1|        697|8.020.100.000.000...|             4|                 965|         2.35|\n",
            "|             Envidia|             37|         0.0|             0.618|                 261|               2| 10|                  92|              -12.86|         1|        358|              83.676|             4|                 552|         3.15|\n",
            "+--------------------+---------------+------------+------------------+--------------------+----------------+---+--------------------+--------------------+----------+-----------+--------------------+--------------+--------------------+-------------+\n",
            "only showing top 20 rows\n",
            "\n"
          ]
        }
      ]
    },
    {
      "cell_type": "code",
      "source": [
        "df = backup_acousticness\n",
        "df.show()"
      ],
      "metadata": {
        "colab": {
          "base_uri": "https://localhost:8080/"
        },
        "id": "14K9JxGxQ3l4",
        "outputId": "a0df2d2d-bf04-4530-aa8a-d7c4c5ed4f55"
      },
      "execution_count": null,
      "outputs": [
        {
          "output_type": "stream",
          "name": "stdout",
          "text": [
            "+--------------------+---------------+------------+------------------+--------------------+----------------+---+--------------------+--------------------+----------+-----------+--------------------+--------------+--------------------+-------------+\n",
            "|           song_name|song_popularity|acousticness|      danceability|              energy|instrumentalness|key|            liveness|            loudness|audio_mode|speechiness|               tempo|time_signature|       audio_valence|song_duration|\n",
            "+--------------------+---------------+------------+------------------+--------------------+----------------+---+--------------------+--------------------+----------+-----------+--------------------+--------------+--------------------+-------------+\n",
            "|Lambada - Origina...|             67|       0.211|0.7559999999999999|                 0.8|             723|  5|                  47|              -5.158|         1|        329|             118.921|             4|                 967|         3.46|\n",
            "|  Losing My Religion|             28|      0.0767|             0.672|                 841|               0|  9|                 135|-5.992.000.000.00...|         0|        285|             125.437|             4|                0.82|         4.46|\n",
            "|Love The Way You Lie|             20|       0.188|0.4370000000000001|                 878|               0| 10|35.100.000.000.00...|              -3.876|         1|        396|7.947.399.999.999...|             4|                 621|         2.64|\n",
            "|Shake, Rattle And...|             59|       0.159|0.6709999999999999|                 679|               0|  5|                 158|             -11.237|         1|        142|             166.726|             4|                0.82|         2.51|\n",
            "|This Old Heart Of...|             19|       0.236|              0.63|                 644|               0|  5|                 265|-63.210.000.000.0...|         1|         29|             131.593|             4|                 926|         2.75|\n",
            "|    Careless Whisper|             68|       0.232|             0.583|                 545|               0|  2|                 133|             -11.698|         0|        351|              153.25|             4|                 0.8|         5.04|\n",
            "|        Walk Of Life|             38|       0.405|             0.461|                 918|              33|  4|                 126|              -8.507|         1|        959|             172.435|             4|                 802|         4.17|\n",
            "|         The Morning|             72|       0.317|             0.652|5.489.999.999.999...|               0|  6|                 104|              -7.555|         0|         39|             120.073|             4|18.600.000.000.00...|         5.21|\n",
            "|            Balloons|             43|      0.0826|0.5820000000000001|                 984|             153|  9|                 713|              -1.962|         0|        529|15.394.299.999.99...|             4|7.709.999.999.999...|         3.01|\n",
            "|          Echo Beach|             58|        0.13|              0.54|                 746|               8|  7|                 976|              -9.412|         1|         45|             163.809|             4|                 826|         3.66|\n",
            "|        I Want Candy|             42|      0.0026|             0.674|                 797|             358|  7|                 832|              -8.205|         1|        807|             110.062|             4|                 688|          2.7|\n",
            "|            Teardrop|             70|      0.0173|             0.615|                 419|               4| 11|                 135|                -8.8|         0|        395|              76.997|             4|21.600.000.000.00...|         5.51|\n",
            "|             Napkins|             63|       0.431|             0.747|                 444|               1|  0|                 106|              -8.976|         0|        386|             144.138|             4|                0.66|         3.59|\n",
            "|               Erase|             63|       0.688|             0.657|                 376|               2|  9|                 272|              -6.534|         1|        463|              84.905|             4|                 575|         3.95|\n",
            "|            Medicine|             28|       0.206|             0.611|                 412|               0|  8|                 0.1|              -7.445|         0|        202|             116.078|             4|                 116|         3.72|\n",
            "|          Wide World|             19|       0.899|             0.547|                 693|             121| 11|                 705|               -7.18|         0|        286|             168.093|             4|                 634|         3.56|\n",
            "|    Reminder - Remix|             65|       0.149|             0.745|                0.65|               0|  0|                 107|-5.992.000.000.00...|         0|        227|             159.994|             4|                 521|          3.7|\n",
            "|I Get The Bag (fe...|             12|      0.0232|              0.89|                 633|             343| 11|                 993|              -5.475|         1|        168|13.994.799.999.99...|             4|                 425|         3.88|\n",
            "|    Sweet Soul Music|             60|       0.104|              0.59|                 659|               6|  5|35.600.000.000.00...|              -9.669|         1|        697|8.020.100.000.000...|             4|                 965|         2.35|\n",
            "|             Envidia|             37|       0.806|             0.618|                 261|               2| 10|                  92|              -12.86|         1|        358|              83.676|             4|                 552|         3.15|\n",
            "+--------------------+---------------+------------+------------------+--------------------+----------------+---+--------------------+--------------------+----------+-----------+--------------------+--------------+--------------------+-------------+\n",
            "only showing top 20 rows\n",
            "\n"
          ]
        }
      ]
    },
    {
      "cell_type": "code",
      "source": [
        "# quinta tentativa  ARRENDONDAR E CONVERTER PARA DECIMALTYPE\n",
        "backup_acousticness = df\n",
        "df = df.withColumn(\"acousticness\", regexp_extract(\"acousticness\", r\"\\d+\", 0))\n",
        "df = df.withColumn('acousticness', F.col('acousticness').cast(DecimalType(10, 4)))\n",
        "df.select([F.count(F.when(F.isnan(c) | F.col(c).isNull(), c)).alias(c) for c in df.columns]).show()\n",
        "df.show()"
      ],
      "metadata": {
        "colab": {
          "base_uri": "https://localhost:8080/"
        },
        "id": "6p2jXJsNQ8vj",
        "outputId": "a5e8965c-11b7-423f-8f23-419cafbe079f"
      },
      "execution_count": null,
      "outputs": [
        {
          "output_type": "stream",
          "name": "stdout",
          "text": [
            "+---------+---------------+------------+------------+------+----------------+---+--------+--------+----------+-----------+-----+--------------+-------------+-------------+\n",
            "|song_name|song_popularity|acousticness|danceability|energy|instrumentalness|key|liveness|loudness|audio_mode|speechiness|tempo|time_signature|audio_valence|song_duration|\n",
            "+---------+---------------+------------+------------+------+----------------+---+--------+--------+----------+-----------+-----+--------------+-------------+-------------+\n",
            "|        0|              0|           0|           0|     0|               0|  0|       0|       0|         0|          0|    0|             0|            0|            1|\n",
            "+---------+---------------+------------+------------+------+----------------+---+--------+--------+----------+-----------+-----+--------------+-------------+-------------+\n",
            "\n",
            "+--------------------+---------------+------------+------------------+--------------------+----------------+---+--------------------+--------------------+----------+-----------+--------------------+--------------+--------------------+-------------+\n",
            "|           song_name|song_popularity|acousticness|      danceability|              energy|instrumentalness|key|            liveness|            loudness|audio_mode|speechiness|               tempo|time_signature|       audio_valence|song_duration|\n",
            "+--------------------+---------------+------------+------------------+--------------------+----------------+---+--------------------+--------------------+----------+-----------+--------------------+--------------+--------------------+-------------+\n",
            "|Lambada - Origina...|             67|      0.0000|0.7559999999999999|                 0.8|             723|  5|                  47|              -5.158|         1|        329|             118.921|             4|                 967|         3.46|\n",
            "|  Losing My Religion|             28|      0.0000|             0.672|                 841|               0|  9|                 135|-5.992.000.000.00...|         0|        285|             125.437|             4|                0.82|         4.46|\n",
            "|Love The Way You Lie|             20|      0.0000|0.4370000000000001|                 878|               0| 10|35.100.000.000.00...|              -3.876|         1|        396|7.947.399.999.999...|             4|                 621|         2.64|\n",
            "|Shake, Rattle And...|             59|      0.0000|0.6709999999999999|                 679|               0|  5|                 158|             -11.237|         1|        142|             166.726|             4|                0.82|         2.51|\n",
            "|This Old Heart Of...|             19|      0.0000|              0.63|                 644|               0|  5|                 265|-63.210.000.000.0...|         1|         29|             131.593|             4|                 926|         2.75|\n",
            "|    Careless Whisper|             68|      0.0000|             0.583|                 545|               0|  2|                 133|             -11.698|         0|        351|              153.25|             4|                 0.8|         5.04|\n",
            "|        Walk Of Life|             38|      0.0000|             0.461|                 918|              33|  4|                 126|              -8.507|         1|        959|             172.435|             4|                 802|         4.17|\n",
            "|         The Morning|             72|      0.0000|             0.652|5.489.999.999.999...|               0|  6|                 104|              -7.555|         0|         39|             120.073|             4|18.600.000.000.00...|         5.21|\n",
            "|            Balloons|             43|      0.0000|0.5820000000000001|                 984|             153|  9|                 713|              -1.962|         0|        529|15.394.299.999.99...|             4|7.709.999.999.999...|         3.01|\n",
            "|          Echo Beach|             58|      0.0000|              0.54|                 746|               8|  7|                 976|              -9.412|         1|         45|             163.809|             4|                 826|         3.66|\n",
            "|        I Want Candy|             42|      0.0000|             0.674|                 797|             358|  7|                 832|              -8.205|         1|        807|             110.062|             4|                 688|          2.7|\n",
            "|            Teardrop|             70|      0.0000|             0.615|                 419|               4| 11|                 135|                -8.8|         0|        395|              76.997|             4|21.600.000.000.00...|         5.51|\n",
            "|             Napkins|             63|      0.0000|             0.747|                 444|               1|  0|                 106|              -8.976|         0|        386|             144.138|             4|                0.66|         3.59|\n",
            "|               Erase|             63|      0.0000|             0.657|                 376|               2|  9|                 272|              -6.534|         1|        463|              84.905|             4|                 575|         3.95|\n",
            "|            Medicine|             28|      0.0000|             0.611|                 412|               0|  8|                 0.1|              -7.445|         0|        202|             116.078|             4|                 116|         3.72|\n",
            "|          Wide World|             19|      0.0000|             0.547|                 693|             121| 11|                 705|               -7.18|         0|        286|             168.093|             4|                 634|         3.56|\n",
            "|    Reminder - Remix|             65|      0.0000|             0.745|                0.65|               0|  0|                 107|-5.992.000.000.00...|         0|        227|             159.994|             4|                 521|          3.7|\n",
            "|I Get The Bag (fe...|             12|      0.0000|              0.89|                 633|             343| 11|                 993|              -5.475|         1|        168|13.994.799.999.99...|             4|                 425|         3.88|\n",
            "|    Sweet Soul Music|             60|      0.0000|              0.59|                 659|               6|  5|35.600.000.000.00...|              -9.669|         1|        697|8.020.100.000.000...|             4|                 965|         2.35|\n",
            "|             Envidia|             37|      0.0000|             0.618|                 261|               2| 10|                  92|              -12.86|         1|        358|              83.676|             4|                 552|         3.15|\n",
            "+--------------------+---------------+------------+------------------+--------------------+----------------+---+--------------------+--------------------+----------+-----------+--------------------+--------------+--------------------+-------------+\n",
            "only showing top 20 rows\n",
            "\n"
          ]
        }
      ]
    },
    {
      "cell_type": "code",
      "source": [
        " df = backup_acousticness"
      ],
      "metadata": {
        "id": "Eanqx17YR3XN"
      },
      "execution_count": null,
      "outputs": []
    },
    {
      "cell_type": "code",
      "source": [
        "df.printSchema()"
      ],
      "metadata": {
        "colab": {
          "base_uri": "https://localhost:8080/"
        },
        "id": "3pNm39rvR0Xx",
        "outputId": "74d3078f-bab1-4324-afdf-661f9ad3107e"
      },
      "execution_count": null,
      "outputs": [
        {
          "output_type": "stream",
          "name": "stdout",
          "text": [
            "root\n",
            " |-- song_name: string (nullable = true)\n",
            " |-- song_popularity: integer (nullable = true)\n",
            " |-- acousticness: string (nullable = true)\n",
            " |-- danceability: string (nullable = true)\n",
            " |-- energy: string (nullable = true)\n",
            " |-- instrumentalness: string (nullable = true)\n",
            " |-- key: integer (nullable = true)\n",
            " |-- liveness: string (nullable = true)\n",
            " |-- loudness: string (nullable = true)\n",
            " |-- audio_mode: string (nullable = true)\n",
            " |-- speechiness: string (nullable = true)\n",
            " |-- tempo: string (nullable = true)\n",
            " |-- time_signature: string (nullable = true)\n",
            " |-- audio_valence: string (nullable = true)\n",
            " |-- song_duration: double (nullable = true)\n",
            "\n"
          ]
        }
      ]
    },
    {
      "cell_type": "code",
      "source": [
        "df.show()"
      ],
      "metadata": {
        "colab": {
          "base_uri": "https://localhost:8080/"
        },
        "id": "KM6zx1AmSGWL",
        "outputId": "ed468f97-ee25-4627-be55-2207fcfdde3b"
      },
      "execution_count": null,
      "outputs": [
        {
          "output_type": "stream",
          "name": "stdout",
          "text": [
            "+--------------------+---------------+------------+------------------+--------------------+----------------+---+--------------------+--------------------+----------+-----------+--------------------+--------------+--------------------+-------------+\n",
            "|           song_name|song_popularity|acousticness|      danceability|              energy|instrumentalness|key|            liveness|            loudness|audio_mode|speechiness|               tempo|time_signature|       audio_valence|song_duration|\n",
            "+--------------------+---------------+------------+------------------+--------------------+----------------+---+--------------------+--------------------+----------+-----------+--------------------+--------------+--------------------+-------------+\n",
            "|Lambada - Origina...|             67|           0|0.7559999999999999|                 0.8|             723|  5|                  47|              -5.158|         1|        329|             118.921|             4|                 967|         3.46|\n",
            "|  Losing My Religion|             28|           0|             0.672|                 841|               0|  9|                 135|-5.992.000.000.00...|         0|        285|             125.437|             4|                0.82|         4.46|\n",
            "|Love The Way You Lie|             20|           0|0.4370000000000001|                 878|               0| 10|35.100.000.000.00...|              -3.876|         1|        396|7.947.399.999.999...|             4|                 621|         2.64|\n",
            "|Shake, Rattle And...|             59|           0|0.6709999999999999|                 679|               0|  5|                 158|             -11.237|         1|        142|             166.726|             4|                0.82|         2.51|\n",
            "|This Old Heart Of...|             19|           0|              0.63|                 644|               0|  5|                 265|-63.210.000.000.0...|         1|         29|             131.593|             4|                 926|         2.75|\n",
            "|    Careless Whisper|             68|           0|             0.583|                 545|               0|  2|                 133|             -11.698|         0|        351|              153.25|             4|                 0.8|         5.04|\n",
            "|        Walk Of Life|             38|           0|             0.461|                 918|              33|  4|                 126|              -8.507|         1|        959|             172.435|             4|                 802|         4.17|\n",
            "|         The Morning|             72|           0|             0.652|5.489.999.999.999...|               0|  6|                 104|              -7.555|         0|         39|             120.073|             4|18.600.000.000.00...|         5.21|\n",
            "|            Balloons|             43|           0|0.5820000000000001|                 984|             153|  9|                 713|              -1.962|         0|        529|15.394.299.999.99...|             4|7.709.999.999.999...|         3.01|\n",
            "|          Echo Beach|             58|           0|              0.54|                 746|               8|  7|                 976|              -9.412|         1|         45|             163.809|             4|                 826|         3.66|\n",
            "|        I Want Candy|             42|           0|             0.674|                 797|             358|  7|                 832|              -8.205|         1|        807|             110.062|             4|                 688|          2.7|\n",
            "|            Teardrop|             70|           0|             0.615|                 419|               4| 11|                 135|                -8.8|         0|        395|              76.997|             4|21.600.000.000.00...|         5.51|\n",
            "|             Napkins|             63|           0|             0.747|                 444|               1|  0|                 106|              -8.976|         0|        386|             144.138|             4|                0.66|         3.59|\n",
            "|               Erase|             63|           0|             0.657|                 376|               2|  9|                 272|              -6.534|         1|        463|              84.905|             4|                 575|         3.95|\n",
            "|            Medicine|             28|           0|             0.611|                 412|               0|  8|                 0.1|              -7.445|         0|        202|             116.078|             4|                 116|         3.72|\n",
            "|          Wide World|             19|           0|             0.547|                 693|             121| 11|                 705|               -7.18|         0|        286|             168.093|             4|                 634|         3.56|\n",
            "|    Reminder - Remix|             65|           0|             0.745|                0.65|               0|  0|                 107|-5.992.000.000.00...|         0|        227|             159.994|             4|                 521|          3.7|\n",
            "|I Get The Bag (fe...|             12|           0|              0.89|                 633|             343| 11|                 993|              -5.475|         1|        168|13.994.799.999.99...|             4|                 425|         3.88|\n",
            "|    Sweet Soul Music|             60|           0|              0.59|                 659|               6|  5|35.600.000.000.00...|              -9.669|         1|        697|8.020.100.000.000...|             4|                 965|         2.35|\n",
            "|             Envidia|             37|           0|             0.618|                 261|               2| 10|                  92|              -12.86|         1|        358|              83.676|             4|                 552|         3.15|\n",
            "+--------------------+---------------+------------+------------------+--------------------+----------------+---+--------------------+--------------------+----------+-----------+--------------------+--------------+--------------------+-------------+\n",
            "only showing top 20 rows\n",
            "\n"
          ]
        }
      ]
    },
    {
      "cell_type": "code",
      "source": [
        "df = backup_song_duration_m\n",
        "df.show()"
      ],
      "metadata": {
        "colab": {
          "base_uri": "https://localhost:8080/"
        },
        "id": "n4jaBmjCR0ew",
        "outputId": "85fe77de-8c92-49f2-8653-47b7667d3ee1"
      },
      "execution_count": null,
      "outputs": [
        {
          "output_type": "stream",
          "name": "stdout",
          "text": [
            "+--------------------+---------------+----------------+--------------------+------------------+--------------------+----------------+---+--------------------+--------------------+----------+-----------+--------------------+--------------+--------------------+\n",
            "|           song_name|song_popularity|song_duration_ms|        acousticness|      danceability|              energy|instrumentalness|key|            liveness|            loudness|audio_mode|speechiness|               tempo|time_signature|       audio_valence|\n",
            "+--------------------+---------------+----------------+--------------------+------------------+--------------------+----------------+---+--------------------+--------------------+----------+-----------+--------------------+--------------+--------------------+\n",
            "|Lambada - Origina...|             67|          207466|               0.211|0.7559999999999999|                 0.8|             723|  5|                  47|              -5.158|         1|        329|             118.921|             4|                 967|\n",
            "|  Losing My Religion|             28|          267733|              0.0767|             0.672|                 841|               0|  9|                 135|-5.992.000.000.00...|         0|        285|             125.437|             4|                0.82|\n",
            "|Love The Way You Lie|             20|          158146|               0.188|0.4370000000000001|                 878|               0| 10|35.100.000.000.00...|              -3.876|         1|        396|7.947.399.999.999...|             4|                 621|\n",
            "|Shake, Rattle And...|             59|          150466|               0.159|0.6709999999999999|                 679|               0|  5|                 158|             -11.237|         1|        142|             166.726|             4|                0.82|\n",
            "|This Old Heart Of...|             19|          164960|               0.236|              0.63|                 644|               0|  5|                 265|-63.210.000.000.0...|         1|         29|             131.593|             4|                 926|\n",
            "|    Careless Whisper|             68|          302600|               0.232|             0.583|                 545|               0|  2|                 133|             -11.698|         0|        351|              153.25|             4|                 0.8|\n",
            "|        Walk Of Life|             38|          249960|               0.405|             0.461|                 918|              33|  4|                 126|              -8.507|         1|        959|             172.435|             4|                 802|\n",
            "|         The Morning|             72|          312426|               0.317|             0.652|5.489.999.999.999...|               0|  6|                 104|              -7.555|         0|         39|             120.073|             4|18.600.000.000.00...|\n",
            "|            Balloons|             43|          180666|              0.0826|0.5820000000000001|                 984|             153|  9|                 713|              -1.962|         0|        529|15.394.299.999.99...|             4|7.709.999.999.999...|\n",
            "|          Echo Beach|             58|          219866|                0.13|              0.54|                 746|               8|  7|                 976|              -9.412|         1|         45|             163.809|             4|                 826|\n",
            "|        I Want Candy|             42|          161933|0.002610000000000...|             0.674|                 797|             358|  7|                 832|              -8.205|         1|        807|             110.062|             4|                 688|\n",
            "|            Teardrop|             70|          330773|              0.0173|             0.615|                 419|               4| 11|                 135|                -8.8|         0|        395|              76.997|             4|21.600.000.000.00...|\n",
            "|             Napkins|             63|          215625|               0.431|             0.747|                 444|               1|  0|                 106|              -8.976|         0|        386|             144.138|             4|                0.66|\n",
            "|               Erase|             63|          236794|               0.688|             0.657|                 376|               2|  9|                 272|              -6.534|         1|        463|              84.905|             4|                 575|\n",
            "|            Medicine|             28|          223259|               0.206|             0.611|                 412|               0|  8|                 0.1|              -7.445|         0|        202|             116.078|             4|                 116|\n",
            "|          Wide World|             19|          213540|               0.899|             0.547|                 693|             121| 11|                 705|               -7.18|         0|        286|             168.093|             4|                 634|\n",
            "|    Reminder - Remix|             65|          221968|               0.149|             0.745|                0.65|               0|  0|                 107|-5.992.000.000.00...|         0|        227|             159.994|             4|                 521|\n",
            "|I Get The Bag (fe...|             12|          233087|              0.0232|              0.89|                 633|             343| 11|                 993|              -5.475|         1|        168|13.994.799.999.99...|             4|                 425|\n",
            "|    Sweet Soul Music|             60|          141066|               0.104|              0.59|                 659|               6|  5|35.600.000.000.00...|              -9.669|         1|        697|8.020.100.000.000...|             4|                 965|\n",
            "|             Envidia|             37|          189000|  0.8059999999999999|             0.618|                 261|               2| 10|                  92|              -12.86|         1|        358|              83.676|             4|                 552|\n",
            "+--------------------+---------------+----------------+--------------------+------------------+--------------------+----------------+---+--------------------+--------------------+----------+-----------+--------------------+--------------+--------------------+\n",
            "only showing top 20 rows\n",
            "\n"
          ]
        }
      ]
    },
    {
      "cell_type": "code",
      "source": [
        "backup_danceability = df\n",
        "# df = df.withColumn(\"danceabilitys\", regexp_extract(\"danceabilitys\", r\"\\d+\", 0))\n",
        "df = df.withColumn('danceability', F.col('danceability').cast(FloatType()))\n",
        "df.select([F.count(F.when(F.isnan(c) | F.col(c).isNull(), c)).alias(c) for c in df.columns]).show()\n",
        "df.show()"
      ],
      "metadata": {
        "id": "8ux0bwQ2Avou",
        "colab": {
          "base_uri": "https://localhost:8080/"
        },
        "outputId": "8e657ec3-4804-4f4d-8f5d-e0d004bd4f51"
      },
      "execution_count": null,
      "outputs": [
        {
          "output_type": "stream",
          "name": "stdout",
          "text": [
            "+---------+---------------+----------------+------------+------------+------+----------------+---+--------+--------+----------+-----------+-----+--------------+-------------+\n",
            "|song_name|song_popularity|song_duration_ms|acousticness|danceability|energy|instrumentalness|key|liveness|loudness|audio_mode|speechiness|tempo|time_signature|audio_valence|\n",
            "+---------+---------------+----------------+------------+------------+------+----------------+---+--------+--------+----------+-----------+-----+--------------+-------------+\n",
            "|        0|              0|               0|           0|           0|     0|               0|  0|       0|       0|         0|          0|    0|             0|            0|\n",
            "+---------+---------------+----------------+------------+------------+------+----------------+---+--------+--------+----------+-----------+-----+--------------+-------------+\n",
            "\n",
            "+--------------------+---------------+----------------+--------------------+------------+--------------------+----------------+---+--------------------+--------------------+----------+-----------+--------------------+--------------+--------------------+\n",
            "|           song_name|song_popularity|song_duration_ms|        acousticness|danceability|              energy|instrumentalness|key|            liveness|            loudness|audio_mode|speechiness|               tempo|time_signature|       audio_valence|\n",
            "+--------------------+---------------+----------------+--------------------+------------+--------------------+----------------+---+--------------------+--------------------+----------+-----------+--------------------+--------------+--------------------+\n",
            "|Lambada - Origina...|             67|          207466|               0.211|       0.756|                 0.8|             723|  5|                  47|              -5.158|         1|        329|             118.921|             4|                 967|\n",
            "|  Losing My Religion|             28|          267733|              0.0767|       0.672|                 841|               0|  9|                 135|-5.992.000.000.00...|         0|        285|             125.437|             4|                0.82|\n",
            "|Love The Way You Lie|             20|          158146|               0.188|       0.437|                 878|               0| 10|35.100.000.000.00...|              -3.876|         1|        396|7.947.399.999.999...|             4|                 621|\n",
            "|Shake, Rattle And...|             59|          150466|               0.159|       0.671|                 679|               0|  5|                 158|             -11.237|         1|        142|             166.726|             4|                0.82|\n",
            "|This Old Heart Of...|             19|          164960|               0.236|        0.63|                 644|               0|  5|                 265|-63.210.000.000.0...|         1|         29|             131.593|             4|                 926|\n",
            "|    Careless Whisper|             68|          302600|               0.232|       0.583|                 545|               0|  2|                 133|             -11.698|         0|        351|              153.25|             4|                 0.8|\n",
            "|        Walk Of Life|             38|          249960|               0.405|       0.461|                 918|              33|  4|                 126|              -8.507|         1|        959|             172.435|             4|                 802|\n",
            "|         The Morning|             72|          312426|               0.317|       0.652|5.489.999.999.999...|               0|  6|                 104|              -7.555|         0|         39|             120.073|             4|18.600.000.000.00...|\n",
            "|            Balloons|             43|          180666|              0.0826|       0.582|                 984|             153|  9|                 713|              -1.962|         0|        529|15.394.299.999.99...|             4|7.709.999.999.999...|\n",
            "|          Echo Beach|             58|          219866|                0.13|        0.54|                 746|               8|  7|                 976|              -9.412|         1|         45|             163.809|             4|                 826|\n",
            "|        I Want Candy|             42|          161933|0.002610000000000...|       0.674|                 797|             358|  7|                 832|              -8.205|         1|        807|             110.062|             4|                 688|\n",
            "|            Teardrop|             70|          330773|              0.0173|       0.615|                 419|               4| 11|                 135|                -8.8|         0|        395|              76.997|             4|21.600.000.000.00...|\n",
            "|             Napkins|             63|          215625|               0.431|       0.747|                 444|               1|  0|                 106|              -8.976|         0|        386|             144.138|             4|                0.66|\n",
            "|               Erase|             63|          236794|               0.688|       0.657|                 376|               2|  9|                 272|              -6.534|         1|        463|              84.905|             4|                 575|\n",
            "|            Medicine|             28|          223259|               0.206|       0.611|                 412|               0|  8|                 0.1|              -7.445|         0|        202|             116.078|             4|                 116|\n",
            "|          Wide World|             19|          213540|               0.899|       0.547|                 693|             121| 11|                 705|               -7.18|         0|        286|             168.093|             4|                 634|\n",
            "|    Reminder - Remix|             65|          221968|               0.149|       0.745|                0.65|               0|  0|                 107|-5.992.000.000.00...|         0|        227|             159.994|             4|                 521|\n",
            "|I Get The Bag (fe...|             12|          233087|              0.0232|        0.89|                 633|             343| 11|                 993|              -5.475|         1|        168|13.994.799.999.99...|             4|                 425|\n",
            "|    Sweet Soul Music|             60|          141066|               0.104|        0.59|                 659|               6|  5|35.600.000.000.00...|              -9.669|         1|        697|8.020.100.000.000...|             4|                 965|\n",
            "|             Envidia|             37|          189000|  0.8059999999999999|       0.618|                 261|               2| 10|                  92|              -12.86|         1|        358|              83.676|             4|                 552|\n",
            "+--------------------+---------------+----------------+--------------------+------------+--------------------+----------------+---+--------------------+--------------------+----------+-----------+--------------------+--------------+--------------------+\n",
            "only showing top 20 rows\n",
            "\n"
          ]
        }
      ]
    },
    {
      "cell_type": "code",
      "source": [
        "# tentei converter para Intertype a coluna energy mas nao deu certo\n",
        "backup_energy = df\n",
        "df = df.withColumn(\"energys\", regexp_extract(\"energy\", r\"\\d+\", 0))\n",
        "df = df.withColumn('energy', F.col('energy').cast(IntegerType()))\n"
      ],
      "metadata": {
        "id": "kLf_yhNIAvtR",
        "colab": {
          "base_uri": "https://localhost:8080/"
        },
        "outputId": "27769777-703a-4423-cda6-a8cf0d5033ac"
      },
      "execution_count": null,
      "outputs": [
        {
          "output_type": "stream",
          "name": "stdout",
          "text": [
            "+---------+---------------+----------------+------------+------------+------+----------------+---+--------+--------+----------+-----------+-----+--------------+-------------+-------+\n",
            "|song_name|song_popularity|song_duration_ms|acousticness|danceability|energy|instrumentalness|key|liveness|loudness|audio_mode|speechiness|tempo|time_signature|audio_valence|energys|\n",
            "+---------+---------------+----------------+------------+------------+------+----------------+---+--------+--------+----------+-----------+-----+--------------+-------------+-------+\n",
            "|        0|              0|               0|           0|           0|  2613|               0|  0|       0|       0|         0|          0|    0|             0|            0|      0|\n",
            "+---------+---------------+----------------+------------+------------+------+----------------+---+--------+--------+----------+-----------+-----+--------------+-------------+-------+\n",
            "\n"
          ]
        }
      ]
    },
    {
      "cell_type": "code",
      "source": [
        "# ativei o back para tentar agora converter para Pandas\n",
        "df = backup_energy\n",
        "df.select([F.count(F.when(F.isnan(c) | F.col(c).isNull(), c)).alias(c) for c in df.columns]).show()"
      ],
      "metadata": {
        "colab": {
          "base_uri": "https://localhost:8080/"
        },
        "id": "LQlid6NgIpGI",
        "outputId": "21d17520-e778-49bd-b1d4-706eda159e4c"
      },
      "execution_count": null,
      "outputs": [
        {
          "output_type": "stream",
          "name": "stdout",
          "text": [
            "+---------+---------------+----------------+------------+------------+------+----------------+---+--------+--------+----------+-----------+-----+--------------+-------------+\n",
            "|song_name|song_popularity|song_duration_ms|acousticness|danceability|energy|instrumentalness|key|liveness|loudness|audio_mode|speechiness|tempo|time_signature|audio_valence|\n",
            "+---------+---------------+----------------+------------+------------+------+----------------+---+--------+--------+----------+-----------+-----+--------------+-------------+\n",
            "|        0|              0|               0|           0|           0|     0|               0|  0|       0|       0|         0|          0|    0|             0|            0|\n",
            "+---------+---------------+----------------+------------+------------+------+----------------+---+--------+--------+----------+-----------+-----+--------------+-------------+\n",
            "\n"
          ]
        }
      ]
    },
    {
      "cell_type": "code",
      "source": [
        "# ativei o back para tentar agora converter para Pandas\n",
        "pandas_df = df.toPandas()"
      ],
      "metadata": {
        "id": "sPR7mCzDYE6c"
      },
      "execution_count": null,
      "outputs": []
    },
    {
      "cell_type": "code",
      "source": [
        "# ativei o back para tentar agora converter para Pandas\n",
        "print(pandas_df.info())"
      ],
      "metadata": {
        "colab": {
          "base_uri": "https://localhost:8080/"
        },
        "id": "tFBnLAKlYWFc",
        "outputId": "e5413f6b-5d2e-4949-a75d-16d19a69be88"
      },
      "execution_count": null,
      "outputs": [
        {
          "output_type": "stream",
          "name": "stdout",
          "text": [
            "<class 'pandas.core.frame.DataFrame'>\n",
            "RangeIndex: 14919 entries, 0 to 14918\n",
            "Data columns (total 15 columns):\n",
            " #   Column            Non-Null Count  Dtype  \n",
            "---  ------            --------------  -----  \n",
            " 0   song_name         14919 non-null  object \n",
            " 1   song_popularity   14919 non-null  int32  \n",
            " 2   song_duration_ms  14919 non-null  object \n",
            " 3   acousticness      14919 non-null  object \n",
            " 4   danceability      14919 non-null  float32\n",
            " 5   energy            14919 non-null  object \n",
            " 6   instrumentalness  14919 non-null  object \n",
            " 7   key               14919 non-null  int32  \n",
            " 8   liveness          14919 non-null  object \n",
            " 9   loudness          14919 non-null  object \n",
            " 10  audio_mode        14919 non-null  object \n",
            " 11  speechiness       14919 non-null  object \n",
            " 12  tempo             14919 non-null  object \n",
            " 13  time_signature    14919 non-null  object \n",
            " 14  audio_valence     14919 non-null  object \n",
            "dtypes: float32(1), int32(2), object(12)\n",
            "memory usage: 1.5+ MB\n",
            "None\n"
          ]
        }
      ]
    },
    {
      "cell_type": "code",
      "source": [
        "# fiz um round na string para ter no maximo 5 caracteres\n",
        "pandas_df[\"energy\"] = pandas_df[\"energy\"].str[:5]"
      ],
      "metadata": {
        "id": "DGDTr_6PbB7O"
      },
      "execution_count": null,
      "outputs": []
    },
    {
      "cell_type": "code",
      "source": [
        "# apliquei regex para que elimite todos os pontos e deixe apenas o primeiro.\n",
        "pandas_df[\"energy\"] = pandas_df[\"energy\"].str.replace(\"\\.+\", \".\", regex=True)"
      ],
      "metadata": {
        "id": "l12OuxWbKZa-"
      },
      "execution_count": null,
      "outputs": []
    },
    {
      "cell_type": "code",
      "source": [
        "pandas_df"
      ],
      "metadata": {
        "colab": {
          "base_uri": "https://localhost:8080/",
          "height": 423
        },
        "id": "8UnWoXqJbGIQ",
        "outputId": "d944df2e-7d90-4d59-f3ea-b36791b3a5e8"
      },
      "execution_count": null,
      "outputs": [
        {
          "output_type": "execute_result",
          "data": {
            "text/plain": [
              "                                      song_name  song_popularity  \\\n",
              "0               Lambada - Original Version 1989               67   \n",
              "1                            Losing My Religion               28   \n",
              "2                          Love The Way You Lie               20   \n",
              "3                        Shake, Rattle And Roll               59   \n",
              "4      This Old Heart Of Mine (Is Weak For You)               19   \n",
              "...                                         ...              ...   \n",
              "14914                                 Numbed Up               43   \n",
              "14915                               Next Levels               51   \n",
              "14916                          The Sweet Escape               32   \n",
              "14917                  Don't Wanna Fall In Love               47   \n",
              "14918                                     Bands               75   \n",
              "\n",
              "      song_duration_ms        acousticness  danceability energy  \\\n",
              "0               207466               0.211         0.756    0.8   \n",
              "1               267733              0.0767         0.672    841   \n",
              "2               158146               0.188         0.437    878   \n",
              "3               150466               0.159         0.671    679   \n",
              "4               164960               0.236         0.630    644   \n",
              "...                ...                 ...           ...    ...   \n",
              "14914           233920               0.114         0.735    621   \n",
              "14915           229320  0.6509999999999999         0.729    557   \n",
              "14916           246466               0.191         0.756   0.77   \n",
              "14917           247840              0.0152         0.708  6.809   \n",
              "14918            98734                0.21         0.834    457   \n",
              "\n",
              "      instrumentalness  key                liveness                 loudness  \\\n",
              "0                  723    5                      47                   -5.158   \n",
              "1                    0    9                     135   -5.992.000.000.000.000   \n",
              "2                    0   10  35.100.000.000.000.000                   -3.876   \n",
              "3                    0    5                     158                  -11.237   \n",
              "4                    0    5                     265  -63.210.000.000.000.000   \n",
              "...                ...  ...                     ...                      ...   \n",
              "14914              481    7                     235                   -4.464   \n",
              "14915              123    6                     262                  -11.264   \n",
              "14916                0    1  17.800.000.000.000.000                   -3.502   \n",
              "14917                3    1                     373                  -11.226   \n",
              "14918                0   10                     641                  -10.775   \n",
              "\n",
              "      audio_mode            speechiness                   tempo  \\\n",
              "0              1                    329                 118.921   \n",
              "1              0                    285                 125.437   \n",
              "2              1                    396   7.947.399.999.999.990   \n",
              "3              1                    142                 166.726   \n",
              "4              1                     29                 131.593   \n",
              "...          ...                    ...                     ...   \n",
              "14914          1                    576                 144.078   \n",
              "14915          1                    243                  92.814   \n",
              "14916          1                    343                 119.961   \n",
              "14917          1                    422                 111.574   \n",
              "14918          1  5.720.000.000.000.000  15.800.799.999.999.900   \n",
              "\n",
              "      time_signature          audio_valence  \n",
              "0                  4                    967  \n",
              "1                  4                   0.82  \n",
              "2                  4                    621  \n",
              "3                  4                   0.82  \n",
              "4                  4                    926  \n",
              "...              ...                    ...  \n",
              "14914              4                    472  \n",
              "14915              4                    897  \n",
              "14916              4                   0.73  \n",
              "14917              4  8.140.000.000.000.000  \n",
              "14918              4  5.329.999.999.999.990  \n",
              "\n",
              "[14919 rows x 15 columns]"
            ],
            "text/html": [
              "\n",
              "  <div id=\"df-f984e747-5a5b-418e-b08e-3690bc48970d\">\n",
              "    <div class=\"colab-df-container\">\n",
              "      <div>\n",
              "<style scoped>\n",
              "    .dataframe tbody tr th:only-of-type {\n",
              "        vertical-align: middle;\n",
              "    }\n",
              "\n",
              "    .dataframe tbody tr th {\n",
              "        vertical-align: top;\n",
              "    }\n",
              "\n",
              "    .dataframe thead th {\n",
              "        text-align: right;\n",
              "    }\n",
              "</style>\n",
              "<table border=\"1\" class=\"dataframe\">\n",
              "  <thead>\n",
              "    <tr style=\"text-align: right;\">\n",
              "      <th></th>\n",
              "      <th>song_name</th>\n",
              "      <th>song_popularity</th>\n",
              "      <th>song_duration_ms</th>\n",
              "      <th>acousticness</th>\n",
              "      <th>danceability</th>\n",
              "      <th>energy</th>\n",
              "      <th>instrumentalness</th>\n",
              "      <th>key</th>\n",
              "      <th>liveness</th>\n",
              "      <th>loudness</th>\n",
              "      <th>audio_mode</th>\n",
              "      <th>speechiness</th>\n",
              "      <th>tempo</th>\n",
              "      <th>time_signature</th>\n",
              "      <th>audio_valence</th>\n",
              "    </tr>\n",
              "  </thead>\n",
              "  <tbody>\n",
              "    <tr>\n",
              "      <th>0</th>\n",
              "      <td>Lambada - Original Version 1989</td>\n",
              "      <td>67</td>\n",
              "      <td>207466</td>\n",
              "      <td>0.211</td>\n",
              "      <td>0.756</td>\n",
              "      <td>0.8</td>\n",
              "      <td>723</td>\n",
              "      <td>5</td>\n",
              "      <td>47</td>\n",
              "      <td>-5.158</td>\n",
              "      <td>1</td>\n",
              "      <td>329</td>\n",
              "      <td>118.921</td>\n",
              "      <td>4</td>\n",
              "      <td>967</td>\n",
              "    </tr>\n",
              "    <tr>\n",
              "      <th>1</th>\n",
              "      <td>Losing My Religion</td>\n",
              "      <td>28</td>\n",
              "      <td>267733</td>\n",
              "      <td>0.0767</td>\n",
              "      <td>0.672</td>\n",
              "      <td>841</td>\n",
              "      <td>0</td>\n",
              "      <td>9</td>\n",
              "      <td>135</td>\n",
              "      <td>-5.992.000.000.000.000</td>\n",
              "      <td>0</td>\n",
              "      <td>285</td>\n",
              "      <td>125.437</td>\n",
              "      <td>4</td>\n",
              "      <td>0.82</td>\n",
              "    </tr>\n",
              "    <tr>\n",
              "      <th>2</th>\n",
              "      <td>Love The Way You Lie</td>\n",
              "      <td>20</td>\n",
              "      <td>158146</td>\n",
              "      <td>0.188</td>\n",
              "      <td>0.437</td>\n",
              "      <td>878</td>\n",
              "      <td>0</td>\n",
              "      <td>10</td>\n",
              "      <td>35.100.000.000.000.000</td>\n",
              "      <td>-3.876</td>\n",
              "      <td>1</td>\n",
              "      <td>396</td>\n",
              "      <td>7.947.399.999.999.990</td>\n",
              "      <td>4</td>\n",
              "      <td>621</td>\n",
              "    </tr>\n",
              "    <tr>\n",
              "      <th>3</th>\n",
              "      <td>Shake, Rattle And Roll</td>\n",
              "      <td>59</td>\n",
              "      <td>150466</td>\n",
              "      <td>0.159</td>\n",
              "      <td>0.671</td>\n",
              "      <td>679</td>\n",
              "      <td>0</td>\n",
              "      <td>5</td>\n",
              "      <td>158</td>\n",
              "      <td>-11.237</td>\n",
              "      <td>1</td>\n",
              "      <td>142</td>\n",
              "      <td>166.726</td>\n",
              "      <td>4</td>\n",
              "      <td>0.82</td>\n",
              "    </tr>\n",
              "    <tr>\n",
              "      <th>4</th>\n",
              "      <td>This Old Heart Of Mine (Is Weak For You)</td>\n",
              "      <td>19</td>\n",
              "      <td>164960</td>\n",
              "      <td>0.236</td>\n",
              "      <td>0.630</td>\n",
              "      <td>644</td>\n",
              "      <td>0</td>\n",
              "      <td>5</td>\n",
              "      <td>265</td>\n",
              "      <td>-63.210.000.000.000.000</td>\n",
              "      <td>1</td>\n",
              "      <td>29</td>\n",
              "      <td>131.593</td>\n",
              "      <td>4</td>\n",
              "      <td>926</td>\n",
              "    </tr>\n",
              "    <tr>\n",
              "      <th>...</th>\n",
              "      <td>...</td>\n",
              "      <td>...</td>\n",
              "      <td>...</td>\n",
              "      <td>...</td>\n",
              "      <td>...</td>\n",
              "      <td>...</td>\n",
              "      <td>...</td>\n",
              "      <td>...</td>\n",
              "      <td>...</td>\n",
              "      <td>...</td>\n",
              "      <td>...</td>\n",
              "      <td>...</td>\n",
              "      <td>...</td>\n",
              "      <td>...</td>\n",
              "      <td>...</td>\n",
              "    </tr>\n",
              "    <tr>\n",
              "      <th>14914</th>\n",
              "      <td>Numbed Up</td>\n",
              "      <td>43</td>\n",
              "      <td>233920</td>\n",
              "      <td>0.114</td>\n",
              "      <td>0.735</td>\n",
              "      <td>621</td>\n",
              "      <td>481</td>\n",
              "      <td>7</td>\n",
              "      <td>235</td>\n",
              "      <td>-4.464</td>\n",
              "      <td>1</td>\n",
              "      <td>576</td>\n",
              "      <td>144.078</td>\n",
              "      <td>4</td>\n",
              "      <td>472</td>\n",
              "    </tr>\n",
              "    <tr>\n",
              "      <th>14915</th>\n",
              "      <td>Next Levels</td>\n",
              "      <td>51</td>\n",
              "      <td>229320</td>\n",
              "      <td>0.6509999999999999</td>\n",
              "      <td>0.729</td>\n",
              "      <td>557</td>\n",
              "      <td>123</td>\n",
              "      <td>6</td>\n",
              "      <td>262</td>\n",
              "      <td>-11.264</td>\n",
              "      <td>1</td>\n",
              "      <td>243</td>\n",
              "      <td>92.814</td>\n",
              "      <td>4</td>\n",
              "      <td>897</td>\n",
              "    </tr>\n",
              "    <tr>\n",
              "      <th>14916</th>\n",
              "      <td>The Sweet Escape</td>\n",
              "      <td>32</td>\n",
              "      <td>246466</td>\n",
              "      <td>0.191</td>\n",
              "      <td>0.756</td>\n",
              "      <td>0.77</td>\n",
              "      <td>0</td>\n",
              "      <td>1</td>\n",
              "      <td>17.800.000.000.000.000</td>\n",
              "      <td>-3.502</td>\n",
              "      <td>1</td>\n",
              "      <td>343</td>\n",
              "      <td>119.961</td>\n",
              "      <td>4</td>\n",
              "      <td>0.73</td>\n",
              "    </tr>\n",
              "    <tr>\n",
              "      <th>14917</th>\n",
              "      <td>Don't Wanna Fall In Love</td>\n",
              "      <td>47</td>\n",
              "      <td>247840</td>\n",
              "      <td>0.0152</td>\n",
              "      <td>0.708</td>\n",
              "      <td>6.809</td>\n",
              "      <td>3</td>\n",
              "      <td>1</td>\n",
              "      <td>373</td>\n",
              "      <td>-11.226</td>\n",
              "      <td>1</td>\n",
              "      <td>422</td>\n",
              "      <td>111.574</td>\n",
              "      <td>4</td>\n",
              "      <td>8.140.000.000.000.000</td>\n",
              "    </tr>\n",
              "    <tr>\n",
              "      <th>14918</th>\n",
              "      <td>Bands</td>\n",
              "      <td>75</td>\n",
              "      <td>98734</td>\n",
              "      <td>0.21</td>\n",
              "      <td>0.834</td>\n",
              "      <td>457</td>\n",
              "      <td>0</td>\n",
              "      <td>10</td>\n",
              "      <td>641</td>\n",
              "      <td>-10.775</td>\n",
              "      <td>1</td>\n",
              "      <td>5.720.000.000.000.000</td>\n",
              "      <td>15.800.799.999.999.900</td>\n",
              "      <td>4</td>\n",
              "      <td>5.329.999.999.999.990</td>\n",
              "    </tr>\n",
              "  </tbody>\n",
              "</table>\n",
              "<p>14919 rows × 15 columns</p>\n",
              "</div>\n",
              "      <button class=\"colab-df-convert\" onclick=\"convertToInteractive('df-f984e747-5a5b-418e-b08e-3690bc48970d')\"\n",
              "              title=\"Convert this dataframe to an interactive table.\"\n",
              "              style=\"display:none;\">\n",
              "        \n",
              "  <svg xmlns=\"http://www.w3.org/2000/svg\" height=\"24px\"viewBox=\"0 0 24 24\"\n",
              "       width=\"24px\">\n",
              "    <path d=\"M0 0h24v24H0V0z\" fill=\"none\"/>\n",
              "    <path d=\"M18.56 5.44l.94 2.06.94-2.06 2.06-.94-2.06-.94-.94-2.06-.94 2.06-2.06.94zm-11 1L8.5 8.5l.94-2.06 2.06-.94-2.06-.94L8.5 2.5l-.94 2.06-2.06.94zm10 10l.94 2.06.94-2.06 2.06-.94-2.06-.94-.94-2.06-.94 2.06-2.06.94z\"/><path d=\"M17.41 7.96l-1.37-1.37c-.4-.4-.92-.59-1.43-.59-.52 0-1.04.2-1.43.59L10.3 9.45l-7.72 7.72c-.78.78-.78 2.05 0 2.83L4 21.41c.39.39.9.59 1.41.59.51 0 1.02-.2 1.41-.59l7.78-7.78 2.81-2.81c.8-.78.8-2.07 0-2.86zM5.41 20L4 18.59l7.72-7.72 1.47 1.35L5.41 20z\"/>\n",
              "  </svg>\n",
              "      </button>\n",
              "      \n",
              "  <style>\n",
              "    .colab-df-container {\n",
              "      display:flex;\n",
              "      flex-wrap:wrap;\n",
              "      gap: 12px;\n",
              "    }\n",
              "\n",
              "    .colab-df-convert {\n",
              "      background-color: #E8F0FE;\n",
              "      border: none;\n",
              "      border-radius: 50%;\n",
              "      cursor: pointer;\n",
              "      display: none;\n",
              "      fill: #1967D2;\n",
              "      height: 32px;\n",
              "      padding: 0 0 0 0;\n",
              "      width: 32px;\n",
              "    }\n",
              "\n",
              "    .colab-df-convert:hover {\n",
              "      background-color: #E2EBFA;\n",
              "      box-shadow: 0px 1px 2px rgba(60, 64, 67, 0.3), 0px 1px 3px 1px rgba(60, 64, 67, 0.15);\n",
              "      fill: #174EA6;\n",
              "    }\n",
              "\n",
              "    [theme=dark] .colab-df-convert {\n",
              "      background-color: #3B4455;\n",
              "      fill: #D2E3FC;\n",
              "    }\n",
              "\n",
              "    [theme=dark] .colab-df-convert:hover {\n",
              "      background-color: #434B5C;\n",
              "      box-shadow: 0px 1px 3px 1px rgba(0, 0, 0, 0.15);\n",
              "      filter: drop-shadow(0px 1px 2px rgba(0, 0, 0, 0.3));\n",
              "      fill: #FFFFFF;\n",
              "    }\n",
              "  </style>\n",
              "\n",
              "      <script>\n",
              "        const buttonEl =\n",
              "          document.querySelector('#df-f984e747-5a5b-418e-b08e-3690bc48970d button.colab-df-convert');\n",
              "        buttonEl.style.display =\n",
              "          google.colab.kernel.accessAllowed ? 'block' : 'none';\n",
              "\n",
              "        async function convertToInteractive(key) {\n",
              "          const element = document.querySelector('#df-f984e747-5a5b-418e-b08e-3690bc48970d');\n",
              "          const dataTable =\n",
              "            await google.colab.kernel.invokeFunction('convertToInteractive',\n",
              "                                                     [key], {});\n",
              "          if (!dataTable) return;\n",
              "\n",
              "          const docLinkHtml = 'Like what you see? Visit the ' +\n",
              "            '<a target=\"_blank\" href=https://colab.research.google.com/notebooks/data_table.ipynb>data table notebook</a>'\n",
              "            + ' to learn more about interactive tables.';\n",
              "          element.innerHTML = '';\n",
              "          dataTable['output_type'] = 'display_data';\n",
              "          await google.colab.output.renderOutput(dataTable, element);\n",
              "          const docLink = document.createElement('div');\n",
              "          docLink.innerHTML = docLinkHtml;\n",
              "          element.appendChild(docLink);\n",
              "        }\n",
              "      </script>\n",
              "    </div>\n",
              "  </div>\n",
              "  "
            ]
          },
          "metadata": {},
          "execution_count": 211
        }
      ]
    },
    {
      "cell_type": "code",
      "source": [
        "# agora enfim e possivel converter para float\n",
        "pandas_df[\"energy\"] = pandas_df[\"energy\"].astype(float)"
      ],
      "metadata": {
        "id": "XImH5YpvbRVu"
      },
      "execution_count": null,
      "outputs": []
    },
    {
      "cell_type": "code",
      "source": [
        "print(pandas_df.info())\n",
        "# no pandas a coluna acoustincness virou float"
      ],
      "metadata": {
        "colab": {
          "base_uri": "https://localhost:8080/"
        },
        "id": "45ILaDfdbnDo",
        "outputId": "bc3c85ff-321c-49ec-da50-07e8283622f0"
      },
      "execution_count": null,
      "outputs": [
        {
          "output_type": "stream",
          "name": "stdout",
          "text": [
            "<class 'pandas.core.frame.DataFrame'>\n",
            "RangeIndex: 14919 entries, 0 to 14918\n",
            "Data columns (total 15 columns):\n",
            " #   Column            Non-Null Count  Dtype  \n",
            "---  ------            --------------  -----  \n",
            " 0   song_name         14919 non-null  object \n",
            " 1   song_popularity   14919 non-null  int32  \n",
            " 2   song_duration_ms  14919 non-null  object \n",
            " 3   acousticness      14919 non-null  float64\n",
            " 4   danceability      14919 non-null  float32\n",
            " 5   energy            14919 non-null  float64\n",
            " 6   instrumentalness  14919 non-null  object \n",
            " 7   key               14919 non-null  int32  \n",
            " 8   liveness          14919 non-null  object \n",
            " 9   loudness          14919 non-null  object \n",
            " 10  audio_mode        14919 non-null  object \n",
            " 11  speechiness       14919 non-null  object \n",
            " 12  tempo             14919 non-null  object \n",
            " 13  time_signature    14919 non-null  object \n",
            " 14  audio_valence     14919 non-null  object \n",
            "dtypes: float32(1), float64(2), int32(2), object(10)\n",
            "memory usage: 1.5+ MB\n",
            "None\n"
          ]
        }
      ]
    },
    {
      "cell_type": "code",
      "source": [
        "# como os numeros de energia variam de 0 a 1\n",
        "# para todos os numeros estranhos que sao maiores que 1 foram divididos por 1000\n",
        "def divide_energy(x):\n",
        "    if x > 1:\n",
        "        return x / 1000\n",
        "    else:\n",
        "        return x\n",
        "\n",
        "pandas_df[\"energy\"] = pandas_df[\"energy\"].apply(divide_energy)"
      ],
      "metadata": {
        "id": "C-R3YXLhYSg6"
      },
      "execution_count": null,
      "outputs": []
    },
    {
      "cell_type": "code",
      "source": [
        "# enfim o misterio foi solucionado ! o mesmo processo pode ser aplicado a coluna acousticness agora com o pandas.\n",
        "pandas_df"
      ],
      "metadata": {
        "colab": {
          "base_uri": "https://localhost:8080/",
          "height": 423
        },
        "id": "MhMvILDWcFTk",
        "outputId": "8a3d2fc8-2401-46bd-d190-6af46d8b194b"
      },
      "execution_count": null,
      "outputs": [
        {
          "output_type": "execute_result",
          "data": {
            "text/plain": [
              "                                      song_name  song_popularity  \\\n",
              "0               Lambada - Original Version 1989               67   \n",
              "1                            Losing My Religion               28   \n",
              "2                          Love The Way You Lie               20   \n",
              "3                        Shake, Rattle And Roll               59   \n",
              "4      This Old Heart Of Mine (Is Weak For You)               19   \n",
              "...                                         ...              ...   \n",
              "14914                                 Numbed Up               43   \n",
              "14915                               Next Levels               51   \n",
              "14916                          The Sweet Escape               32   \n",
              "14917                  Don't Wanna Fall In Love               47   \n",
              "14918                                     Bands               75   \n",
              "\n",
              "      song_duration_ms        acousticness  danceability    energy  \\\n",
              "0               207466               0.211         0.756  0.800000   \n",
              "1               267733              0.0767         0.672  0.841000   \n",
              "2               158146               0.188         0.437  0.878000   \n",
              "3               150466               0.159         0.671  0.679000   \n",
              "4               164960               0.236         0.630  0.644000   \n",
              "...                ...                 ...           ...       ...   \n",
              "14914           233920               0.114         0.735  0.621000   \n",
              "14915           229320  0.6509999999999999         0.729  0.557000   \n",
              "14916           246466               0.191         0.756  0.770000   \n",
              "14917           247840              0.0152         0.708  0.006809   \n",
              "14918            98734                0.21         0.834  0.457000   \n",
              "\n",
              "      instrumentalness  key                liveness                 loudness  \\\n",
              "0                  723    5                      47                   -5.158   \n",
              "1                    0    9                     135   -5.992.000.000.000.000   \n",
              "2                    0   10  35.100.000.000.000.000                   -3.876   \n",
              "3                    0    5                     158                  -11.237   \n",
              "4                    0    5                     265  -63.210.000.000.000.000   \n",
              "...                ...  ...                     ...                      ...   \n",
              "14914              481    7                     235                   -4.464   \n",
              "14915              123    6                     262                  -11.264   \n",
              "14916                0    1  17.800.000.000.000.000                   -3.502   \n",
              "14917                3    1                     373                  -11.226   \n",
              "14918                0   10                     641                  -10.775   \n",
              "\n",
              "      audio_mode            speechiness                   tempo  \\\n",
              "0              1                    329                 118.921   \n",
              "1              0                    285                 125.437   \n",
              "2              1                    396   7.947.399.999.999.990   \n",
              "3              1                    142                 166.726   \n",
              "4              1                     29                 131.593   \n",
              "...          ...                    ...                     ...   \n",
              "14914          1                    576                 144.078   \n",
              "14915          1                    243                  92.814   \n",
              "14916          1                    343                 119.961   \n",
              "14917          1                    422                 111.574   \n",
              "14918          1  5.720.000.000.000.000  15.800.799.999.999.900   \n",
              "\n",
              "      time_signature          audio_valence  \n",
              "0                  4                    967  \n",
              "1                  4                   0.82  \n",
              "2                  4                    621  \n",
              "3                  4                   0.82  \n",
              "4                  4                    926  \n",
              "...              ...                    ...  \n",
              "14914              4                    472  \n",
              "14915              4                    897  \n",
              "14916              4                   0.73  \n",
              "14917              4  8.140.000.000.000.000  \n",
              "14918              4  5.329.999.999.999.990  \n",
              "\n",
              "[14919 rows x 15 columns]"
            ],
            "text/html": [
              "\n",
              "  <div id=\"df-97bae1b5-9cb2-4c96-afff-2979a48ae530\">\n",
              "    <div class=\"colab-df-container\">\n",
              "      <div>\n",
              "<style scoped>\n",
              "    .dataframe tbody tr th:only-of-type {\n",
              "        vertical-align: middle;\n",
              "    }\n",
              "\n",
              "    .dataframe tbody tr th {\n",
              "        vertical-align: top;\n",
              "    }\n",
              "\n",
              "    .dataframe thead th {\n",
              "        text-align: right;\n",
              "    }\n",
              "</style>\n",
              "<table border=\"1\" class=\"dataframe\">\n",
              "  <thead>\n",
              "    <tr style=\"text-align: right;\">\n",
              "      <th></th>\n",
              "      <th>song_name</th>\n",
              "      <th>song_popularity</th>\n",
              "      <th>song_duration_ms</th>\n",
              "      <th>acousticness</th>\n",
              "      <th>danceability</th>\n",
              "      <th>energy</th>\n",
              "      <th>instrumentalness</th>\n",
              "      <th>key</th>\n",
              "      <th>liveness</th>\n",
              "      <th>loudness</th>\n",
              "      <th>audio_mode</th>\n",
              "      <th>speechiness</th>\n",
              "      <th>tempo</th>\n",
              "      <th>time_signature</th>\n",
              "      <th>audio_valence</th>\n",
              "    </tr>\n",
              "  </thead>\n",
              "  <tbody>\n",
              "    <tr>\n",
              "      <th>0</th>\n",
              "      <td>Lambada - Original Version 1989</td>\n",
              "      <td>67</td>\n",
              "      <td>207466</td>\n",
              "      <td>0.211</td>\n",
              "      <td>0.756</td>\n",
              "      <td>0.800000</td>\n",
              "      <td>723</td>\n",
              "      <td>5</td>\n",
              "      <td>47</td>\n",
              "      <td>-5.158</td>\n",
              "      <td>1</td>\n",
              "      <td>329</td>\n",
              "      <td>118.921</td>\n",
              "      <td>4</td>\n",
              "      <td>967</td>\n",
              "    </tr>\n",
              "    <tr>\n",
              "      <th>1</th>\n",
              "      <td>Losing My Religion</td>\n",
              "      <td>28</td>\n",
              "      <td>267733</td>\n",
              "      <td>0.0767</td>\n",
              "      <td>0.672</td>\n",
              "      <td>0.841000</td>\n",
              "      <td>0</td>\n",
              "      <td>9</td>\n",
              "      <td>135</td>\n",
              "      <td>-5.992.000.000.000.000</td>\n",
              "      <td>0</td>\n",
              "      <td>285</td>\n",
              "      <td>125.437</td>\n",
              "      <td>4</td>\n",
              "      <td>0.82</td>\n",
              "    </tr>\n",
              "    <tr>\n",
              "      <th>2</th>\n",
              "      <td>Love The Way You Lie</td>\n",
              "      <td>20</td>\n",
              "      <td>158146</td>\n",
              "      <td>0.188</td>\n",
              "      <td>0.437</td>\n",
              "      <td>0.878000</td>\n",
              "      <td>0</td>\n",
              "      <td>10</td>\n",
              "      <td>35.100.000.000.000.000</td>\n",
              "      <td>-3.876</td>\n",
              "      <td>1</td>\n",
              "      <td>396</td>\n",
              "      <td>7.947.399.999.999.990</td>\n",
              "      <td>4</td>\n",
              "      <td>621</td>\n",
              "    </tr>\n",
              "    <tr>\n",
              "      <th>3</th>\n",
              "      <td>Shake, Rattle And Roll</td>\n",
              "      <td>59</td>\n",
              "      <td>150466</td>\n",
              "      <td>0.159</td>\n",
              "      <td>0.671</td>\n",
              "      <td>0.679000</td>\n",
              "      <td>0</td>\n",
              "      <td>5</td>\n",
              "      <td>158</td>\n",
              "      <td>-11.237</td>\n",
              "      <td>1</td>\n",
              "      <td>142</td>\n",
              "      <td>166.726</td>\n",
              "      <td>4</td>\n",
              "      <td>0.82</td>\n",
              "    </tr>\n",
              "    <tr>\n",
              "      <th>4</th>\n",
              "      <td>This Old Heart Of Mine (Is Weak For You)</td>\n",
              "      <td>19</td>\n",
              "      <td>164960</td>\n",
              "      <td>0.236</td>\n",
              "      <td>0.630</td>\n",
              "      <td>0.644000</td>\n",
              "      <td>0</td>\n",
              "      <td>5</td>\n",
              "      <td>265</td>\n",
              "      <td>-63.210.000.000.000.000</td>\n",
              "      <td>1</td>\n",
              "      <td>29</td>\n",
              "      <td>131.593</td>\n",
              "      <td>4</td>\n",
              "      <td>926</td>\n",
              "    </tr>\n",
              "    <tr>\n",
              "      <th>...</th>\n",
              "      <td>...</td>\n",
              "      <td>...</td>\n",
              "      <td>...</td>\n",
              "      <td>...</td>\n",
              "      <td>...</td>\n",
              "      <td>...</td>\n",
              "      <td>...</td>\n",
              "      <td>...</td>\n",
              "      <td>...</td>\n",
              "      <td>...</td>\n",
              "      <td>...</td>\n",
              "      <td>...</td>\n",
              "      <td>...</td>\n",
              "      <td>...</td>\n",
              "      <td>...</td>\n",
              "    </tr>\n",
              "    <tr>\n",
              "      <th>14914</th>\n",
              "      <td>Numbed Up</td>\n",
              "      <td>43</td>\n",
              "      <td>233920</td>\n",
              "      <td>0.114</td>\n",
              "      <td>0.735</td>\n",
              "      <td>0.621000</td>\n",
              "      <td>481</td>\n",
              "      <td>7</td>\n",
              "      <td>235</td>\n",
              "      <td>-4.464</td>\n",
              "      <td>1</td>\n",
              "      <td>576</td>\n",
              "      <td>144.078</td>\n",
              "      <td>4</td>\n",
              "      <td>472</td>\n",
              "    </tr>\n",
              "    <tr>\n",
              "      <th>14915</th>\n",
              "      <td>Next Levels</td>\n",
              "      <td>51</td>\n",
              "      <td>229320</td>\n",
              "      <td>0.6509999999999999</td>\n",
              "      <td>0.729</td>\n",
              "      <td>0.557000</td>\n",
              "      <td>123</td>\n",
              "      <td>6</td>\n",
              "      <td>262</td>\n",
              "      <td>-11.264</td>\n",
              "      <td>1</td>\n",
              "      <td>243</td>\n",
              "      <td>92.814</td>\n",
              "      <td>4</td>\n",
              "      <td>897</td>\n",
              "    </tr>\n",
              "    <tr>\n",
              "      <th>14916</th>\n",
              "      <td>The Sweet Escape</td>\n",
              "      <td>32</td>\n",
              "      <td>246466</td>\n",
              "      <td>0.191</td>\n",
              "      <td>0.756</td>\n",
              "      <td>0.770000</td>\n",
              "      <td>0</td>\n",
              "      <td>1</td>\n",
              "      <td>17.800.000.000.000.000</td>\n",
              "      <td>-3.502</td>\n",
              "      <td>1</td>\n",
              "      <td>343</td>\n",
              "      <td>119.961</td>\n",
              "      <td>4</td>\n",
              "      <td>0.73</td>\n",
              "    </tr>\n",
              "    <tr>\n",
              "      <th>14917</th>\n",
              "      <td>Don't Wanna Fall In Love</td>\n",
              "      <td>47</td>\n",
              "      <td>247840</td>\n",
              "      <td>0.0152</td>\n",
              "      <td>0.708</td>\n",
              "      <td>0.006809</td>\n",
              "      <td>3</td>\n",
              "      <td>1</td>\n",
              "      <td>373</td>\n",
              "      <td>-11.226</td>\n",
              "      <td>1</td>\n",
              "      <td>422</td>\n",
              "      <td>111.574</td>\n",
              "      <td>4</td>\n",
              "      <td>8.140.000.000.000.000</td>\n",
              "    </tr>\n",
              "    <tr>\n",
              "      <th>14918</th>\n",
              "      <td>Bands</td>\n",
              "      <td>75</td>\n",
              "      <td>98734</td>\n",
              "      <td>0.21</td>\n",
              "      <td>0.834</td>\n",
              "      <td>0.457000</td>\n",
              "      <td>0</td>\n",
              "      <td>10</td>\n",
              "      <td>641</td>\n",
              "      <td>-10.775</td>\n",
              "      <td>1</td>\n",
              "      <td>5.720.000.000.000.000</td>\n",
              "      <td>15.800.799.999.999.900</td>\n",
              "      <td>4</td>\n",
              "      <td>5.329.999.999.999.990</td>\n",
              "    </tr>\n",
              "  </tbody>\n",
              "</table>\n",
              "<p>14919 rows × 15 columns</p>\n",
              "</div>\n",
              "      <button class=\"colab-df-convert\" onclick=\"convertToInteractive('df-97bae1b5-9cb2-4c96-afff-2979a48ae530')\"\n",
              "              title=\"Convert this dataframe to an interactive table.\"\n",
              "              style=\"display:none;\">\n",
              "        \n",
              "  <svg xmlns=\"http://www.w3.org/2000/svg\" height=\"24px\"viewBox=\"0 0 24 24\"\n",
              "       width=\"24px\">\n",
              "    <path d=\"M0 0h24v24H0V0z\" fill=\"none\"/>\n",
              "    <path d=\"M18.56 5.44l.94 2.06.94-2.06 2.06-.94-2.06-.94-.94-2.06-.94 2.06-2.06.94zm-11 1L8.5 8.5l.94-2.06 2.06-.94-2.06-.94L8.5 2.5l-.94 2.06-2.06.94zm10 10l.94 2.06.94-2.06 2.06-.94-2.06-.94-.94-2.06-.94 2.06-2.06.94z\"/><path d=\"M17.41 7.96l-1.37-1.37c-.4-.4-.92-.59-1.43-.59-.52 0-1.04.2-1.43.59L10.3 9.45l-7.72 7.72c-.78.78-.78 2.05 0 2.83L4 21.41c.39.39.9.59 1.41.59.51 0 1.02-.2 1.41-.59l7.78-7.78 2.81-2.81c.8-.78.8-2.07 0-2.86zM5.41 20L4 18.59l7.72-7.72 1.47 1.35L5.41 20z\"/>\n",
              "  </svg>\n",
              "      </button>\n",
              "      \n",
              "  <style>\n",
              "    .colab-df-container {\n",
              "      display:flex;\n",
              "      flex-wrap:wrap;\n",
              "      gap: 12px;\n",
              "    }\n",
              "\n",
              "    .colab-df-convert {\n",
              "      background-color: #E8F0FE;\n",
              "      border: none;\n",
              "      border-radius: 50%;\n",
              "      cursor: pointer;\n",
              "      display: none;\n",
              "      fill: #1967D2;\n",
              "      height: 32px;\n",
              "      padding: 0 0 0 0;\n",
              "      width: 32px;\n",
              "    }\n",
              "\n",
              "    .colab-df-convert:hover {\n",
              "      background-color: #E2EBFA;\n",
              "      box-shadow: 0px 1px 2px rgba(60, 64, 67, 0.3), 0px 1px 3px 1px rgba(60, 64, 67, 0.15);\n",
              "      fill: #174EA6;\n",
              "    }\n",
              "\n",
              "    [theme=dark] .colab-df-convert {\n",
              "      background-color: #3B4455;\n",
              "      fill: #D2E3FC;\n",
              "    }\n",
              "\n",
              "    [theme=dark] .colab-df-convert:hover {\n",
              "      background-color: #434B5C;\n",
              "      box-shadow: 0px 1px 3px 1px rgba(0, 0, 0, 0.15);\n",
              "      filter: drop-shadow(0px 1px 2px rgba(0, 0, 0, 0.3));\n",
              "      fill: #FFFFFF;\n",
              "    }\n",
              "  </style>\n",
              "\n",
              "      <script>\n",
              "        const buttonEl =\n",
              "          document.querySelector('#df-97bae1b5-9cb2-4c96-afff-2979a48ae530 button.colab-df-convert');\n",
              "        buttonEl.style.display =\n",
              "          google.colab.kernel.accessAllowed ? 'block' : 'none';\n",
              "\n",
              "        async function convertToInteractive(key) {\n",
              "          const element = document.querySelector('#df-97bae1b5-9cb2-4c96-afff-2979a48ae530');\n",
              "          const dataTable =\n",
              "            await google.colab.kernel.invokeFunction('convertToInteractive',\n",
              "                                                     [key], {});\n",
              "          if (!dataTable) return;\n",
              "\n",
              "          const docLinkHtml = 'Like what you see? Visit the ' +\n",
              "            '<a target=\"_blank\" href=https://colab.research.google.com/notebooks/data_table.ipynb>data table notebook</a>'\n",
              "            + ' to learn more about interactive tables.';\n",
              "          element.innerHTML = '';\n",
              "          dataTable['output_type'] = 'display_data';\n",
              "          await google.colab.output.renderOutput(dataTable, element);\n",
              "          const docLink = document.createElement('div');\n",
              "          docLink.innerHTML = docLinkHtml;\n",
              "          element.appendChild(docLink);\n",
              "        }\n",
              "      </script>\n",
              "    </div>\n",
              "  </div>\n",
              "  "
            ]
          },
          "metadata": {},
          "execution_count": 220
        }
      ]
    },
    {
      "cell_type": "code",
      "source": [
        "spark_df = spark.createDataFrame(pandas_df)"
      ],
      "metadata": {
        "id": "zRSG0HbIe940"
      },
      "execution_count": null,
      "outputs": []
    },
    {
      "cell_type": "code",
      "source": [
        "spark_df.show()"
      ],
      "metadata": {
        "colab": {
          "base_uri": "https://localhost:8080/"
        },
        "id": "q_8SzNHoey6G",
        "outputId": "720e6a24-fe62-4688-c0fd-f9118f2579f3"
      },
      "execution_count": null,
      "outputs": [
        {
          "output_type": "stream",
          "name": "stdout",
          "text": [
            "+--------------------+---------------+----------------+------------+-------------------+--------+----------------+---+--------------------+--------------------+----------+-----------+--------------------+--------------+--------------------+\n",
            "|           song_name|song_popularity|song_duration_ms|acousticness|       danceability|  energy|instrumentalness|key|            liveness|            loudness|audio_mode|speechiness|               tempo|time_signature|       audio_valence|\n",
            "+--------------------+---------------+----------------+------------+-------------------+--------+----------------+---+--------------------+--------------------+----------+-----------+--------------------+--------------+--------------------+\n",
            "|Lambada - Origina...|             67|          207466|       0.211| 0.7559999823570251|     0.8|             723|  5|                  47|              -5.158|         1|        329|             118.921|             4|                 967|\n",
            "|  Losing My Religion|             28|          267733|       0.076|  0.671999990940094|   0.841|               0|  9|                 135|-5.992.000.000.00...|         0|        285|             125.437|             4|                0.82|\n",
            "|Love The Way You Lie|             20|          158146|       0.188|0.43700000643730164|   0.878|               0| 10|35.100.000.000.00...|              -3.876|         1|        396|7.947.399.999.999...|             4|                 621|\n",
            "|Shake, Rattle And...|             59|          150466|       0.159| 0.6710000038146973|   0.679|               0|  5|                 158|             -11.237|         1|        142|             166.726|             4|                0.82|\n",
            "|This Old Heart Of...|             19|          164960|       0.236| 0.6299999952316284|   0.644|               0|  5|                 265|-63.210.000.000.0...|         1|         29|             131.593|             4|                 926|\n",
            "|    Careless Whisper|             68|          302600|       0.232| 0.5830000042915344|   0.545|               0|  2|                 133|             -11.698|         0|        351|              153.25|             4|                 0.8|\n",
            "|        Walk Of Life|             38|          249960|       0.405|  0.460999995470047|   0.918|              33|  4|                 126|              -8.507|         1|        959|             172.435|             4|                 802|\n",
            "|         The Morning|             72|          312426|       0.317| 0.6520000100135803|0.005489|               0|  6|                 104|              -7.555|         0|         39|             120.073|             4|18.600.000.000.00...|\n",
            "|            Balloons|             43|          180666|       0.082| 0.5820000171661377|   0.984|             153|  9|                 713|              -1.962|         0|        529|15.394.299.999.99...|             4|7.709.999.999.999...|\n",
            "|          Echo Beach|             58|          219866|        0.13| 0.5400000214576721|   0.746|               8|  7|                 976|              -9.412|         1|         45|             163.809|             4|                 826|\n",
            "|        I Want Candy|             42|          161933|       0.002| 0.6740000247955322|   0.797|             358|  7|                 832|              -8.205|         1|        807|             110.062|             4|                 688|\n",
            "|            Teardrop|             70|          330773|       0.017| 0.6150000095367432|   0.419|               4| 11|                 135|                -8.8|         0|        395|              76.997|             4|21.600.000.000.00...|\n",
            "|             Napkins|             63|          215625|       0.431|  0.746999979019165|   0.444|               1|  0|                 106|              -8.976|         0|        386|             144.138|             4|                0.66|\n",
            "|               Erase|             63|          236794|       0.688| 0.6570000052452087|   0.376|               2|  9|                 272|              -6.534|         1|        463|              84.905|             4|                 575|\n",
            "|            Medicine|             28|          223259|       0.206| 0.6110000014305115|   0.412|               0|  8|                 0.1|              -7.445|         0|        202|             116.078|             4|                 116|\n",
            "|          Wide World|             19|          213540|       0.899|  0.546999990940094|   0.693|             121| 11|                 705|               -7.18|         0|        286|             168.093|             4|                 634|\n",
            "|    Reminder - Remix|             65|          221968|       0.149| 0.7450000047683716|    0.65|               0|  0|                 107|-5.992.000.000.00...|         0|        227|             159.994|             4|                 521|\n",
            "|I Get The Bag (fe...|             12|          233087|       0.023| 0.8899999856948853|   0.633|             343| 11|                 993|              -5.475|         1|        168|13.994.799.999.99...|             4|                 425|\n",
            "|    Sweet Soul Music|             60|          141066|       0.104| 0.5899999737739563|   0.659|               6|  5|35.600.000.000.00...|              -9.669|         1|        697|8.020.100.000.000...|             4|                 965|\n",
            "|             Envidia|             37|          189000|       0.805| 0.6179999709129333|   0.261|               2| 10|                  92|              -12.86|         1|        358|              83.676|             4|                 552|\n",
            "+--------------------+---------------+----------------+------------+-------------------+--------+----------------+---+--------------------+--------------------+----------+-----------+--------------------+--------------+--------------------+\n",
            "only showing top 20 rows\n",
            "\n"
          ]
        }
      ]
    },
    {
      "cell_type": "code",
      "source": [
        "df = df.withColumn(\"key\", regexp_replace(\"key\", \"[^0-9]+\", \"\"))\n",
        "df = df.withColumn(\"key\", df[\"key\"].cast(IntegerType()))\n",
        "df.select([F.count(F.when(F.isnan(c) | F.col(c).isNull(), c)).alias(c) for c in df.columns]).show()"
      ],
      "metadata": {
        "colab": {
          "base_uri": "https://localhost:8080/"
        },
        "id": "sbjZij2VKs09",
        "outputId": "69715286-54d0-4ac2-fd57-f2c01166293d"
      },
      "execution_count": null,
      "outputs": [
        {
          "output_type": "stream",
          "name": "stdout",
          "text": [
            "+---------+---------------+----------------+------------+------------+------+----------------+---+--------+--------+----------+-----------+-----+--------------+-------------+-------+\n",
            "|song_name|song_popularity|song_duration_ms|acousticness|danceability|energy|instrumentalness|key|liveness|loudness|audio_mode|speechiness|tempo|time_signature|audio_valence|energys|\n",
            "+---------+---------------+----------------+------------+------------+------+----------------+---+--------+--------+----------+-----------+-----+--------------+-------------+-------+\n",
            "|        0|              0|               1|           0|           0|     0|               0|  0|       0|       0|         0|          0|    0|             0|            0|      0|\n",
            "+---------+---------------+----------------+------------+------------+------+----------------+---+--------+--------+----------+-----------+-----+--------------+-------------+-------+\n",
            "\n"
          ]
        }
      ]
    },
    {
      "cell_type": "code",
      "source": [
        "backup_liveness = df\n",
        "df = df.withColumn(\"liveness\", regexp_replace(\"liveness\", \"[^0-9]+\", \"\"))\n",
        "df = df.withColumn(\"liveness\", df[\"liveness\"].cast(IntegerType()))\n",
        "df.select([F.count(F.when(F.isnan(c) | F.col(c).isNull(), c)).alias(c) for c in df.columns]).show()"
      ],
      "metadata": {
        "colab": {
          "base_uri": "https://localhost:8080/"
        },
        "id": "L_J0f-WwKs3r",
        "outputId": "a50fd62a-f5d1-46f6-c95e-ac004e3255ed"
      },
      "execution_count": null,
      "outputs": [
        {
          "output_type": "stream",
          "name": "stdout",
          "text": [
            "+---------+---------------+----------------+------------+------------+------+----------------+---+--------+--------+----------+-----------+-----+--------------+-------------+-------+\n",
            "|song_name|song_popularity|song_duration_ms|acousticness|danceability|energy|instrumentalness|key|liveness|loudness|audio_mode|speechiness|tempo|time_signature|audio_valence|energys|\n",
            "+---------+---------------+----------------+------------+------------+------+----------------+---+--------+--------+----------+-----------+-----+--------------+-------------+-------+\n",
            "|        0|              0|               1|           0|           0|     0|               0|  0|     794|       0|         0|          0|    0|             0|            0|      0|\n",
            "+---------+---------------+----------------+------------+------------+------+----------------+---+--------+--------+----------+-----------+-----+--------------+-------------+-------+\n",
            "\n"
          ]
        }
      ]
    },
    {
      "cell_type": "code",
      "source": [
        "# a coluna liveness precisa ser convertida para LongType\n",
        "df = backup_liveness\n",
        "df = df.withColumn(\"liveness\", regexp_replace(\"liveness\", \"[^0-9]+\", \"\"))\n",
        "df = df.withColumn(\"liveness\", df[\"liveness\"].cast(LongType()))\n",
        "df.select([F.count(F.when(F.isnan(c) | F.col(c).isNull(), c)).alias(c) for c in df.columns]).show()"
      ],
      "metadata": {
        "colab": {
          "base_uri": "https://localhost:8080/"
        },
        "id": "xruzs3sbKs6T",
        "outputId": "657a5691-c4e1-48de-8cb6-a0cca68b502c"
      },
      "execution_count": null,
      "outputs": [
        {
          "output_type": "stream",
          "name": "stdout",
          "text": [
            "+---------+---------------+----------------+------------+------------+------+----------------+---+--------+--------+----------+-----------+-----+--------------+-------------+-------+\n",
            "|song_name|song_popularity|song_duration_ms|acousticness|danceability|energy|instrumentalness|key|liveness|loudness|audio_mode|speechiness|tempo|time_signature|audio_valence|energys|\n",
            "+---------+---------------+----------------+------------+------------+------+----------------+---+--------+--------+----------+-----------+-----+--------------+-------------+-------+\n",
            "|        0|              0|               1|           0|           0|     0|               0|  0|       0|       0|         0|          0|    0|             0|            0|      0|\n",
            "+---------+---------------+----------------+------------+------------+------+----------------+---+--------+--------+----------+-----------+-----+--------------+-------------+-------+\n",
            "\n"
          ]
        }
      ]
    },
    {
      "cell_type": "code",
      "source": [
        "backup_loudness = df\n",
        "df = df.withColumn(\"loudness\", regexp_replace(\"loudness\", \"[^0-9]+\", \"\"))\n",
        "df = df.withColumn(\"loudness\", df[\"loudness\"].cast(FloatType()))\n",
        "df.select([F.count(F.when(F.isnan(c) | F.col(c).isNull(), c)).alias(c) for c in df.columns]).show()"
      ],
      "metadata": {
        "colab": {
          "base_uri": "https://localhost:8080/"
        },
        "id": "-rbkBbVYKs87",
        "outputId": "ced4b74b-0a25-407a-f5b8-e3ae630993e3"
      },
      "execution_count": null,
      "outputs": [
        {
          "output_type": "stream",
          "name": "stdout",
          "text": [
            "+---------+---------------+----------------+------------+------------+------+----------------+---+--------+--------+----------+-----------+-----+--------------+-------------+-------+\n",
            "|song_name|song_popularity|song_duration_ms|acousticness|danceability|energy|instrumentalness|key|liveness|loudness|audio_mode|speechiness|tempo|time_signature|audio_valence|energys|\n",
            "+---------+---------------+----------------+------------+------------+------+----------------+---+--------+--------+----------+-----------+-----+--------------+-------------+-------+\n",
            "|        0|              0|               1|           0|           0|     0|               0|  0|       0|       0|         0|          0|    0|             0|            0|      0|\n",
            "+---------+---------------+----------------+------------+------------+------+----------------+---+--------+--------+----------+-----------+-----+--------------+-------------+-------+\n",
            "\n"
          ]
        }
      ]
    },
    {
      "cell_type": "code",
      "source": [
        "backup_audio_mode= df\n",
        "df = df.withColumn(\"audio_mode\", regexp_replace(\"audio_mode\", \"[^0-9]+\", \"\"))\n",
        "df = df.withColumn(\"audio_mode\", df[\"audio_mode\"].cast(LongType()))\n",
        "df.select([F.count(F.when(F.isnan(c) | F.col(c).isNull(), c)).alias(c) for c in df.columns]).show()"
      ],
      "metadata": {
        "colab": {
          "base_uri": "https://localhost:8080/"
        },
        "id": "nTAN-vLbLsbW",
        "outputId": "227a6ac6-02ce-4f4d-cbb7-aeb6b7cdd590"
      },
      "execution_count": null,
      "outputs": [
        {
          "output_type": "stream",
          "name": "stdout",
          "text": [
            "+---------+---------------+----------------+------------+------------+------+----------------+---+--------+--------+----------+-----------+-----+--------------+-------------+-------+\n",
            "|song_name|song_popularity|song_duration_ms|acousticness|danceability|energy|instrumentalness|key|liveness|loudness|audio_mode|speechiness|tempo|time_signature|audio_valence|energys|\n",
            "+---------+---------------+----------------+------------+------------+------+----------------+---+--------+--------+----------+-----------+-----+--------------+-------------+-------+\n",
            "|        0|              0|               1|           0|           0|     0|               0|  0|       0|       0|         0|          0|    0|             0|            0|      0|\n",
            "+---------+---------------+----------------+------------+------------+------+----------------+---+--------+--------+----------+-----------+-----+--------------+-------------+-------+\n",
            "\n"
          ]
        }
      ]
    },
    {
      "cell_type": "code",
      "source": [
        "backup_speechiness = df\n",
        "df = df.withColumn(\"speechiness\", regexp_replace(\"speechiness\", \"[^0-9]+\", \"\"))\n",
        "df = df.withColumn(\"speechiness\", df[\"speechiness\"].cast(LongType()))\n",
        "df.select([F.count(F.when(F.isnan(c) | F.col(c).isNull(), c)).alias(c) for c in df.columns]).show()"
      ],
      "metadata": {
        "colab": {
          "base_uri": "https://localhost:8080/"
        },
        "id": "vsYIEbm1Lsk8",
        "outputId": "db9e2f4d-ea42-4289-d7d9-e3819474c551"
      },
      "execution_count": null,
      "outputs": [
        {
          "output_type": "stream",
          "name": "stdout",
          "text": [
            "+---------+---------------+----------------+------------+------------+------+----------------+---+--------+--------+----------+-----------+-----+--------------+-------------+-------+\n",
            "|song_name|song_popularity|song_duration_ms|acousticness|danceability|energy|instrumentalness|key|liveness|loudness|audio_mode|speechiness|tempo|time_signature|audio_valence|energys|\n",
            "+---------+---------------+----------------+------------+------------+------+----------------+---+--------+--------+----------+-----------+-----+--------------+-------------+-------+\n",
            "|        0|              0|               1|           0|           0|     0|               0|  0|       0|       0|         0|          0|    0|             0|            0|      0|\n",
            "+---------+---------------+----------------+------------+------------+------+----------------+---+--------+--------+----------+-----------+-----+--------------+-------------+-------+\n",
            "\n"
          ]
        }
      ]
    },
    {
      "cell_type": "code",
      "source": [
        "backup_tempo = df\n",
        "df = df.withColumn(\"tempo\", regexp_replace(\"tempo\", \"[^0-9]+\", \"\"))\n",
        "df = df.withColumn(\"tempo\", df[\"tempo\"].cast(LongType()))\n",
        "df.select([F.count(F.when(F.isnan(c) | F.col(c).isNull(), c)).alias(c) for c in df.columns]).show()"
      ],
      "metadata": {
        "colab": {
          "base_uri": "https://localhost:8080/"
        },
        "id": "TGqk_vFeLsqk",
        "outputId": "6da3e0ff-782b-458a-b76f-c662829340da"
      },
      "execution_count": null,
      "outputs": [
        {
          "output_type": "stream",
          "name": "stdout",
          "text": [
            "+---------+---------------+----------------+------------+------------+------+----------------+---+--------+--------+----------+-----------+-----+--------------+-------------+-------+\n",
            "|song_name|song_popularity|song_duration_ms|acousticness|danceability|energy|instrumentalness|key|liveness|loudness|audio_mode|speechiness|tempo|time_signature|audio_valence|energys|\n",
            "+---------+---------------+----------------+------------+------------+------+----------------+---+--------+--------+----------+-----------+-----+--------------+-------------+-------+\n",
            "|        0|              0|               1|           0|           0|     0|               0|  0|       0|       0|         0|          0|    0|             0|            0|      0|\n",
            "+---------+---------------+----------------+------------+------------+------+----------------+---+--------+--------+----------+-----------+-----+--------------+-------------+-------+\n",
            "\n"
          ]
        }
      ]
    },
    {
      "cell_type": "code",
      "source": [
        "df.show()"
      ],
      "metadata": {
        "colab": {
          "base_uri": "https://localhost:8080/"
        },
        "id": "2Tw2yuh2LsvS",
        "outputId": "a8098792-510d-49ce-c70f-5970401f750f"
      },
      "execution_count": null,
      "outputs": [
        {
          "output_type": "stream",
          "name": "stdout",
          "text": [
            "+--------------------+---------------+----------------+------------+------------+----------------+----------------+---+-----------------+-----------------+----------+-----------+-----------------+--------------+--------------------+----------------+\n",
            "|           song_name|song_popularity|song_duration_ms|acousticness|danceability|          energy|instrumentalness|key|         liveness|         loudness|audio_mode|speechiness|            tempo|time_signature|       audio_valence|         energys|\n",
            "+--------------------+---------------+----------------+------------+------------+----------------+----------------+---+-----------------+-----------------+----------+-----------+-----------------+--------------+--------------------+----------------+\n",
            "|Lambada - Origina...|             67|          207466|           0|           0|               8|             723|  5|               47|             5158|         1|        329|           118921|             4|                 967|               8|\n",
            "|  Losing My Religion|             28|          267733|           0|           0|             841|               0|  9|              135| 5992000000000000|         0|        285|           125437|             4|                0.82|             841|\n",
            "|Love The Way You Lie|             20|          158146|           0|           0|             878|               0| 10|35100000000000000|             3876|         1|        396| 7947399999999990|             4|                 621|             878|\n",
            "|Shake, Rattle And...|             59|          150466|           0|           0|             679|               0|  5|              158|            11237|         1|        142|           166726|             4|                0.82|             679|\n",
            "|This Old Heart Of...|             19|          164960|           0|           0|             644|               0|  5|              265|63210000000000000|         1|         29|           131593|             4|                 926|             644|\n",
            "|    Careless Whisper|             68|          302600|           0|           0|             545|               0|  2|              133|            11698|         0|        351|            15325|             4|                 0.8|             545|\n",
            "|        Walk Of Life|             38|          249960|           0|           0|             918|              33|  4|              126|             8507|         1|        959|           172435|             4|                 802|             918|\n",
            "|         The Morning|             72|          312426|           0|           0|5489999999999990|               0|  6|              104|             7555|         0|         39|           120073|             4|18.600.000.000.00...|5489999999999990|\n",
            "|            Balloons|             43|          180666|           0|           0|             984|             153|  9|              713|             1962|         0|        529|15394299999999900|             4|7.709.999.999.999...|             984|\n",
            "|          Echo Beach|             58|          219866|           0|           0|             746|               8|  7|              976|             9412|         1|         45|           163809|             4|                 826|             746|\n",
            "|        I Want Candy|             42|          161933|           0|           0|             797|             358|  7|              832|             8205|         1|        807|           110062|             4|                 688|             797|\n",
            "|            Teardrop|             70|          330773|           0|           0|             419|               4| 11|              135|               88|         0|        395|            76997|             4|21.600.000.000.00...|             419|\n",
            "|             Napkins|             63|          215625|           0|           0|             444|               1|  0|              106|             8976|         0|        386|           144138|             4|                0.66|             444|\n",
            "|               Erase|             63|          236794|           0|           0|             376|               2|  9|              272|             6534|         1|        463|            84905|             4|                 575|             376|\n",
            "|            Medicine|             28|          223259|           0|           0|             412|               0|  8|                1|             7445|         0|        202|           116078|             4|                 116|             412|\n",
            "|          Wide World|             19|          213540|           0|           0|             693|             121| 11|              705|              718|         0|        286|           168093|             4|                 634|             693|\n",
            "|    Reminder - Remix|             65|          221968|           0|           0|              65|               0|  0|              107| 5992000000000000|         0|        227|           159994|             4|                 521|              65|\n",
            "|I Get The Bag (fe...|             12|          233087|           0|           0|             633|             343| 11|              993|             5475|         1|        168|13994799999999900|             4|                 425|             633|\n",
            "|    Sweet Soul Music|             60|          141066|           0|           0|             659|               6|  5|35600000000000000|             9669|         1|        697| 8020100000000000|             4|                 965|             659|\n",
            "|             Envidia|             37|          189000|           0|           0|             261|               2| 10|               92|             1286|         1|        358|            83676|             4|                 552|             261|\n",
            "+--------------------+---------------+----------------+------------+------------+----------------+----------------+---+-----------------+-----------------+----------+-----------+-----------------+--------------+--------------------+----------------+\n",
            "only showing top 20 rows\n",
            "\n"
          ]
        }
      ]
    },
    {
      "cell_type": "code",
      "source": [],
      "metadata": {
        "id": "OjwQFl0TLsyX"
      },
      "execution_count": null,
      "outputs": []
    },
    {
      "cell_type": "code",
      "source": [
        "df.show()"
      ],
      "metadata": {
        "colab": {
          "base_uri": "https://localhost:8080/"
        },
        "id": "_64MHXqa5kvj",
        "outputId": "90025daa-6ba2-4e31-c045-f8792d243dee"
      },
      "execution_count": null,
      "outputs": [
        {
          "output_type": "stream",
          "name": "stdout",
          "text": [
            "+--------------------+---------------+----------------+--------------------+------------------+--------------------+----------------+---+--------------------+--------------------+----------+-----------+--------------------+--------------+--------------------+\n",
            "|           song_name|song_popularity|song_duration_ms|        acousticness|      danceability|              energy|instrumentalness|key|            liveness|            loudness|audio_mode|speechiness|               tempo|time_signature|       audio_valence|\n",
            "+--------------------+---------------+----------------+--------------------+------------------+--------------------+----------------+---+--------------------+--------------------+----------+-----------+--------------------+--------------+--------------------+\n",
            "|Lambada - Origina...|             67|          207466|               0.211|0.7559999999999999|                 0.8|             723|  5|                  47|              -5.158|         1|        329|             118.921|             4|                 967|\n",
            "|  Losing My Religion|             28|          267733|              0.0767|             0.672|                 841|               0|  9|                 135|-5.992.000.000.00...|         0|        285|             125.437|             4|                0.82|\n",
            "|Love The Way You Lie|             20|          158146|               0.188|0.4370000000000001|                 878|               0| 10|35.100.000.000.00...|              -3.876|         1|        396|7.947.399.999.999...|             4|                 621|\n",
            "|Shake, Rattle And...|             59|          150466|               0.159|0.6709999999999999|                 679|               0|  5|                 158|             -11.237|         1|        142|             166.726|             4|                0.82|\n",
            "|This Old Heart Of...|             19|          164960|               0.236|              0.63|                 644|               0|  5|                 265|-63.210.000.000.0...|         1|         29|             131.593|             4|                 926|\n",
            "|    Careless Whisper|             68|          302600|               0.232|             0.583|                 545|               0|  2|                 133|             -11.698|         0|        351|              153.25|             4|                 0.8|\n",
            "|        Walk Of Life|             38|          249960|               0.405|             0.461|                 918|              33|  4|                 126|              -8.507|         1|        959|             172.435|             4|                 802|\n",
            "|         The Morning|             72|          312426|               0.317|             0.652|5.489.999.999.999...|               0|  6|                 104|              -7.555|         0|         39|             120.073|             4|18.600.000.000.00...|\n",
            "|            Balloons|             43|          180666|              0.0826|0.5820000000000001|                 984|             153|  9|                 713|              -1.962|         0|        529|15.394.299.999.99...|             4|7.709.999.999.999...|\n",
            "|          Echo Beach|             58|          219866|                0.13|              0.54|                 746|               8|  7|                 976|              -9.412|         1|         45|             163.809|             4|                 826|\n",
            "|        I Want Candy|             42|          161933|0.002610000000000...|             0.674|                 797|             358|  7|                 832|              -8.205|         1|        807|             110.062|             4|                 688|\n",
            "|            Teardrop|             70|          330773|              0.0173|             0.615|                 419|               4| 11|                 135|                -8.8|         0|        395|              76.997|             4|21.600.000.000.00...|\n",
            "|             Napkins|             63|          215625|               0.431|             0.747|                 444|               1|  0|                 106|              -8.976|         0|        386|             144.138|             4|                0.66|\n",
            "|               Erase|             63|          236794|               0.688|             0.657|                 376|               2|  9|                 272|              -6.534|         1|        463|              84.905|             4|                 575|\n",
            "|            Medicine|             28|          223259|               0.206|             0.611|                 412|               0|  8|                 0.1|              -7.445|         0|        202|             116.078|             4|                 116|\n",
            "|          Wide World|             19|          213540|               0.899|             0.547|                 693|             121| 11|                 705|               -7.18|         0|        286|             168.093|             4|                 634|\n",
            "|    Reminder - Remix|             65|          221968|               0.149|             0.745|                0.65|               0|  0|                 107|-5.992.000.000.00...|         0|        227|             159.994|             4|                 521|\n",
            "|I Get The Bag (fe...|             12|          233087|              0.0232|              0.89|                 633|             343| 11|                 993|              -5.475|         1|        168|13.994.799.999.99...|             4|                 425|\n",
            "|    Sweet Soul Music|             60|          141066|               0.104|              0.59|                 659|               6|  5|35.600.000.000.00...|              -9.669|         1|        697|8.020.100.000.000...|             4|                 965|\n",
            "|             Envidia|             37|          189000|  0.8059999999999999|             0.618|                 261|               2| 10|                  92|              -12.86|         1|        358|              83.676|             4|                 552|\n",
            "+--------------------+---------------+----------------+--------------------+------------------+--------------------+----------------+---+--------------------+--------------------+----------+-----------+--------------------+--------------+--------------------+\n",
            "only showing top 20 rows\n",
            "\n"
          ]
        }
      ]
    },
    {
      "cell_type": "code",
      "source": [
        "#função que remove strings\n",
        "\n",
        "def remove_strings_inplace(df, colunas):\n",
        "    # itera sobre as colunas especificadas e aplica a transformação em cada uma\n",
        "    for column in colunas:\n",
        "        df = df.withColumn(column, F.regexp_replace(F.col(column), \"[^0-9.eE-]\", \"\"))\n",
        "    return df\n",
        "#chama a função passando de parâmetro o df e a lista criada"
      ],
      "metadata": {
        "id": "6Jh-AH0T6lU9"
      },
      "execution_count": null,
      "outputs": []
    },
    {
      "cell_type": "code",
      "source": [
        "# tirar a coluna song_name que é formada por sting para nao ser afetada com a função de apagar strings\n",
        "colunas = df.drop(F.col('song_name')).columns"
      ],
      "metadata": {
        "id": "0AQ5cGcq80E6"
      },
      "execution_count": null,
      "outputs": []
    },
    {
      "cell_type": "code",
      "source": [
        "# backup para aplicar a transformação\n",
        "df_backup4 = df"
      ],
      "metadata": {
        "id": "TQK-9CYHCK4D"
      },
      "execution_count": null,
      "outputs": []
    },
    {
      "cell_type": "code",
      "source": [
        "# aplicar a função de remoção de strings no df\n",
        "df = remove_strings_inplace(df, colunas)"
      ],
      "metadata": {
        "id": "nvrFDvPd6lXV"
      },
      "execution_count": null,
      "outputs": []
    },
    {
      "cell_type": "code",
      "source": [
        "# converter as colunas para int e float\n",
        "# importar as funções para converter\n"
      ],
      "metadata": {
        "id": "ccLTLNo_6lY9"
      },
      "execution_count": null,
      "outputs": []
    },
    {
      "cell_type": "code",
      "source": [
        "df_backup5 = df"
      ],
      "metadata": {
        "id": "0gzdGPXIHJ1N"
      },
      "execution_count": null,
      "outputs": []
    },
    {
      "cell_type": "code",
      "source": [
        "df = df_backup5"
      ],
      "metadata": {
        "id": "mDq1V8Zo3dUx"
      },
      "execution_count": null,
      "outputs": []
    },
    {
      "cell_type": "code",
      "source": [
        "df.show()"
      ],
      "metadata": {
        "id": "UXHxoKIHH4vh"
      },
      "execution_count": null,
      "outputs": []
    },
    {
      "cell_type": "code",
      "source": [
        "#converter os tipos de colunas\n",
        "df = (df.withColumn('song_popularity', F.col('song_popularity').cast(IntegerType()))\n",
        "        .withColumn(\"song_duration_ms\", F.col(\"song_duration_ms\").cast(IntegerType()))\n",
        "        .withColumn(\"acousticness\", F.col(\"acousticness\").cast(FloatType()))\n",
        "        .withColumn(\"danceability\", F.col(\"danceability\").cast(FloatType()))\n",
        "        .withColumn(\"energy\", F.col(\"energy\").cast(FloatType()))\n",
        "        .withColumn(\"instrumentalness\", F.col(\"instrumentalness\").cast(FloatType()))\n",
        "        .withColumn(\"key\", F.col(\"key\").cast(FloatType()))\n",
        "        .withColumn(\"liveness\", F.col(\"liveness\").cast(FloatType()))\n",
        "        .withColumn(\"loudness\", F.col(\"loudness\").cast(FloatType()))\n",
        "        .withColumn(\"audio_mode\", F.col(\"audio_mode\").cast(FloatType()))\n",
        "        .withColumn(\"speechiness\", F.col(\"speechiness\").cast(FloatType()))\n",
        "        .withColumn(\"tempo\", F.col(\"tempo\").cast(IntegerType()))\n",
        "        .withColumn(\"time_signature\", F.col(\"time_signature\").cast(IntegerType()))\n",
        "        .withColumn(\"audio_valence\", F.col(\"audio_valence\").cast(FloatType())))"
      ],
      "metadata": {
        "id": "4neeHbW0CVLX"
      },
      "execution_count": null,
      "outputs": []
    },
    {
      "cell_type": "code",
      "source": [
        "# criar uma segunda coluna de song duration em segundos\n",
        "df = df.withColumn('song_duration', F.round(F.col('song_duration_ms') / 60000, 2))"
      ],
      "metadata": {
        "id": "5EAlGacRlRre"
      },
      "execution_count": null,
      "outputs": []
    },
    {
      "cell_type": "code",
      "source": [
        "# dropando a coluna de duração em ms\n",
        "df = df.drop(F.col('song_duration_ms'))"
      ],
      "metadata": {
        "id": "cxmApaIulq5P"
      },
      "execution_count": null,
      "outputs": []
    },
    {
      "cell_type": "code",
      "source": [
        "# verificando os valores nulos\n",
        "df.select([F.count(F.when(F.isnan(c) | F.col(c).isNull(), c)).alias(c) for c in df.columns]).show()"
      ],
      "metadata": {
        "colab": {
          "base_uri": "https://localhost:8080/"
        },
        "id": "_NcJDaAqlxTp",
        "outputId": "2324279f-8017-4153-cc2a-f271e22948f3"
      },
      "execution_count": null,
      "outputs": [
        {
          "output_type": "stream",
          "name": "stdout",
          "text": [
            "+---------+---------------+----------------+------------+------------+------+----------------+---+--------+--------+----------+-----------+-----+--------------+-------------+\n",
            "|song_name|song_popularity|song_duration_ms|acousticness|danceability|energy|instrumentalness|key|liveness|loudness|audio_mode|speechiness|tempo|time_signature|audio_valence|\n",
            "+---------+---------------+----------------+------------+------------+------+----------------+---+--------+--------+----------+-----------+-----+--------------+-------------+\n",
            "|        0|              0|               0|           0|           0|     0|               0|  0|       0|       0|         0|          0|    0|             0|            0|\n",
            "+---------+---------------+----------------+------------+------------+------+----------------+---+--------+--------+----------+-----------+-----+--------------+-------------+\n",
            "\n"
          ]
        }
      ]
    },
    {
      "cell_type": "code",
      "source": [
        "df.toPandas().song_duration.median()"
      ],
      "metadata": {
        "id": "F1iGzuosmi7F"
      },
      "execution_count": null,
      "outputs": []
    },
    {
      "cell_type": "code",
      "source": [
        "df = df.fillna(3.52, subset='song_duration')"
      ],
      "metadata": {
        "id": "VOgJY5f3ns3g"
      },
      "execution_count": null,
      "outputs": []
    },
    {
      "cell_type": "code",
      "source": [
        "df.toPandas().audio_valence.mode()"
      ],
      "metadata": {
        "colab": {
          "base_uri": "https://localhost:8080/"
        },
        "id": "091NZyAUnymD",
        "outputId": "c64d0ad9-f2c7-4da0-e76f-910b1b8bfe31"
      },
      "execution_count": null,
      "outputs": [
        {
          "output_type": "execute_result",
          "data": {
            "text/plain": [
              "0    961\n",
              "Name: audio_valence, dtype: object"
            ]
          },
          "metadata": {},
          "execution_count": 155
        }
      ]
    },
    {
      "cell_type": "code",
      "source": [
        "df = df.fillna(961, subset='audio_valence')"
      ],
      "metadata": {
        "id": "5L-_pLYTn79R"
      },
      "execution_count": null,
      "outputs": []
    },
    {
      "cell_type": "code",
      "source": [
        "df.select(F.col('song_name')).distinct().show(truncate=False)"
      ],
      "metadata": {
        "colab": {
          "base_uri": "https://localhost:8080/"
        },
        "id": "WEdl1LJQoY3j",
        "outputId": "4db2edd4-d7aa-4d40-90ef-3327840aeedc"
      },
      "execution_count": null,
      "outputs": [
        {
          "output_type": "stream",
          "name": "stdout",
          "text": [
            "+--------------------------------+\n",
            "|song_name                       |\n",
            "+--------------------------------+\n",
            "|Remedy                          |\n",
            "|La Gota Fría                    |\n",
            "|Magic Carpet Ride               |\n",
            "|My My, Hey Hey (Out of the Blue)|\n",
            "|You Ain't Seen Nothing Yet      |\n",
            "|Heaven                          |\n",
            "|Ginger (feat. Wizkid)           |\n",
            "|Shake, Rattle And Roll          |\n",
            "|Hurt You                        |\n",
            "|Banquet                         |\n",
            "|Worry About Me                  |\n",
            "|What Am I To Do                 |\n",
            "|Debate De 4                     |\n",
            "|I'm Just Snacking               |\n",
            "|We Take Care of Our Own         |\n",
            "|Back for More                   |\n",
            "|Blue Suede Shoes                |\n",
            "|Green Green Grass of Home       |\n",
            "|Hello Walls                     |\n",
            "|Pancho and Lefty                |\n",
            "+--------------------------------+\n",
            "only showing top 20 rows\n",
            "\n"
          ]
        }
      ]
    },
    {
      "cell_type": "code",
      "source": [
        "df.show()"
      ],
      "metadata": {
        "colab": {
          "base_uri": "https://localhost:8080/"
        },
        "id": "LFDYUXjdovd3",
        "outputId": "43cb8d4a-d103-4ffa-a0f1-4e6ce04ba6d4"
      },
      "execution_count": null,
      "outputs": [
        {
          "output_type": "stream",
          "name": "stdout",
          "text": [
            "+---+--------------------+---------------+--------------------+--------------------+--------------------+--------------------+----+--------------------+--------------------+----------+--------------------+-------+--------------+--------------------+-------------+\n",
            "|_c0|           song_name|song_popularity|        acousticness|        danceability|              energy|    instrumentalness| key|            liveness|            loudness|audio_mode|         speechiness|  tempo|time_signature|       audio_valence|song_duration|\n",
            "+---+--------------------+---------------+--------------------+--------------------+--------------------+--------------------+----+--------------------+--------------------+----------+--------------------+-------+--------------+--------------------+-------------+\n",
            "|  0|Boulevard of Brok...|             73|0.005520000000000...|          0.496mol/L|                 682|            2.94e-05| 8.0|                 589|              -4.095|         1|                 294| 167.06|             4|                 474|         4.37|\n",
            "|  1|          In The End|             66|            0.0103kg|          0.542mol/L|                 853|                 0.0| 3.0|                 108|              -6.407|         0|                 498|105.256|             4|                0.37|         3.62|\n",
            "|  2|   Seven Nation Army|             76|           0.00817kg|          0.737mol/L|                 463|                 447| 0.0|                 255|-78.279.999.999.9...|         1|                 792|123.881|             4|                 324|         3.86|\n",
            "|  3|          By The Way|             74|            0.0264kg|          0.451mol/L|                0.97|                 355| 0.0|                 102|              -4.938|         1|                 107|122.444|             4|                 198|         3.62|\n",
            "|  4|   How You Remind Me|             56|          0.000954kg|          0.447mol/L|7.659.999.999.999...|                 0.0|10.0|                 113|              -5.065|         1|                 313|172.011|             4|                 574|         3.73|\n",
            "|  5|    Bring Me To Life|             80|           0.00895kg|          0.316mol/L|                 945|            1.85e-06| 4.0|                 396|              -3.169|         0|                 124|189.931|             4|                0.32|         3.93|\n",
            "|  6|         Last Resort|             81|          0.000504kg|          0.581mol/L|                 887|                 111| 4.0|                 268|              -3.659|         0|                 624| 90.578|             4|7.240.000.000.000...|         3.33|\n",
            "|  7|Are You Gonna Be ...|             76|           0.00148kg|          0.613mol/L|                 953|                 582| 2.0|                 152|              -3.435|         1|                 855|105.046|             4|                 537|         3.56|\n",
            "|  8|      Mr. Brightside|             80|           0.00108kg|           0.33mol/L|                 936|                 0.0| 1.0|                 926|               -3.66|         1|                 917|148.112|             4|                 234|         3.71|\n",
            "|  9|         Sex on Fire|             81|           0.00172kg|          0.542mol/L|                 905|                 104| 9.0|                 136|              -5.653|         1|54.000.000.000.00...|153.398|             4|                 374|         3.39|\n",
            "| 10|          The Middle|             78|            0.0424kg|          0.629mol/L|                 897|                 0.0| 2.0|                 263|              -3.401|         1|                 483|161.944|             4|                0.93|          2.8|\n",
            "| 11|                Numb|             63|            0.0046kg|          0.496mol/L|                 863|                 0.0| 9.0|                 639|-41.530.000.000.0...|         1|                 381|110.018|             4|                 243|         3.09|\n",
            "| 12|     Smooth Criminal|             75|           0.00434kg|          0.647mol/L|                 964|                  36| 9.0|                0.15|              -4.225|         0|                0.06|126.942|             4|                 875|         3.49|\n",
            "| 13|          Can't Stop|             81|            0.0179kg|          0.618mol/L|                 938|                 0.0| 9.0|16.699.999.999.99...|              -3.442|         1|                 456| 91.455|             4|                 875|         4.48|\n",
            "| 14|          Chop Suey!|             69|          0.000353kg|           0.42mol/L|                 929|7.469.999.999.999...| 7.0|                 122|              -3.899|         0|                 121|127.204|             4|                 0.3|          3.5|\n",
            "| 15|         Take Me Out|             77|          0.000423kg|          0.278mol/L|6.759.999.999.999...|8.990.000.000.000...| 9.0|                 136|              -8.821|         1|                 371|104.545|             4|                 494|         3.95|\n",
            "| 16|          I Miss You|             71|           0.00136kg|          0.659mol/L|                 778|            6.79e-06|11.0|                 841|-6.422.999.999.99...|         1|                 379|110.022|             4|                 623|         3.79|\n",
            "| 17|         Best of You|             62|           0.00701kg|           0.37mol/L|                 944|             2.9e-06| 1.0|                 135|              -4.979|         0|                 767|130.315|             4|                 345|         4.28|\n",
            "| 18|I Write Sins Not ...|             77|            0.0938kg|0.567000000000000...|                 795|                 0.0| 9.0|                 114|              -4.985|         0|                 134| 170.06|             4|                 635|         3.13|\n",
            "| 19|          Kryptonite|             79|0.006640000000000...|          0.545mol/L|                 865|            1.12e-05|11.0|                 168|-5.707.999.999.99...|         0|                 286|  99.01|             4|5.429.999.999.999...|          3.9|\n",
            "+---+--------------------+---------------+--------------------+--------------------+--------------------+--------------------+----+--------------------+--------------------+----------+--------------------+-------+--------------+--------------------+-------------+\n",
            "only showing top 20 rows\n",
            "\n"
          ]
        }
      ]
    },
    {
      "cell_type": "code",
      "source": [
        "df.toPandas().isna().any()"
      ],
      "metadata": {
        "id": "fsaEp7zjouTm",
        "colab": {
          "base_uri": "https://localhost:8080/"
        },
        "outputId": "5759973a-ba41-4beb-b7ff-f54ebcc0bc74"
      },
      "execution_count": null,
      "outputs": [
        {
          "output_type": "execute_result",
          "data": {
            "text/plain": [
              "_c0                 False\n",
              "song_name           False\n",
              "song_popularity     False\n",
              "acousticness        False\n",
              "danceability        False\n",
              "energy              False\n",
              "instrumentalness    False\n",
              "key                 False\n",
              "liveness            False\n",
              "loudness            False\n",
              "audio_mode          False\n",
              "speechiness         False\n",
              "tempo               False\n",
              "time_signature      False\n",
              "audio_valence        True\n",
              "song_duration       False\n",
              "dtype: bool"
            ]
          },
          "metadata": {},
          "execution_count": 160
        }
      ]
    },
    {
      "cell_type": "code",
      "source": [
        "df.filter((F.col('acousticness').isNull() | F.isnan(F.col('acousticness')) | (F.col('acousticness') == 0))).count()"
      ],
      "metadata": {
        "colab": {
          "base_uri": "https://localhost:8080/"
        },
        "id": "eCI6walzpYdP",
        "outputId": "f3f5f723-c1e6-4b31-a747-6f69fc275ac2"
      },
      "execution_count": null,
      "outputs": [
        {
          "output_type": "execute_result",
          "data": {
            "text/plain": [
              "0"
            ]
          },
          "metadata": {},
          "execution_count": 161
        }
      ]
    },
    {
      "cell_type": "code",
      "source": [
        "df.filter((F.col('audio_valence').isNull() | F.isnan(F.col('audio_valence')))).count()"
      ],
      "metadata": {
        "colab": {
          "base_uri": "https://localhost:8080/"
        },
        "id": "LK7yH4MuTqo8",
        "outputId": "a95c86f5-7f3c-4a19-993e-174aa3ec9c45"
      },
      "execution_count": null,
      "outputs": [
        {
          "output_type": "execute_result",
          "data": {
            "text/plain": [
              "1"
            ]
          },
          "metadata": {},
          "execution_count": 162
        }
      ]
    },
    {
      "cell_type": "code",
      "source": [
        "total = df.count() - df.dropDuplicates().count()\n",
        "print(f'Total de Registros Duplicados = {total}')"
      ],
      "metadata": {
        "id": "63E4yy3rYF_q",
        "colab": {
          "base_uri": "https://localhost:8080/"
        },
        "outputId": "c65a561b-0daf-408f-9f70-0cabd0f21b5d"
      },
      "execution_count": null,
      "outputs": [
        {
          "output_type": "stream",
          "name": "stdout",
          "text": [
            "Total de Registros Duplicados = 0\n"
          ]
        }
      ]
    },
    {
      "cell_type": "code",
      "source": [
        "df.select([F.count(F.when(F.col(c) == 'nao_sei', c)).alias(c) for c in df.columns]).show()"
      ],
      "metadata": {
        "colab": {
          "base_uri": "https://localhost:8080/"
        },
        "id": "HUxKI28JTE6u",
        "outputId": "62f62c37-b27a-4eb8-b45b-9b4e5b00fbb7"
      },
      "execution_count": null,
      "outputs": [
        {
          "output_type": "stream",
          "name": "stdout",
          "text": [
            "+---+---------+---------------+------------+------------+------+----------------+---+--------+--------+----------+-----------+-----+--------------+-------------+-------------+\n",
            "|_c0|song_name|song_popularity|acousticness|danceability|energy|instrumentalness|key|liveness|loudness|audio_mode|speechiness|tempo|time_signature|audio_valence|song_duration|\n",
            "+---+---------+---------------+------------+------------+------+----------------+---+--------+--------+----------+-----------+-----+--------------+-------------+-------------+\n",
            "|  0|        0|              1|           0|           0|     1|               2|  0|       4|       1|         1|          0|    1|             1|            0|            0|\n",
            "+---+---------+---------------+------------+------------+------+----------------+---+--------+--------+----------+-----------+-----+--------------+-------------+-------------+\n",
            "\n"
          ]
        }
      ]
    },
    {
      "cell_type": "code",
      "source": [
        "df.filter(F.col('song_popularity').rlike('nao_sei')).show()"
      ],
      "metadata": {
        "colab": {
          "base_uri": "https://localhost:8080/"
        },
        "id": "aQ9OFslRTgWl",
        "outputId": "7731b12b-e269-472f-f48e-e093ad724bd1"
      },
      "execution_count": null,
      "outputs": [
        {
          "output_type": "stream",
          "name": "stdout",
          "text": [
            "+----+-------------------+---------------+------------+------------+------+----------------+-----+--------+--------+----------+-----------+-----+--------------+-------------+-------------+\n",
            "| _c0|          song_name|song_popularity|acousticness|danceability|energy|instrumentalness|  key|liveness|loudness|audio_mode|speechiness|tempo|time_signature|audio_valence|song_duration|\n",
            "+----+-------------------+---------------+------------+------------+------+----------------+-----+--------+--------+----------+-----------+-----+--------------+-------------+-------------+\n",
            "|1757|Party In The U.S.A.|        nao_sei|  0.519mol/L|        0.36|   0.0|              10|177.0|  -8.575|       0|       105|      97.42|    4|           0.7|         null|         3.52|\n",
            "+----+-------------------+---------------+------------+------------+------+----------------+-----+--------+--------+----------+-----------+-----+--------------+-------------+-------------+\n",
            "\n"
          ]
        }
      ]
    },
    {
      "cell_type": "code",
      "source": [
        "df.drop_duplicates().count()"
      ],
      "metadata": {
        "colab": {
          "base_uri": "https://localhost:8080/"
        },
        "id": "Fs2-OgxLV80E",
        "outputId": "7e38d9fe-8c9a-4118-d02e-ea96f9dc283c"
      },
      "execution_count": null,
      "outputs": [
        {
          "output_type": "execute_result",
          "data": {
            "text/plain": [
              "18835"
            ]
          },
          "metadata": {},
          "execution_count": 166
        }
      ]
    },
    {
      "cell_type": "code",
      "source": [
        "df.show()"
      ],
      "metadata": {
        "colab": {
          "base_uri": "https://localhost:8080/"
        },
        "id": "uTp2dRr5WhiJ",
        "outputId": "400cdec7-d987-4f93-c46a-f77b674a1818"
      },
      "execution_count": null,
      "outputs": [
        {
          "output_type": "stream",
          "name": "stdout",
          "text": [
            "+---+--------------------+---------------+--------------------+--------------------+--------------------+--------------------+----+--------------------+--------------------+----------+--------------------+-------+--------------+--------------------+-------------+\n",
            "|_c0|           song_name|song_popularity|        acousticness|        danceability|              energy|    instrumentalness| key|            liveness|            loudness|audio_mode|         speechiness|  tempo|time_signature|       audio_valence|song_duration|\n",
            "+---+--------------------+---------------+--------------------+--------------------+--------------------+--------------------+----+--------------------+--------------------+----------+--------------------+-------+--------------+--------------------+-------------+\n",
            "|  0|Boulevard of Brok...|             73|0.005520000000000...|          0.496mol/L|                 682|            2.94e-05| 8.0|                 589|              -4.095|         1|                 294| 167.06|             4|                 474|         4.37|\n",
            "|  1|          In The End|             66|            0.0103kg|          0.542mol/L|                 853|                 0.0| 3.0|                 108|              -6.407|         0|                 498|105.256|             4|                0.37|         3.62|\n",
            "|  2|   Seven Nation Army|             76|           0.00817kg|          0.737mol/L|                 463|                 447| 0.0|                 255|-78.279.999.999.9...|         1|                 792|123.881|             4|                 324|         3.86|\n",
            "|  3|          By The Way|             74|            0.0264kg|          0.451mol/L|                0.97|                 355| 0.0|                 102|              -4.938|         1|                 107|122.444|             4|                 198|         3.62|\n",
            "|  4|   How You Remind Me|             56|          0.000954kg|          0.447mol/L|7.659.999.999.999...|                 0.0|10.0|                 113|              -5.065|         1|                 313|172.011|             4|                 574|         3.73|\n",
            "|  5|    Bring Me To Life|             80|           0.00895kg|          0.316mol/L|                 945|            1.85e-06| 4.0|                 396|              -3.169|         0|                 124|189.931|             4|                0.32|         3.93|\n",
            "|  6|         Last Resort|             81|          0.000504kg|          0.581mol/L|                 887|                 111| 4.0|                 268|              -3.659|         0|                 624| 90.578|             4|7.240.000.000.000...|         3.33|\n",
            "|  7|Are You Gonna Be ...|             76|           0.00148kg|          0.613mol/L|                 953|                 582| 2.0|                 152|              -3.435|         1|                 855|105.046|             4|                 537|         3.56|\n",
            "|  8|      Mr. Brightside|             80|           0.00108kg|           0.33mol/L|                 936|                 0.0| 1.0|                 926|               -3.66|         1|                 917|148.112|             4|                 234|         3.71|\n",
            "|  9|         Sex on Fire|             81|           0.00172kg|          0.542mol/L|                 905|                 104| 9.0|                 136|              -5.653|         1|54.000.000.000.00...|153.398|             4|                 374|         3.39|\n",
            "| 10|          The Middle|             78|            0.0424kg|          0.629mol/L|                 897|                 0.0| 2.0|                 263|              -3.401|         1|                 483|161.944|             4|                0.93|          2.8|\n",
            "| 11|                Numb|             63|            0.0046kg|          0.496mol/L|                 863|                 0.0| 9.0|                 639|-41.530.000.000.0...|         1|                 381|110.018|             4|                 243|         3.09|\n",
            "| 12|     Smooth Criminal|             75|           0.00434kg|          0.647mol/L|                 964|                  36| 9.0|                0.15|              -4.225|         0|                0.06|126.942|             4|                 875|         3.49|\n",
            "| 13|          Can't Stop|             81|            0.0179kg|          0.618mol/L|                 938|                 0.0| 9.0|16.699.999.999.99...|              -3.442|         1|                 456| 91.455|             4|                 875|         4.48|\n",
            "| 14|          Chop Suey!|             69|          0.000353kg|           0.42mol/L|                 929|7.469.999.999.999...| 7.0|                 122|              -3.899|         0|                 121|127.204|             4|                 0.3|          3.5|\n",
            "| 15|         Take Me Out|             77|          0.000423kg|          0.278mol/L|6.759.999.999.999...|8.990.000.000.000...| 9.0|                 136|              -8.821|         1|                 371|104.545|             4|                 494|         3.95|\n",
            "| 16|          I Miss You|             71|           0.00136kg|          0.659mol/L|                 778|            6.79e-06|11.0|                 841|-6.422.999.999.99...|         1|                 379|110.022|             4|                 623|         3.79|\n",
            "| 17|         Best of You|             62|           0.00701kg|           0.37mol/L|                 944|             2.9e-06| 1.0|                 135|              -4.979|         0|                 767|130.315|             4|                 345|         4.28|\n",
            "| 18|I Write Sins Not ...|             77|            0.0938kg|0.567000000000000...|                 795|                 0.0| 9.0|                 114|              -4.985|         0|                 134| 170.06|             4|                 635|         3.13|\n",
            "| 19|          Kryptonite|             79|0.006640000000000...|          0.545mol/L|                 865|            1.12e-05|11.0|                 168|-5.707.999.999.99...|         0|                 286|  99.01|             4|5.429.999.999.999...|          3.9|\n",
            "+---+--------------------+---------------+--------------------+--------------------+--------------------+--------------------+----+--------------------+--------------------+----------+--------------------+-------+--------------+--------------------+-------------+\n",
            "only showing top 20 rows\n",
            "\n"
          ]
        }
      ]
    },
    {
      "cell_type": "code",
      "source": [
        "df_backup = df"
      ],
      "metadata": {
        "id": "cOVA7ZqBXV6q"
      },
      "execution_count": null,
      "outputs": []
    },
    {
      "cell_type": "code",
      "source": [
        "df_backup.show()"
      ],
      "metadata": {
        "colab": {
          "base_uri": "https://localhost:8080/"
        },
        "id": "fM4rpdDDiyPl",
        "outputId": "3e5816b9-c73f-47d5-c343-23709a3edb1e"
      },
      "execution_count": null,
      "outputs": [
        {
          "output_type": "stream",
          "name": "stdout",
          "text": [
            "+---+--------------------+---------------+--------------------+--------------------+--------------------+--------------------+----+--------------------+--------------------+----------+--------------------+-------+--------------+--------------------+-------------+\n",
            "|_c0|           song_name|song_popularity|        acousticness|        danceability|              energy|    instrumentalness| key|            liveness|            loudness|audio_mode|         speechiness|  tempo|time_signature|       audio_valence|song_duration|\n",
            "+---+--------------------+---------------+--------------------+--------------------+--------------------+--------------------+----+--------------------+--------------------+----------+--------------------+-------+--------------+--------------------+-------------+\n",
            "|  0|Boulevard of Brok...|             73|0.005520000000000...|          0.496mol/L|                 682|            2.94e-05| 8.0|                 589|              -4.095|         1|                 294| 167.06|             4|                 474|         4.37|\n",
            "|  1|          In The End|             66|            0.0103kg|          0.542mol/L|                 853|                 0.0| 3.0|                 108|              -6.407|         0|                 498|105.256|             4|                0.37|         3.62|\n",
            "|  2|   Seven Nation Army|             76|           0.00817kg|          0.737mol/L|                 463|                 447| 0.0|                 255|-78.279.999.999.9...|         1|                 792|123.881|             4|                 324|         3.86|\n",
            "|  3|          By The Way|             74|            0.0264kg|          0.451mol/L|                0.97|                 355| 0.0|                 102|              -4.938|         1|                 107|122.444|             4|                 198|         3.62|\n",
            "|  4|   How You Remind Me|             56|          0.000954kg|          0.447mol/L|7.659.999.999.999...|                 0.0|10.0|                 113|              -5.065|         1|                 313|172.011|             4|                 574|         3.73|\n",
            "|  5|    Bring Me To Life|             80|           0.00895kg|          0.316mol/L|                 945|            1.85e-06| 4.0|                 396|              -3.169|         0|                 124|189.931|             4|                0.32|         3.93|\n",
            "|  6|         Last Resort|             81|          0.000504kg|          0.581mol/L|                 887|                 111| 4.0|                 268|              -3.659|         0|                 624| 90.578|             4|7.240.000.000.000...|         3.33|\n",
            "|  7|Are You Gonna Be ...|             76|           0.00148kg|          0.613mol/L|                 953|                 582| 2.0|                 152|              -3.435|         1|                 855|105.046|             4|                 537|         3.56|\n",
            "|  8|      Mr. Brightside|             80|           0.00108kg|           0.33mol/L|                 936|                 0.0| 1.0|                 926|               -3.66|         1|                 917|148.112|             4|                 234|         3.71|\n",
            "|  9|         Sex on Fire|             81|           0.00172kg|          0.542mol/L|                 905|                 104| 9.0|                 136|              -5.653|         1|54.000.000.000.00...|153.398|             4|                 374|         3.39|\n",
            "| 10|          The Middle|             78|            0.0424kg|          0.629mol/L|                 897|                 0.0| 2.0|                 263|              -3.401|         1|                 483|161.944|             4|                0.93|          2.8|\n",
            "| 11|                Numb|             63|            0.0046kg|          0.496mol/L|                 863|                 0.0| 9.0|                 639|-41.530.000.000.0...|         1|                 381|110.018|             4|                 243|         3.09|\n",
            "| 12|     Smooth Criminal|             75|           0.00434kg|          0.647mol/L|                 964|                  36| 9.0|                0.15|              -4.225|         0|                0.06|126.942|             4|                 875|         3.49|\n",
            "| 13|          Can't Stop|             81|            0.0179kg|          0.618mol/L|                 938|                 0.0| 9.0|16.699.999.999.99...|              -3.442|         1|                 456| 91.455|             4|                 875|         4.48|\n",
            "| 14|          Chop Suey!|             69|          0.000353kg|           0.42mol/L|                 929|7.469.999.999.999...| 7.0|                 122|              -3.899|         0|                 121|127.204|             4|                 0.3|          3.5|\n",
            "| 15|         Take Me Out|             77|          0.000423kg|          0.278mol/L|6.759.999.999.999...|8.990.000.000.000...| 9.0|                 136|              -8.821|         1|                 371|104.545|             4|                 494|         3.95|\n",
            "| 16|          I Miss You|             71|           0.00136kg|          0.659mol/L|                 778|            6.79e-06|11.0|                 841|-6.422.999.999.99...|         1|                 379|110.022|             4|                 623|         3.79|\n",
            "| 17|         Best of You|             62|           0.00701kg|           0.37mol/L|                 944|             2.9e-06| 1.0|                 135|              -4.979|         0|                 767|130.315|             4|                 345|         4.28|\n",
            "| 18|I Write Sins Not ...|             77|            0.0938kg|0.567000000000000...|                 795|                 0.0| 9.0|                 114|              -4.985|         0|                 134| 170.06|             4|                 635|         3.13|\n",
            "| 19|          Kryptonite|             79|0.006640000000000...|          0.545mol/L|                 865|            1.12e-05|11.0|                 168|-5.707.999.999.99...|         0|                 286|  99.01|             4|5.429.999.999.999...|          3.9|\n",
            "+---+--------------------+---------------+--------------------+--------------------+--------------------+--------------------+----+--------------------+--------------------+----------+--------------------+-------+--------------+--------------------+-------------+\n",
            "only showing top 20 rows\n",
            "\n"
          ]
        }
      ]
    },
    {
      "cell_type": "code",
      "source": [
        "df = df_backup"
      ],
      "metadata": {
        "id": "F7Twz-kXi1YW"
      },
      "execution_count": null,
      "outputs": []
    },
    {
      "cell_type": "code",
      "source": [
        "df.show()"
      ],
      "metadata": {
        "colab": {
          "base_uri": "https://localhost:8080/"
        },
        "id": "hxdluKoPi4Q_",
        "outputId": "3fb3c981-941f-45cf-fc99-668cd4e4213d"
      },
      "execution_count": null,
      "outputs": [
        {
          "output_type": "stream",
          "name": "stdout",
          "text": [
            "+---+--------------------+---------------+--------------------+--------------------+--------------------+--------------------+----+--------------------+--------------------+----------+--------------------+-------+--------------+--------------------+-------------+\n",
            "|_c0|           song_name|song_popularity|        acousticness|        danceability|              energy|    instrumentalness| key|            liveness|            loudness|audio_mode|         speechiness|  tempo|time_signature|       audio_valence|song_duration|\n",
            "+---+--------------------+---------------+--------------------+--------------------+--------------------+--------------------+----+--------------------+--------------------+----------+--------------------+-------+--------------+--------------------+-------------+\n",
            "|  0|Boulevard of Brok...|             73|0.005520000000000...|          0.496mol/L|                 682|            2.94e-05| 8.0|                 589|              -4.095|         1|                 294| 167.06|             4|                 474|         4.37|\n",
            "|  1|          In The End|             66|            0.0103kg|          0.542mol/L|                 853|                 0.0| 3.0|                 108|              -6.407|         0|                 498|105.256|             4|                0.37|         3.62|\n",
            "|  2|   Seven Nation Army|             76|           0.00817kg|          0.737mol/L|                 463|                 447| 0.0|                 255|-78.279.999.999.9...|         1|                 792|123.881|             4|                 324|         3.86|\n",
            "|  3|          By The Way|             74|            0.0264kg|          0.451mol/L|                0.97|                 355| 0.0|                 102|              -4.938|         1|                 107|122.444|             4|                 198|         3.62|\n",
            "|  4|   How You Remind Me|             56|          0.000954kg|          0.447mol/L|7.659.999.999.999...|                 0.0|10.0|                 113|              -5.065|         1|                 313|172.011|             4|                 574|         3.73|\n",
            "|  5|    Bring Me To Life|             80|           0.00895kg|          0.316mol/L|                 945|            1.85e-06| 4.0|                 396|              -3.169|         0|                 124|189.931|             4|                0.32|         3.93|\n",
            "|  6|         Last Resort|             81|          0.000504kg|          0.581mol/L|                 887|                 111| 4.0|                 268|              -3.659|         0|                 624| 90.578|             4|7.240.000.000.000...|         3.33|\n",
            "|  7|Are You Gonna Be ...|             76|           0.00148kg|          0.613mol/L|                 953|                 582| 2.0|                 152|              -3.435|         1|                 855|105.046|             4|                 537|         3.56|\n",
            "|  8|      Mr. Brightside|             80|           0.00108kg|           0.33mol/L|                 936|                 0.0| 1.0|                 926|               -3.66|         1|                 917|148.112|             4|                 234|         3.71|\n",
            "|  9|         Sex on Fire|             81|           0.00172kg|          0.542mol/L|                 905|                 104| 9.0|                 136|              -5.653|         1|54.000.000.000.00...|153.398|             4|                 374|         3.39|\n",
            "| 10|          The Middle|             78|            0.0424kg|          0.629mol/L|                 897|                 0.0| 2.0|                 263|              -3.401|         1|                 483|161.944|             4|                0.93|          2.8|\n",
            "| 11|                Numb|             63|            0.0046kg|          0.496mol/L|                 863|                 0.0| 9.0|                 639|-41.530.000.000.0...|         1|                 381|110.018|             4|                 243|         3.09|\n",
            "| 12|     Smooth Criminal|             75|           0.00434kg|          0.647mol/L|                 964|                  36| 9.0|                0.15|              -4.225|         0|                0.06|126.942|             4|                 875|         3.49|\n",
            "| 13|          Can't Stop|             81|            0.0179kg|          0.618mol/L|                 938|                 0.0| 9.0|16.699.999.999.99...|              -3.442|         1|                 456| 91.455|             4|                 875|         4.48|\n",
            "| 14|          Chop Suey!|             69|          0.000353kg|           0.42mol/L|                 929|7.469.999.999.999...| 7.0|                 122|              -3.899|         0|                 121|127.204|             4|                 0.3|          3.5|\n",
            "| 15|         Take Me Out|             77|          0.000423kg|          0.278mol/L|6.759.999.999.999...|8.990.000.000.000...| 9.0|                 136|              -8.821|         1|                 371|104.545|             4|                 494|         3.95|\n",
            "| 16|          I Miss You|             71|           0.00136kg|          0.659mol/L|                 778|            6.79e-06|11.0|                 841|-6.422.999.999.99...|         1|                 379|110.022|             4|                 623|         3.79|\n",
            "| 17|         Best of You|             62|           0.00701kg|           0.37mol/L|                 944|             2.9e-06| 1.0|                 135|              -4.979|         0|                 767|130.315|             4|                 345|         4.28|\n",
            "| 18|I Write Sins Not ...|             77|            0.0938kg|0.567000000000000...|                 795|                 0.0| 9.0|                 114|              -4.985|         0|                 134| 170.06|             4|                 635|         3.13|\n",
            "| 19|          Kryptonite|             79|0.006640000000000...|          0.545mol/L|                 865|            1.12e-05|11.0|                 168|-5.707.999.999.99...|         0|                 286|  99.01|             4|5.429.999.999.999...|          3.9|\n",
            "+---+--------------------+---------------+--------------------+--------------------+--------------------+--------------------+----+--------------------+--------------------+----------+--------------------+-------+--------------+--------------------+-------------+\n",
            "only showing top 20 rows\n",
            "\n"
          ]
        }
      ]
    },
    {
      "cell_type": "code",
      "source": [
        "from pyspark.sql.types import DecimalType"
      ],
      "metadata": {
        "id": "J0y-reXHXie3"
      },
      "execution_count": null,
      "outputs": []
    },
    {
      "cell_type": "code",
      "source": [
        "df = df.withColumn('acousticness_2', F.split(F.col('acousticness'), 'kg').getItem(0))"
      ],
      "metadata": {
        "id": "7TrNpSVzXkBX"
      },
      "execution_count": null,
      "outputs": []
    },
    {
      "cell_type": "code",
      "source": [
        "df = df.drop(F.col('acousticness'))"
      ],
      "metadata": {
        "id": "bV_WW_raZTQQ"
      },
      "execution_count": null,
      "outputs": []
    },
    {
      "cell_type": "code",
      "source": [
        "df.select(F.round(F.col('acousticness_2'), 5)).show()"
      ],
      "metadata": {
        "colab": {
          "base_uri": "https://localhost:8080/"
        },
        "id": "f-FS7Z7lZgZO",
        "outputId": "aec8d44f-04f3-4b1e-ca67-16c305a7e69f"
      },
      "execution_count": null,
      "outputs": [
        {
          "output_type": "stream",
          "name": "stdout",
          "text": [
            "+------------------------+\n",
            "|round(acousticness_2, 5)|\n",
            "+------------------------+\n",
            "|                 0.00552|\n",
            "|                  0.0103|\n",
            "|                 0.00817|\n",
            "|                  0.0264|\n",
            "|                  9.5E-4|\n",
            "|                 0.00895|\n",
            "|                  5.0E-4|\n",
            "|                 0.00148|\n",
            "|                 0.00108|\n",
            "|                 0.00172|\n",
            "|                  0.0424|\n",
            "|                  0.0046|\n",
            "|                 0.00434|\n",
            "|                  0.0179|\n",
            "|                  3.5E-4|\n",
            "|                  4.2E-4|\n",
            "|                 0.00136|\n",
            "|                 0.00701|\n",
            "|                  0.0938|\n",
            "|                 0.00664|\n",
            "+------------------------+\n",
            "only showing top 20 rows\n",
            "\n"
          ]
        }
      ]
    },
    {
      "cell_type": "code",
      "source": [
        " df.withColumn(\"acousticness_float\", F.col(\"acousticness_2\").cast(\"float\")).show()"
      ],
      "metadata": {
        "colab": {
          "base_uri": "https://localhost:8080/"
        },
        "id": "gwr0I222cn__",
        "outputId": "57e80c60-654e-44c7-e368-9edc69ca2b72"
      },
      "execution_count": null,
      "outputs": [
        {
          "output_type": "stream",
          "name": "stdout",
          "text": [
            "+---+--------------------+---------------+------------------+--------------------+--------------------+----+--------------------+--------------------+----------+--------------------+-------+--------------+--------------------+-------------+--------------------+------------------+\n",
            "|_c0|           song_name|song_popularity|      danceability|              energy|    instrumentalness| key|            liveness|            loudness|audio_mode|         speechiness|  tempo|time_signature|       audio_valence|song_duration|      acousticness_2|acousticness_float|\n",
            "+---+--------------------+---------------+------------------+--------------------+--------------------+----+--------------------+--------------------+----------+--------------------+-------+--------------+--------------------+-------------+--------------------+------------------+\n",
            "|  0|Boulevard of Brok...|             73|             0.496|                 682|            2.94e-05| 8.0|                 589|              -4.095|         1|                 294| 167.06|             4|                 474|         4.37|0.005520000000000001|           0.00552|\n",
            "|  1|          In The End|             66|             0.542|                 853|                 0.0| 3.0|                 108|              -6.407|         0|                 498|105.256|             4|                0.37|         3.62|              0.0103|            0.0103|\n",
            "|  2|   Seven Nation Army|             76|             0.737|                 463|                 447| 0.0|                 255|-78.279.999.999.9...|         1|                 792|123.881|             4|                 324|         3.86|             0.00817|           0.00817|\n",
            "|  3|          By The Way|             74|             0.451|                0.97|                 355| 0.0|                 102|              -4.938|         1|                 107|122.444|             4|                 198|         3.62|              0.0264|            0.0264|\n",
            "|  4|   How You Remind Me|             56|             0.447|7.659.999.999.999...|                 0.0|10.0|                 113|              -5.065|         1|                 313|172.011|             4|                 574|         3.73|            0.000954|           9.54E-4|\n",
            "|  5|    Bring Me To Life|             80|             0.316|                 945|            1.85e-06| 4.0|                 396|              -3.169|         0|                 124|189.931|             4|                0.32|         3.93|             0.00895|           0.00895|\n",
            "|  6|         Last Resort|             81|             0.581|                 887|                 111| 4.0|                 268|              -3.659|         0|                 624| 90.578|             4|7.240.000.000.000...|         3.33|            0.000504|           5.04E-4|\n",
            "|  7|Are You Gonna Be ...|             76|             0.613|                 953|                 582| 2.0|                 152|              -3.435|         1|                 855|105.046|             4|                 537|         3.56|             0.00148|           0.00148|\n",
            "|  8|      Mr. Brightside|             80|              0.33|                 936|                 0.0| 1.0|                 926|               -3.66|         1|                 917|148.112|             4|                 234|         3.71|             0.00108|           0.00108|\n",
            "|  9|         Sex on Fire|             81|             0.542|                 905|                 104| 9.0|                 136|              -5.653|         1|54.000.000.000.00...|153.398|             4|                 374|         3.39|             0.00172|           0.00172|\n",
            "| 10|          The Middle|             78|             0.629|                 897|                 0.0| 2.0|                 263|              -3.401|         1|                 483|161.944|             4|                0.93|          2.8|              0.0424|            0.0424|\n",
            "| 11|                Numb|             63|             0.496|                 863|                 0.0| 9.0|                 639|-41.530.000.000.0...|         1|                 381|110.018|             4|                 243|         3.09|              0.0046|            0.0046|\n",
            "| 12|     Smooth Criminal|             75|             0.647|                 964|                  36| 9.0|                0.15|              -4.225|         0|                0.06|126.942|             4|                 875|         3.49|             0.00434|           0.00434|\n",
            "| 13|          Can't Stop|             81|             0.618|                 938|                 0.0| 9.0|16.699.999.999.99...|              -3.442|         1|                 456| 91.455|             4|                 875|         4.48|              0.0179|            0.0179|\n",
            "| 14|          Chop Suey!|             69|              0.42|                 929|7.469.999.999.999...| 7.0|                 122|              -3.899|         0|                 121|127.204|             4|                 0.3|          3.5|            0.000353|           3.53E-4|\n",
            "| 15|         Take Me Out|             77|             0.278|6.759.999.999.999...|8.990.000.000.000...| 9.0|                 136|              -8.821|         1|                 371|104.545|             4|                 494|         3.95|            0.000423|           4.23E-4|\n",
            "| 16|          I Miss You|             71|             0.659|                 778|            6.79e-06|11.0|                 841|-6.422.999.999.99...|         1|                 379|110.022|             4|                 623|         3.79|             0.00136|           0.00136|\n",
            "| 17|         Best of You|             62|              0.37|                 944|             2.9e-06| 1.0|                 135|              -4.979|         0|                 767|130.315|             4|                 345|         4.28|             0.00701|           0.00701|\n",
            "| 18|I Write Sins Not ...|             77|0.5670000000000001|                 795|                 0.0| 9.0|                 114|              -4.985|         0|                 134| 170.06|             4|                 635|         3.13|              0.0938|            0.0938|\n",
            "| 19|          Kryptonite|             79|             0.545|                 865|            1.12e-05|11.0|                 168|-5.707.999.999.99...|         0|                 286|  99.01|             4|5.429.999.999.999...|          3.9|0.006640000000000001|           0.00664|\n",
            "+---+--------------------+---------------+------------------+--------------------+--------------------+----+--------------------+--------------------+----------+--------------------+-------+--------------+--------------------+-------------+--------------------+------------------+\n",
            "only showing top 20 rows\n",
            "\n"
          ]
        }
      ]
    },
    {
      "cell_type": "code",
      "source": [
        "from pyspark.sql.functions import col, regexp_extract"
      ],
      "metadata": {
        "id": "_4phn4OmeXMU"
      },
      "execution_count": null,
      "outputs": []
    },
    {
      "cell_type": "code",
      "source": [
        "df_backup2= df"
      ],
      "metadata": {
        "id": "T9R2ccDlkA1o"
      },
      "execution_count": null,
      "outputs": []
    },
    {
      "cell_type": "code",
      "source": [
        "#df.withColumn(\"acousticness_float\", (F.regexp_extract(F.col(\"acousticness_float\"), \"([-+]?[0-9]*\\.?[0-9]+([eE][-+]?[0-9]+)?)\", 1)).cast(\"float\")).show()\n",
        "\n",
        "#df.withColumn(\"acousticness_float\", F.regexp_extract(col(\"acousticness_float\"), \"([0-9]*\\.?[0-9][0-9]([eE][-+]?[0-9]+)?(\\.[0-9]+)?)\", 1).cast(\"float\")).show()\n",
        "df.withColumn(\"instrumentalness\", F.regexp_extract(col(\"instrumentalness\"), '([0-9]*\\.?[0-9][0-9]([eE][-+]?[0-9]+)?(\\.[0-9]+)?)', 1).cast(\"float\")).show()\n"
      ],
      "metadata": {
        "colab": {
          "base_uri": "https://localhost:8080/"
        },
        "id": "Cab9bIwoeHQr",
        "outputId": "2bd83a0b-6864-4269-b9d4-50123690168b"
      },
      "execution_count": null,
      "outputs": [
        {
          "output_type": "stream",
          "name": "stdout",
          "text": [
            "+---+--------------------+---------------+------------------+--------------------+----------------+----+--------------------+--------------------+----------+--------------------+-------+--------------+--------------------+-------------+--------------------+\n",
            "|_c0|           song_name|song_popularity|      danceability|              energy|instrumentalness| key|            liveness|            loudness|audio_mode|         speechiness|  tempo|time_signature|       audio_valence|song_duration|      acousticness_2|\n",
            "+---+--------------------+---------------+------------------+--------------------+----------------+----+--------------------+--------------------+----------+--------------------+-------+--------------+--------------------+-------------+--------------------+\n",
            "|  0|Boulevard of Brok...|             73|             0.496|                 682|         2.94E-5| 8.0|                 589|              -4.095|         1|                 294| 167.06|             4|                 474|         4.37|0.005520000000000001|\n",
            "|  1|          In The End|             66|             0.542|                 853|            null| 3.0|                 108|              -6.407|         0|                 498|105.256|             4|                0.37|         3.62|              0.0103|\n",
            "|  2|   Seven Nation Army|             76|             0.737|                 463|           447.0| 0.0|                 255|-78.279.999.999.9...|         1|                 792|123.881|             4|                 324|         3.86|             0.00817|\n",
            "|  3|          By The Way|             74|             0.451|                0.97|           355.0| 0.0|                 102|              -4.938|         1|                 107|122.444|             4|                 198|         3.62|              0.0264|\n",
            "|  4|   How You Remind Me|             56|             0.447|7.659.999.999.999...|            null|10.0|                 113|              -5.065|         1|                 313|172.011|             4|                 574|         3.73|            0.000954|\n",
            "|  5|    Bring Me To Life|             80|             0.316|                 945|         1.85E-6| 4.0|                 396|              -3.169|         0|                 124|189.931|             4|                0.32|         3.93|             0.00895|\n",
            "|  6|         Last Resort|             81|             0.581|                 887|           111.0| 4.0|                 268|              -3.659|         0|                 624| 90.578|             4|7.240.000.000.000...|         3.33|            0.000504|\n",
            "|  7|Are You Gonna Be ...|             76|             0.613|                 953|           582.0| 2.0|                 152|              -3.435|         1|                 855|105.046|             4|                 537|         3.56|             0.00148|\n",
            "|  8|      Mr. Brightside|             80|              0.33|                 936|            null| 1.0|                 926|               -3.66|         1|                 917|148.112|             4|                 234|         3.71|             0.00108|\n",
            "|  9|         Sex on Fire|             81|             0.542|                 905|           104.0| 9.0|                 136|              -5.653|         1|54.000.000.000.00...|153.398|             4|                 374|         3.39|             0.00172|\n",
            "| 10|          The Middle|             78|             0.629|                 897|            null| 2.0|                 263|              -3.401|         1|                 483|161.944|             4|                0.93|          2.8|              0.0424|\n",
            "| 11|                Numb|             63|             0.496|                 863|            null| 9.0|                 639|-41.530.000.000.0...|         1|                 381|110.018|             4|                 243|         3.09|              0.0046|\n",
            "| 12|     Smooth Criminal|             75|             0.647|                 964|            36.0| 9.0|                0.15|              -4.225|         0|                0.06|126.942|             4|                 875|         3.49|             0.00434|\n",
            "| 13|          Can't Stop|             81|             0.618|                 938|            null| 9.0|16.699.999.999.99...|              -3.442|         1|                 456| 91.455|             4|                 875|         4.48|              0.0179|\n",
            "| 14|          Chop Suey!|             69|              0.42|                 929|            7.46| 7.0|                 122|              -3.899|         0|                 121|127.204|             4|                 0.3|          3.5|            0.000353|\n",
            "| 15|         Take Me Out|             77|             0.278|6.759.999.999.999...|            8.99| 9.0|                 136|              -8.821|         1|                 371|104.545|             4|                 494|         3.95|            0.000423|\n",
            "| 16|          I Miss You|             71|             0.659|                 778|         6.79E-6|11.0|                 841|-6.422.999.999.99...|         1|                 379|110.022|             4|                 623|         3.79|             0.00136|\n",
            "| 17|         Best of You|             62|              0.37|                 944|             6.0| 1.0|                 135|              -4.979|         0|                 767|130.315|             4|                 345|         4.28|             0.00701|\n",
            "| 18|I Write Sins Not ...|             77|0.5670000000000001|                 795|            null| 9.0|                 114|              -4.985|         0|                 134| 170.06|             4|                 635|         3.13|              0.0938|\n",
            "| 19|          Kryptonite|             79|             0.545|                 865|         1.12E-5|11.0|                 168|-5.707.999.999.99...|         0|                 286|  99.01|             4|5.429.999.999.999...|          3.9|0.006640000000000001|\n",
            "+---+--------------------+---------------+------------------+--------------------+----------------+----+--------------------+--------------------+----------+--------------------+-------+--------------+--------------------+-------------+--------------------+\n",
            "only showing top 20 rows\n",
            "\n"
          ]
        }
      ]
    },
    {
      "cell_type": "code",
      "source": [
        "from pyspark.sql.functions import round"
      ],
      "metadata": {
        "id": "--1Go7pAkwKL"
      },
      "execution_count": null,
      "outputs": []
    },
    {
      "cell_type": "code",
      "source": [
        "df_backup2=df"
      ],
      "metadata": {
        "id": "Z6C6VGsplHFA"
      },
      "execution_count": null,
      "outputs": []
    },
    {
      "cell_type": "code",
      "source": [
        "df = df.withColumn(\"instrumentalness_2\", round(col(\"instrumentalness\").cast(\"decimal(38,20)\").cast(\"float\"), 6))"
      ],
      "metadata": {
        "id": "OolwZcMKkmVN"
      },
      "execution_count": null,
      "outputs": []
    },
    {
      "cell_type": "code",
      "source": [
        "from pyspark.sql.functions import col, regexp_replace"
      ],
      "metadata": {
        "id": "PQ8Wukscllyq"
      },
      "execution_count": null,
      "outputs": []
    },
    {
      "cell_type": "code",
      "source": [
        "df = df.withColumn(\"instrumentalness_2\", regexp_replace(col(\"instrumentalness_2\"), \"[^\\\\d\\\\.]\",\"\").cast(\"float\"))"
      ],
      "metadata": {
        "id": "Cyg97emJlCO9"
      },
      "execution_count": null,
      "outputs": []
    },
    {
      "cell_type": "code",
      "source": [
        "df.show()"
      ],
      "metadata": {
        "colab": {
          "base_uri": "https://localhost:8080/"
        },
        "id": "hQPDWWoTlpLz",
        "outputId": "9cc5b09e-9465-4967-f28b-ccdf3d51c429"
      },
      "execution_count": null,
      "outputs": [
        {
          "output_type": "stream",
          "name": "stdout",
          "text": [
            "+---+--------------------+---------------+------------------+--------------------+--------------------+----+--------------------+--------------------+----------+--------------------+-------+--------------+--------------------+-------------+--------------------+------------------+\n",
            "|_c0|           song_name|song_popularity|      danceability|              energy|    instrumentalness| key|            liveness|            loudness|audio_mode|         speechiness|  tempo|time_signature|       audio_valence|song_duration|      acousticness_2|instrumentalness_2|\n",
            "+---+--------------------+---------------+------------------+--------------------+--------------------+----+--------------------+--------------------+----------+--------------------+-------+--------------+--------------------+-------------+--------------------+------------------+\n",
            "|  0|Boulevard of Brok...|             73|             0.496|                 682|            2.94e-05| 8.0|                 589|              -4.095|         1|                 294| 167.06|             4|                 474|         4.37|0.005520000000000001|              2.95|\n",
            "|  1|          In The End|             66|             0.542|                 853|                 0.0| 3.0|                 108|              -6.407|         0|                 498|105.256|             4|                0.37|         3.62|              0.0103|               0.0|\n",
            "|  2|   Seven Nation Army|             76|             0.737|                 463|                 447| 0.0|                 255|-78.279.999.999.9...|         1|                 792|123.881|             4|                 324|         3.86|             0.00817|             447.0|\n",
            "|  3|          By The Way|             74|             0.451|                0.97|                 355| 0.0|                 102|              -4.938|         1|                 107|122.444|             4|                 198|         3.62|              0.0264|             355.0|\n",
            "|  4|   How You Remind Me|             56|             0.447|7.659.999.999.999...|                 0.0|10.0|                 113|              -5.065|         1|                 313|172.011|             4|                 574|         3.73|            0.000954|               0.0|\n",
            "|  5|    Bring Me To Life|             80|             0.316|                 945|            1.85e-06| 4.0|                 396|              -3.169|         0|                 124|189.931|             4|                0.32|         3.93|             0.00895|              2.06|\n",
            "|  6|         Last Resort|             81|             0.581|                 887|                 111| 4.0|                 268|              -3.659|         0|                 624| 90.578|             4|7.240.000.000.000...|         3.33|            0.000504|             111.0|\n",
            "|  7|Are You Gonna Be ...|             76|             0.613|                 953|                 582| 2.0|                 152|              -3.435|         1|                 855|105.046|             4|                 537|         3.56|             0.00148|             582.0|\n",
            "|  8|      Mr. Brightside|             80|              0.33|                 936|                 0.0| 1.0|                 926|               -3.66|         1|                 917|148.112|             4|                 234|         3.71|             0.00108|               0.0|\n",
            "|  9|         Sex on Fire|             81|             0.542|                 905|                 104| 9.0|                 136|              -5.653|         1|54.000.000.000.00...|153.398|             4|                 374|         3.39|             0.00172|             104.0|\n",
            "| 10|          The Middle|             78|             0.629|                 897|                 0.0| 2.0|                 263|              -3.401|         1|                 483|161.944|             4|                0.93|          2.8|              0.0424|               0.0|\n",
            "| 11|                Numb|             63|             0.496|                 863|                 0.0| 9.0|                 639|-41.530.000.000.0...|         1|                 381|110.018|             4|                 243|         3.09|              0.0046|               0.0|\n",
            "| 12|     Smooth Criminal|             75|             0.647|                 964|                  36| 9.0|                0.15|              -4.225|         0|                0.06|126.942|             4|                 875|         3.49|             0.00434|              36.0|\n",
            "| 13|          Can't Stop|             81|             0.618|                 938|                 0.0| 9.0|16.699.999.999.99...|              -3.442|         1|                 456| 91.455|             4|                 875|         4.48|              0.0179|               0.0|\n",
            "| 14|          Chop Suey!|             69|              0.42|                 929|7.469.999.999.999...| 7.0|                 122|              -3.899|         0|                 121|127.204|             4|                 0.3|          3.5|            0.000353|              null|\n",
            "| 15|         Take Me Out|             77|             0.278|6.759.999.999.999...|8.990.000.000.000...| 9.0|                 136|              -8.821|         1|                 371|104.545|             4|                 494|         3.95|            0.000423|              null|\n",
            "| 16|          I Miss You|             71|             0.659|                 778|            6.79e-06|11.0|                 841|-6.422.999.999.99...|         1|                 379|110.022|             4|                 623|         3.79|             0.00136|              7.06|\n",
            "| 17|         Best of You|             62|              0.37|                 944|             2.9e-06| 1.0|                 135|              -4.979|         0|                 767|130.315|             4|                 345|         4.28|             0.00701|              3.06|\n",
            "| 18|I Write Sins Not ...|             77|0.5670000000000001|                 795|                 0.0| 9.0|                 114|              -4.985|         0|                 134| 170.06|             4|                 635|         3.13|              0.0938|               0.0|\n",
            "| 19|          Kryptonite|             79|             0.545|                 865|            1.12e-05|11.0|                 168|-5.707.999.999.99...|         0|                 286|  99.01|             4|5.429.999.999.999...|          3.9|0.006640000000000001|              1.15|\n",
            "+---+--------------------+---------------+------------------+--------------------+--------------------+----+--------------------+--------------------+----------+--------------------+-------+--------------+--------------------+-------------+--------------------+------------------+\n",
            "only showing top 20 rows\n",
            "\n"
          ]
        }
      ]
    },
    {
      "cell_type": "code",
      "source": [
        "df = df.fillna(0.0, subset='instrumentalness_2')"
      ],
      "metadata": {
        "id": "wgrpCuXMl6at"
      },
      "execution_count": null,
      "outputs": []
    },
    {
      "cell_type": "code",
      "source": [
        "df = df_backup"
      ],
      "metadata": {
        "id": "dqvzbeSrhkCK"
      },
      "execution_count": null,
      "outputs": []
    },
    {
      "cell_type": "code",
      "source": [
        "df = df.withColumn('danceability', F.split(F.col('danceability'), 'mol/L').getItem(0))"
      ],
      "metadata": {
        "id": "EeOdlXSPhtos"
      },
      "execution_count": null,
      "outputs": []
    },
    {
      "cell_type": "code",
      "source": [
        "df.show()"
      ],
      "metadata": {
        "colab": {
          "base_uri": "https://localhost:8080/"
        },
        "id": "mo4huyRXiNnv",
        "outputId": "d052baff-8d4b-4043-b937-f5c64ca37507"
      },
      "execution_count": null,
      "outputs": [
        {
          "output_type": "stream",
          "name": "stdout",
          "text": [
            "+---+--------------------+---------------+--------------------+------------------+--------------------+--------------------+----+--------------------+--------------------+----------+--------------------+-------+--------------+--------------------+-------------+--------------------+\n",
            "|_c0|           song_name|song_popularity|        acousticness|      danceability|              energy|    instrumentalness| key|            liveness|            loudness|audio_mode|         speechiness|  tempo|time_signature|       audio_valence|song_duration|      acousticness_2|\n",
            "+---+--------------------+---------------+--------------------+------------------+--------------------+--------------------+----+--------------------+--------------------+----------+--------------------+-------+--------------+--------------------+-------------+--------------------+\n",
            "|  0|Boulevard of Brok...|             73|0.005520000000000...|             0.496|                 682|            2.94e-05| 8.0|                 589|              -4.095|         1|                 294| 167.06|             4|                 474|         4.37|0.005520000000000001|\n",
            "|  1|          In The End|             66|            0.0103kg|             0.542|                 853|                 0.0| 3.0|                 108|              -6.407|         0|                 498|105.256|             4|                0.37|         3.62|              0.0103|\n",
            "|  2|   Seven Nation Army|             76|           0.00817kg|             0.737|                 463|                 447| 0.0|                 255|-78.279.999.999.9...|         1|                 792|123.881|             4|                 324|         3.86|             0.00817|\n",
            "|  3|          By The Way|             74|            0.0264kg|             0.451|                0.97|                 355| 0.0|                 102|              -4.938|         1|                 107|122.444|             4|                 198|         3.62|              0.0264|\n",
            "|  4|   How You Remind Me|             56|          0.000954kg|             0.447|7.659.999.999.999...|                 0.0|10.0|                 113|              -5.065|         1|                 313|172.011|             4|                 574|         3.73|            0.000954|\n",
            "|  5|    Bring Me To Life|             80|           0.00895kg|             0.316|                 945|            1.85e-06| 4.0|                 396|              -3.169|         0|                 124|189.931|             4|                0.32|         3.93|             0.00895|\n",
            "|  6|         Last Resort|             81|          0.000504kg|             0.581|                 887|                 111| 4.0|                 268|              -3.659|         0|                 624| 90.578|             4|7.240.000.000.000...|         3.33|            0.000504|\n",
            "|  7|Are You Gonna Be ...|             76|           0.00148kg|             0.613|                 953|                 582| 2.0|                 152|              -3.435|         1|                 855|105.046|             4|                 537|         3.56|             0.00148|\n",
            "|  8|      Mr. Brightside|             80|           0.00108kg|              0.33|                 936|                 0.0| 1.0|                 926|               -3.66|         1|                 917|148.112|             4|                 234|         3.71|             0.00108|\n",
            "|  9|         Sex on Fire|             81|           0.00172kg|             0.542|                 905|                 104| 9.0|                 136|              -5.653|         1|54.000.000.000.00...|153.398|             4|                 374|         3.39|             0.00172|\n",
            "| 10|          The Middle|             78|            0.0424kg|             0.629|                 897|                 0.0| 2.0|                 263|              -3.401|         1|                 483|161.944|             4|                0.93|          2.8|              0.0424|\n",
            "| 11|                Numb|             63|            0.0046kg|             0.496|                 863|                 0.0| 9.0|                 639|-41.530.000.000.0...|         1|                 381|110.018|             4|                 243|         3.09|              0.0046|\n",
            "| 12|     Smooth Criminal|             75|           0.00434kg|             0.647|                 964|                  36| 9.0|                0.15|              -4.225|         0|                0.06|126.942|             4|                 875|         3.49|             0.00434|\n",
            "| 13|          Can't Stop|             81|            0.0179kg|             0.618|                 938|                 0.0| 9.0|16.699.999.999.99...|              -3.442|         1|                 456| 91.455|             4|                 875|         4.48|              0.0179|\n",
            "| 14|          Chop Suey!|             69|          0.000353kg|              0.42|                 929|7.469.999.999.999...| 7.0|                 122|              -3.899|         0|                 121|127.204|             4|                 0.3|          3.5|            0.000353|\n",
            "| 15|         Take Me Out|             77|          0.000423kg|             0.278|6.759.999.999.999...|8.990.000.000.000...| 9.0|                 136|              -8.821|         1|                 371|104.545|             4|                 494|         3.95|            0.000423|\n",
            "| 16|          I Miss You|             71|           0.00136kg|             0.659|                 778|            6.79e-06|11.0|                 841|-6.422.999.999.99...|         1|                 379|110.022|             4|                 623|         3.79|             0.00136|\n",
            "| 17|         Best of You|             62|           0.00701kg|              0.37|                 944|             2.9e-06| 1.0|                 135|              -4.979|         0|                 767|130.315|             4|                 345|         4.28|             0.00701|\n",
            "| 18|I Write Sins Not ...|             77|            0.0938kg|0.5670000000000001|                 795|                 0.0| 9.0|                 114|              -4.985|         0|                 134| 170.06|             4|                 635|         3.13|              0.0938|\n",
            "| 19|          Kryptonite|             79|0.006640000000000...|             0.545|                 865|            1.12e-05|11.0|                 168|-5.707.999.999.99...|         0|                 286|  99.01|             4|5.429.999.999.999...|          3.9|0.006640000000000001|\n",
            "+---+--------------------+---------------+--------------------+------------------+--------------------+--------------------+----+--------------------+--------------------+----------+--------------------+-------+--------------+--------------------+-------------+--------------------+\n",
            "only showing top 20 rows\n",
            "\n"
          ]
        }
      ]
    }
  ]
}